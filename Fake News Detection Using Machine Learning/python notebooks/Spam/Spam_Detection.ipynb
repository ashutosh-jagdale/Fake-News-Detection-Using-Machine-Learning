{
 "cells": [
  {
   "cell_type": "code",
   "execution_count": 1,
   "metadata": {},
   "outputs": [],
   "source": [
    "import numpy as np\n",
    "import matplotlib.pyplot as plt\n",
    "import pandas as pd\n",
    "import pickle as pkl\n",
    "import nltk\n",
    "from nltk.corpus import stopwords"
   ]
  },
  {
   "cell_type": "code",
   "execution_count": 2,
   "metadata": {},
   "outputs": [],
   "source": [
    "messages = [line.rstrip() for line in open('SMSSpamCollection')]"
   ]
  },
  {
   "cell_type": "code",
   "execution_count": 3,
   "metadata": {},
   "outputs": [
    {
     "name": "stdout",
     "output_type": "stream",
     "text": [
      "5574\n"
     ]
    }
   ],
   "source": [
    "print(len(messages))"
   ]
  },
  {
   "cell_type": "code",
   "execution_count": 4,
   "metadata": {
    "scrolled": true
   },
   "outputs": [
    {
     "name": "stdout",
     "output_type": "stream",
     "text": [
      "0 ham\tGo until jurong point, crazy.. Available only in bugis n great world la e buffet... Cine there got amore wat...\n",
      "\n",
      "\n",
      "1 ham\tOk lar... Joking wif u oni...\n",
      "\n",
      "\n",
      "2 spam\tFree entry in 2 a wkly comp to win FA Cup final tkts 21st May 2005. Text FA to 87121 to receive entry question(std txt rate)T&C's apply 08452810075over18's\n",
      "\n",
      "\n",
      "3 ham\tU dun say so early hor... U c already then say...\n",
      "\n",
      "\n",
      "4 ham\tNah I don't think he goes to usf, he lives around here though\n",
      "\n",
      "\n",
      "5 spam\tFreeMsg Hey there darling it's been 3 week's now and no word back! I'd like some fun you up for it still? Tb ok! XxX std chgs to send, Â£1.50 to rcv\n",
      "\n",
      "\n",
      "6 ham\tEven my brother is not like to speak with me. They treat me like aids patent.\n",
      "\n",
      "\n",
      "7 ham\tAs per your request 'Melle Melle (Oru Minnaminunginte Nurungu Vettam)' has been set as your callertune for all Callers. Press *9 to copy your friends Callertune\n",
      "\n",
      "\n",
      "8 spam\tWINNER!! As a valued network customer you have been selected to receivea Â£900 prize reward! To claim call 09061701461. Claim code KL341. Valid 12 hours only.\n",
      "\n",
      "\n",
      "9 spam\tHad your mobile 11 months or more? U R entitled to Update to the latest colour mobiles with camera for Free! Call The Mobile Update Co FREE on 08002986030\n",
      "\n",
      "\n"
     ]
    }
   ],
   "source": [
    "for message_no, message in enumerate(messages[:10]):\n",
    "    print(message_no, message)\n",
    "    print('\\n')"
   ]
  },
  {
   "cell_type": "code",
   "execution_count": 5,
   "metadata": {},
   "outputs": [
    {
     "data": {
      "text/html": [
       "<div>\n",
       "<style scoped>\n",
       "    .dataframe tbody tr th:only-of-type {\n",
       "        vertical-align: middle;\n",
       "    }\n",
       "\n",
       "    .dataframe tbody tr th {\n",
       "        vertical-align: top;\n",
       "    }\n",
       "\n",
       "    .dataframe thead th {\n",
       "        text-align: right;\n",
       "    }\n",
       "</style>\n",
       "<table border=\"1\" class=\"dataframe\">\n",
       "  <thead>\n",
       "    <tr style=\"text-align: right;\">\n",
       "      <th></th>\n",
       "      <th>label</th>\n",
       "      <th>message</th>\n",
       "    </tr>\n",
       "  </thead>\n",
       "  <tbody>\n",
       "    <tr>\n",
       "      <th>0</th>\n",
       "      <td>ham</td>\n",
       "      <td>Go until jurong point, crazy.. Available only ...</td>\n",
       "    </tr>\n",
       "    <tr>\n",
       "      <th>1</th>\n",
       "      <td>ham</td>\n",
       "      <td>Ok lar... Joking wif u oni...</td>\n",
       "    </tr>\n",
       "    <tr>\n",
       "      <th>2</th>\n",
       "      <td>spam</td>\n",
       "      <td>Free entry in 2 a wkly comp to win FA Cup fina...</td>\n",
       "    </tr>\n",
       "    <tr>\n",
       "      <th>3</th>\n",
       "      <td>ham</td>\n",
       "      <td>U dun say so early hor... U c already then say...</td>\n",
       "    </tr>\n",
       "    <tr>\n",
       "      <th>4</th>\n",
       "      <td>ham</td>\n",
       "      <td>Nah I don't think he goes to usf, he lives aro...</td>\n",
       "    </tr>\n",
       "  </tbody>\n",
       "</table>\n",
       "</div>"
      ],
      "text/plain": [
       "  label                                            message\n",
       "0   ham  Go until jurong point, crazy.. Available only ...\n",
       "1   ham                      Ok lar... Joking wif u oni...\n",
       "2  spam  Free entry in 2 a wkly comp to win FA Cup fina...\n",
       "3   ham  U dun say so early hor... U c already then say...\n",
       "4   ham  Nah I don't think he goes to usf, he lives aro..."
      ]
     },
     "execution_count": 5,
     "metadata": {},
     "output_type": "execute_result"
    }
   ],
   "source": [
    "messages = pd.read_csv('SMSSpamCollection', sep='\\t',\n",
    "                           names=[\"label\", \"message\"])\n",
    "messages.head()"
   ]
  },
  {
   "cell_type": "code",
   "execution_count": 6,
   "metadata": {},
   "outputs": [
    {
     "data": {
      "text/html": [
       "<div>\n",
       "<style scoped>\n",
       "    .dataframe tbody tr th:only-of-type {\n",
       "        vertical-align: middle;\n",
       "    }\n",
       "\n",
       "    .dataframe tbody tr th {\n",
       "        vertical-align: top;\n",
       "    }\n",
       "\n",
       "    .dataframe thead th {\n",
       "        text-align: right;\n",
       "    }\n",
       "</style>\n",
       "<table border=\"1\" class=\"dataframe\">\n",
       "  <thead>\n",
       "    <tr style=\"text-align: right;\">\n",
       "      <th></th>\n",
       "      <th>label</th>\n",
       "      <th>message</th>\n",
       "    </tr>\n",
       "  </thead>\n",
       "  <tbody>\n",
       "    <tr>\n",
       "      <th>count</th>\n",
       "      <td>5572</td>\n",
       "      <td>5572</td>\n",
       "    </tr>\n",
       "    <tr>\n",
       "      <th>unique</th>\n",
       "      <td>2</td>\n",
       "      <td>5169</td>\n",
       "    </tr>\n",
       "    <tr>\n",
       "      <th>top</th>\n",
       "      <td>ham</td>\n",
       "      <td>Sorry, I'll call later</td>\n",
       "    </tr>\n",
       "    <tr>\n",
       "      <th>freq</th>\n",
       "      <td>4825</td>\n",
       "      <td>30</td>\n",
       "    </tr>\n",
       "  </tbody>\n",
       "</table>\n",
       "</div>"
      ],
      "text/plain": [
       "       label                 message\n",
       "count   5572                    5572\n",
       "unique     2                    5169\n",
       "top      ham  Sorry, I'll call later\n",
       "freq    4825                      30"
      ]
     },
     "execution_count": 6,
     "metadata": {},
     "output_type": "execute_result"
    }
   ],
   "source": [
    "messages.describe()"
   ]
  },
  {
   "cell_type": "code",
   "execution_count": 7,
   "metadata": {},
   "outputs": [
    {
     "data": {
      "text/html": [
       "<div>\n",
       "<style scoped>\n",
       "    .dataframe tbody tr th:only-of-type {\n",
       "        vertical-align: middle;\n",
       "    }\n",
       "\n",
       "    .dataframe tbody tr th {\n",
       "        vertical-align: top;\n",
       "    }\n",
       "\n",
       "    .dataframe thead tr th {\n",
       "        text-align: left;\n",
       "    }\n",
       "\n",
       "    .dataframe thead tr:last-of-type th {\n",
       "        text-align: right;\n",
       "    }\n",
       "</style>\n",
       "<table border=\"1\" class=\"dataframe\">\n",
       "  <thead>\n",
       "    <tr>\n",
       "      <th></th>\n",
       "      <th colspan=\"4\" halign=\"left\">message</th>\n",
       "    </tr>\n",
       "    <tr>\n",
       "      <th></th>\n",
       "      <th>count</th>\n",
       "      <th>unique</th>\n",
       "      <th>top</th>\n",
       "      <th>freq</th>\n",
       "    </tr>\n",
       "    <tr>\n",
       "      <th>label</th>\n",
       "      <th></th>\n",
       "      <th></th>\n",
       "      <th></th>\n",
       "      <th></th>\n",
       "    </tr>\n",
       "  </thead>\n",
       "  <tbody>\n",
       "    <tr>\n",
       "      <th>ham</th>\n",
       "      <td>4825</td>\n",
       "      <td>4516</td>\n",
       "      <td>Sorry, I'll call later</td>\n",
       "      <td>30</td>\n",
       "    </tr>\n",
       "    <tr>\n",
       "      <th>spam</th>\n",
       "      <td>747</td>\n",
       "      <td>653</td>\n",
       "      <td>Please call our customer service representativ...</td>\n",
       "      <td>4</td>\n",
       "    </tr>\n",
       "  </tbody>\n",
       "</table>\n",
       "</div>"
      ],
      "text/plain": [
       "      message                                                               \n",
       "        count unique                                                top freq\n",
       "label                                                                       \n",
       "ham      4825   4516                             Sorry, I'll call later   30\n",
       "spam      747    653  Please call our customer service representativ...    4"
      ]
     },
     "execution_count": 7,
     "metadata": {},
     "output_type": "execute_result"
    }
   ],
   "source": [
    "messages.groupby('label').describe()"
   ]
  },
  {
   "cell_type": "code",
   "execution_count": 8,
   "metadata": {},
   "outputs": [
    {
     "data": {
      "text/html": [
       "<div>\n",
       "<style scoped>\n",
       "    .dataframe tbody tr th:only-of-type {\n",
       "        vertical-align: middle;\n",
       "    }\n",
       "\n",
       "    .dataframe tbody tr th {\n",
       "        vertical-align: top;\n",
       "    }\n",
       "\n",
       "    .dataframe thead th {\n",
       "        text-align: right;\n",
       "    }\n",
       "</style>\n",
       "<table border=\"1\" class=\"dataframe\">\n",
       "  <thead>\n",
       "    <tr style=\"text-align: right;\">\n",
       "      <th></th>\n",
       "      <th>label</th>\n",
       "      <th>message</th>\n",
       "      <th>length</th>\n",
       "    </tr>\n",
       "  </thead>\n",
       "  <tbody>\n",
       "    <tr>\n",
       "      <th>0</th>\n",
       "      <td>ham</td>\n",
       "      <td>Go until jurong point, crazy.. Available only ...</td>\n",
       "      <td>111</td>\n",
       "    </tr>\n",
       "    <tr>\n",
       "      <th>1</th>\n",
       "      <td>ham</td>\n",
       "      <td>Ok lar... Joking wif u oni...</td>\n",
       "      <td>29</td>\n",
       "    </tr>\n",
       "    <tr>\n",
       "      <th>2</th>\n",
       "      <td>spam</td>\n",
       "      <td>Free entry in 2 a wkly comp to win FA Cup fina...</td>\n",
       "      <td>155</td>\n",
       "    </tr>\n",
       "    <tr>\n",
       "      <th>3</th>\n",
       "      <td>ham</td>\n",
       "      <td>U dun say so early hor... U c already then say...</td>\n",
       "      <td>49</td>\n",
       "    </tr>\n",
       "    <tr>\n",
       "      <th>4</th>\n",
       "      <td>ham</td>\n",
       "      <td>Nah I don't think he goes to usf, he lives aro...</td>\n",
       "      <td>61</td>\n",
       "    </tr>\n",
       "  </tbody>\n",
       "</table>\n",
       "</div>"
      ],
      "text/plain": [
       "  label                                            message  length\n",
       "0   ham  Go until jurong point, crazy.. Available only ...     111\n",
       "1   ham                      Ok lar... Joking wif u oni...      29\n",
       "2  spam  Free entry in 2 a wkly comp to win FA Cup fina...     155\n",
       "3   ham  U dun say so early hor... U c already then say...      49\n",
       "4   ham  Nah I don't think he goes to usf, he lives aro...      61"
      ]
     },
     "execution_count": 8,
     "metadata": {},
     "output_type": "execute_result"
    }
   ],
   "source": [
    "messages['length'] = messages['message'].apply(len)\n",
    "messages.head()"
   ]
  },
  {
   "cell_type": "code",
   "execution_count": 9,
   "metadata": {},
   "outputs": [],
   "source": [
    "import seaborn as sns\n",
    "\n",
    "%matplotlib inline"
   ]
  },
  {
   "cell_type": "code",
   "execution_count": 10,
   "metadata": {},
   "outputs": [
    {
     "data": {
      "text/plain": [
       "<matplotlib.axes._subplots.AxesSubplot at 0x2126324fc48>"
      ]
     },
     "execution_count": 10,
     "metadata": {},
     "output_type": "execute_result"
    },
    {
     "data": {
      "image/png": "[encoded data removed]",
      "text/plain": [
       "<Figure size 432x288 with 1 Axes>"
      ]
     },
     "metadata": {
      "needs_background": "light"
     },
     "output_type": "display_data"
    }
   ],
   "source": [
    "messages['length'].plot(bins=50, kind='hist')"
   ]
  },
  {
   "cell_type": "code",
   "execution_count": 11,
   "metadata": {},
   "outputs": [
    {
     "data": {
      "text/plain": [
       "count    5572.000000\n",
       "mean       80.489950\n",
       "std        59.942907\n",
       "min         2.000000\n",
       "25%        36.000000\n",
       "50%        62.000000\n",
       "75%       122.000000\n",
       "max       910.000000\n",
       "Name: length, dtype: float64"
      ]
     },
     "execution_count": 11,
     "metadata": {},
     "output_type": "execute_result"
    }
   ],
   "source": [
    "messages.length.describe()"
   ]
  },
  {
   "cell_type": "code",
   "execution_count": 12,
   "metadata": {},
   "outputs": [
    {
     "data": {
      "text/plain": [
       "\"For me the love should start with attraction.i should feel that I need her every time around me.she should be the first thing which comes in my thoughts.I would start the day and end it with her.she should be there every time I dream.love will be then when my every breath has her name.my life should happen around her.my life will be named to her.I would cry for her.will give all my happiness and take all her sorrows.I will be ready to fight with anyone for her.I will be in love when I will be doing the craziest things for her.love will be when I don't have to proove anyone that my girl is the most beautiful lady on the whole planet.I will always be singing praises for her.love will be when I start up making chicken curry and end up makiing sambar.life will be the most beautiful then.will get every morning and thank god for the day because she is with me.I would like to say a lot..will tell later..\""
      ]
     },
     "execution_count": 12,
     "metadata": {},
     "output_type": "execute_result"
    }
   ],
   "source": [
    "messages[messages['length'] == 910]['message'].iloc[0]"
   ]
  },
  {
   "cell_type": "code",
   "execution_count": 13,
   "metadata": {},
   "outputs": [
    {
     "data": {
      "text/plain": [
       "array([<matplotlib.axes._subplots.AxesSubplot object at 0x00000212657DE348>,\n",
       "       <matplotlib.axes._subplots.AxesSubplot object at 0x0000021265817548>],\n",
       "      dtype=object)"
      ]
     },
     "execution_count": 13,
     "metadata": {},
     "output_type": "execute_result"
    },
    {
     "data": {
      "image/png": "[encoded data removed]",
      "text/plain": [
       "<Figure size 864x288 with 2 Axes>"
      ]
     },
     "metadata": {
      "needs_background": "light"
     },
     "output_type": "display_data"
    }
   ],
   "source": [
    "messages.hist(column='length', by='label', bins=50,figsize=(12,4))"
   ]
  },
  {
   "cell_type": "code",
   "execution_count": 14,
   "metadata": {},
   "outputs": [],
   "source": [
    "import string\n",
    "def text_process(mess):\n",
    "    # Check characters to see if they are in punctuation\n",
    "    nopunc = [char for char in mess if char not in string.punctuation]\n",
    "\n",
    "    # Join the characters again to form the string.\n",
    "    nopunc = ''.join(nopunc)\n",
    "    \n",
    "    # Now just remove any stopwords\n",
    "    return [word for word in nopunc.split() if word.lower() not in stopwords.words('english')]"
   ]
  },
  {
   "cell_type": "code",
   "execution_count": 15,
   "metadata": {},
   "outputs": [
    {
     "data": {
      "text/plain": [
       "0    [Go, jurong, point, crazy, Available, bugis, n...\n",
       "1                       [Ok, lar, Joking, wif, u, oni]\n",
       "2    [Free, entry, 2, wkly, comp, win, FA, Cup, fin...\n",
       "3        [U, dun, say, early, hor, U, c, already, say]\n",
       "4    [Nah, dont, think, goes, usf, lives, around, t...\n",
       "Name: message, dtype: object"
      ]
     },
     "execution_count": 15,
     "metadata": {},
     "output_type": "execute_result"
    }
   ],
   "source": [
    "messages['message'].head(5).apply(text_process) #checking the function"
   ]
  },
  {
   "cell_type": "code",
   "execution_count": 16,
   "metadata": {},
   "outputs": [],
   "source": [
    "from sklearn.feature_extraction.text import CountVectorizer"
   ]
  },
  {
   "cell_type": "code",
   "execution_count": 17,
   "metadata": {
    "scrolled": true
   },
   "outputs": [
    {
     "name": "stdout",
     "output_type": "stream",
     "text": [
      "{'Go': 2060, 'jurong': 7555, 'point': 8917, 'crazy': 5769, 'Available': 1110, 'bugis': 5218, 'n': 8336, 'great': 6937, 'world': 11163, 'la': 7668, 'e': 6217, 'buffet': 5217, 'Cine': 1483, 'got': 6906, 'amore': 4653, 'wat': 10965, 'Ok': 3064, 'lar': 7701, 'Joking': 2451, 'wif': 11072, 'u': 10698, 'oni': 8590, 'Free': 1941, 'entry': 6331, '2': 423, 'wkly': 11123, 'comp': 5619, 'win': 11084, 'FA': 1833, 'Cup': 1551, 'final': 6557, 'tkts': 10512, '21st': 443, 'May': 2804, '2005': 430, 'Text': 3953, '87121': 871, 'receive': 9252, 'questionstd': 9159, 'txt': 10686, 'rateTCs': 9200, 'apply': 4731, '08452810075over18s': 73, 'U': 4068, 'dun': 6204, 'say': 9554, 'early': 6222, 'hor': 7186, 'c': 5261, 'already': 4629, 'Nah': 2948, 'dont': 6123, 'think': 10433, 'goes': 6877, 'usf': 10799, 'lives': 7842, 'around': 4777, 'though': 10450, 'FreeMsg': 1943, 'Hey': 2222, 'darling': 5864, '3': 543, 'weeks': 11011, 'word': 11150, 'back': 4893, 'Id': 2346, 'like': 7800, 'fun': 6755, 'still': 10093, 'Tb': 3930, 'ok': 8567, 'XxX': 4379, 'std': 10073, 'chgs': 5467, 'send': 9641, '£150': 11371, 'rcv': 9209, 'Even': 1802, 'brother': 5193, 'speak': 9971, 'treat': 10629, 'aids': 4590, 'patent': 8761, 'per': 8796, 'request': 9356, 'Melle': 2814, 'Oru': 3098, 'Minnaminunginte': 2833, 'Nurungu': 3023, 'Vettam': 4170, 'set': 9664, 'callertune': 5292, 'Callers': 1421, 'Press': 3278, '9': 909, 'copy': 5716, 'friends': 6719, 'Callertune': 1422, 'WINNER': 4221, 'valued': 10828, 'network': 8406, 'customer': 5820, 'selected': 9628, 'receivea': 9253, '£900': 11412, 'prize': 9058, 'reward': 9413, 'claim': 5519, 'call': 5275, '09061701461': 219, 'Claim': 1485, 'code': 5574, 'KL341': 2477, 'Valid': 4161, '12': 326, 'hours': 7201, 'mobile': 8216, '11': 315, 'months': 8251, 'R': 3321, 'entitled': 6328, 'Update': 4128, 'latest': 7716, 'colour': 5594, 'mobiles': 8217, 'camera': 5304, 'Call': 1417, 'Mobile': 2852, 'Co': 1492, 'FREE': 1865, '08002986030': 58, 'Im': 2352, 'gonna': 6890, 'home': 7159, 'soon': 9931, 'want': 10945, 'talk': 10303, 'stuff': 10153, 'anymore': 4701, 'tonight': 10557, 'k': 7561, 'Ive': 2394, 'cried': 5783, 'enough': 6319, 'today': 10524, 'SIX': 3495, 'chances': 5411, 'CASH': 1353, '100': 294, '20000': 427, 'pounds': 8975, 'CSH11': 1405, '87575': 875, 'Cost': 1524, '150pday': 364, '6days': 763, '16': 382, 'TsandCs': 4048, 'Reply': 3414, 'HL': 2139, '4': 605, 'info': 7354, 'URGENT': 4090, '1': 292, 'week': 11006, 'membership': 8110, '£100000': 11365, 'Prize': 3283, 'Jackpot': 2421, 'Txt': 4062, 'CLAIM': 1378, '81010': 821, 'TC': 3847, 'wwwdbuknet': 11231, 'LCCLTD': 2551, 'POBOX': 3138, '4403LDNW1A7RW18': 626, 'searching': 9597, 'right': 9422, 'words': 11154, 'thank': 10392, 'breather': 5166, 'promise': 9092, 'wont': 11145, 'take': 10295, 'help': 7089, 'granted': 6929, 'fulfil': 6751, 'wonderful': 11142, 'blessing': 5075, 'times': 10491, 'DATE': 1568, 'SUNDAY': 3567, 'XXXMobileMovieClub': 4370, 'use': 10793, 'credit': 5774, 'click': 5540, 'WAP': 4200, 'link': 7818, 'next': 8420, 'message': 8133, 'httpwap': 7224, 'xxxmobilemovieclubcomnQJKGIGHJJGCBL': 11273, 'Oh': 3059, 'kim': 7618, 'watching': 10970, 'Eh': 1769, 'remember': 9319, 'spell': 9985, 'name': 8348, 'Yes': 4425, 'v': 10816, 'naughty': 8368, 'make': 8000, 'wet': 11040, 'Fine': 1914, 'that\\x92s': 10405, 'way': 10979, 'feel': 6517, 'That\\x92s': 3964, 'gota': 6907, 'b': 4880, 'England': 1784, 'Macedonia': 2772, 'miss': 8191, 'goalsteam': 6870, 'news': 8415, 'ur': 10777, 'national': 8362, 'team': 10338, '87077': 870, 'eg': 6258, 'ENGLAND': 1728, 'TryWALES': 4042, 'SCOTLAND': 3460, '4txtú120': 677, 'POBOXox36504W45WQ': 3141, 'seriously': 9658, 'I‘m': 2401, 'going': 6882, 'try': 10655, 'ha': 6992, 'joking': 7534, 'ü': 11418, 'pay': 8769, 'first': 6584, 'da': 5832, 'stock': 10097, 'comin': 5609, 'Aft': 1019, 'finish': 6570, 'lunch': 7947, 'go': 6864, 'str': 10117, 'lor': 7888, 'Ard': 1084, 'smth': 9881, 'Ffffffffff': 1905, 'Alright': 1053, 'meet': 8092, 'sooner': 9932, 'forced': 6655, 'eat': 6234, 'slice': 9836, 'really': 9234, 'hungry': 7249, 'tho': 10446, 'sucks': 10186, 'Mark': 2794, 'getting': 6832, 'worried': 11169, 'knows': 7643, 'sick': 9764, 'turn': 10672, 'pizza': 8869, 'Lol': 2648, 'always': 4641, 'convincing': 5703, 'catch': 5374, 'bus': 5237, 'frying': 6741, 'egg': 6260, 'tea': 10332, 'eating': 6237, 'moms': 8235, 'left': 7748, 'dinner': 6045, 'Love': 2661, 'amp': 4655, 'packing': 8693, 'car': 5331, 'Ill': 2350, 'let': 7769, 'know': 7639, 'theres': 10421, 'room': 9460, 'Ahhh': 1028, 'Work': 4345, 'vaguely': 10819, 'Wait': 4256, 'thats': 10404, 'clear': 5534, 'sure': 10237, 'sarcastic': 9536, 'x': 11260, 'doesnt': 6099, 'live': 7839, 'us': 10787, 'Yeah': 4416, 'apologetic': 4719, 'fallen': 6468, 'actin': 4509, 'spoilt': 10005, 'child': 5483, 'caught': 5378, 'Till': 3997, 'badly': 4898, 'cheers': 5450, 'K': 2468, 'tell': 10354, 'anything': 4707, 'fear': 6509, 'fainting': 6459, 'housework': 7205, 'Quick': 3316, 'cuppa': 5810, 'Thanks': 3958, 'subscription': 10176, 'Ringtone': 3424, 'UK': 4074, 'charged': 5423, '£5month': 11404, 'Please': 3235, 'confirm': 5661, 'replying': 9351, 'YES': 4388, 'reply': 9349, 'Yup': 4450, 'look': 7880, 'timings': 10497, 'msg': 8283, 'Xuhui': 4377, 'learn': 7737, '2nd': 526, 'may': 8065, 'lesson': 7767, '8am': 903, 'Oops': 3085, 'roommates': 9463, 'done': 6120, 'see': 9613, 'letter': 7771, 'B': 1120, 'Anything': 1070, 'decide': 5915, 'Hello': 2209, 'Hows': 2279, 'saturday': 9546, 'texting': 10383, 'youd': 11318, 'decided': 5916, 'tomo': 10546, 'im': 7307, 'trying': 10657, 'invite': 7410, 'Pls': 3237, 'ahead': 4582, 'watts': 10977, 'wanted': 10947, 'weekend': 11008, 'Abiola': 999, 'forget': 6661, 'need': 8386, 'crave': 5766, 'love': 7913, 'sweet': 10261, 'Arabian': 1082, 'steed': 10079, 'Mmmmmm': 2846, 'Yummy': 4447, '07732584351': 29, 'Rodger': 3430, 'Burns': 1329, 'MSG': 2757, 'tried': 10638, 'sms': 9876, 'free': 6699, 'nokia': 8455, 'camcorder': 5302, '08000930705': 54, 'delivery': 5950, 'tomorrow': 10549, 'SEEING': 3464, 'Great': 2088, 'hope': 7177, 'man': 8009, 'well': 11023, 'endowed': 6303, 'ltgt': 7939, 'inches': 7333, 'callsmessagesmissed': 5298, 'calls': 5297, 'Didnt': 1663, 'get': 6824, 'hep': 7098, 'immunisation': 7315, 'nigeria': 8427, 'Fair': 1893, 'hopefully': 7182, 'tyler': 10692, 'cant': 5320, 'could': 5738, 'maybe': 8067, 'ask': 4799, 'bit': 5053, 'stubborn': 10143, 'didnt': 6014, 'even': 6369, 'hospital': 7192, 'kept': 7594, 'telling': 10355, 'weak': 10983, 'sucker': 10184, 'Hospitals': 2271, 'suckers': 10185, 'thinked': 10435, 'First': 1918, 'time': 10487, 'saw': 9553, 'class': 5527, 'gram': 6923, 'usually': 10805, 'runs': 9495, 'half': 7004, 'eighth': 6267, 'smarter': 9858, 'gets': 6828, 'almost': 4625, 'whole': 11063, 'second': 9601, 'fyi': 6768, 'ride': 9421, 'morning': 8256, 'hes': 7109, 'crashing': 5765, 'place': 8870, 'Wow': 4352, 'never': 8410, 'realized': 9232, 'embarassed': 6287, 'accomodations': 4492, 'thought': 10451, 'liked': 7801, 'since': 9788, 'best': 5014, 'seemed': 9619, 'happy': 7035, 'cave': 5382, 'sorry': 9941, 'give': 6850, 'offered': 8547, 'embarassing': 6288, 'SMS': 3506, 'ac': 4478, 'Sptv': 3762, 'New': 2968, 'Jersey': 2441, 'Devils': 1657, 'Detroit': 1656, 'Red': 3394, 'Wings': 4322, 'play': 8884, 'Ice': 2344, 'Hockey': 2249, 'Correct': 1522, 'Incorrect': 2360, 'End': 1782, 'END': 1726, 'SPTV': 3538, 'Mallika': 2784, 'Sherawat': 3653, 'yesterday': 11299, 'Find': 1913, 'ltURLgt': 7938, 'Congrats': 1513, 'year': 11290, 'special': 9973, 'cinema': 5515, 'pass': 8750, '09061209465': 214, 'C': 1337, 'Suprman': 3821, 'V': 4145, 'Matrix3': 2801, 'StarWars3': 3771, 'etc': 6359, 'bx420ip45we': 5256, '150pm': 365, 'Dont': 1694, 'Sorry': 3735, 'later': 7714, 'meeting': 8094, 'Tell': 3942, 'reached': 9216, 'Yesgauti': 4428, 'sehwag': 9625, 'odi': 8541, 'series': 9656, 'pick': 8844, 'burger': 5229, 'move': 8270, 'Pain': 3180, 'killing': 7615, 'Ha': 2168, 'good': 6892, 'joke': 7529, 'Girls': 2055, 'situation': 9808, 'seekers': 9616, 'part': 8739, 'checking': 5447, 'IQ': 2329, 'took': 10566, 'forever': 6658, 'come': 5601, 'double': 6134, 'check': 5444, 'hair': 7001, 'dresser': 6162, 'said': 9512, 'wun': 11208, 'cut': 5823, 'short': 9730, 'nice': 8423, 'pleased': 8895, 'advise': 4547, 'following': 6639, 'recent': 9256, 'review': 9411, 'Mob': 2849, 'awarded': 4873, '£1500': 11372, 'Bonus': 1282, '09066364589': 263, 'Today': 4011, 'song': 9927, 'dedicated': 5925, 'day': 5881, 'dedicate': 5924, 'Send': 3623, 'valuable': 10825, 'frnds': 6728, 'rply': 9476, 'Urgent': 4135, 'UR': 4087, 'complimentary': 5636, 'trip': 10639, 'EuroDisinc': 1799, 'Trav': 4032, 'AcoEntry41': 1008, '£1000': 11363, 'DIS': 1587, '186£150moreFrmMob': 391, 'ShrAcomOrSglSuplt10': 3673, 'LS1': 2589, '3AJ': 576, 'hear': 7066, 'new': 8413, 'Divorce': 1679, 'Barbie': 1225, 'comes': 5605, 'Kens': 2497, 'plane': 8877, 'month': 8248, 'end': 6298, 'Wah': 4254, 'lucky': 7944, 'save': 9549, 'money': 8241, 'Hee': 2203, 'Finished': 1917, 'HI': 2135, 'BABE': 1124, 'IM': 2308, 'HOME': 2145, 'WANNA': 4197, 'SOMETHING': 3515, 'XX': 4367, 'Kkwhere': 2527, 'youhow': 11321, 'performed': 8803, 'waiting': 10924, 'machan': 7969, 'Thats': 3963, 'cool': 5709, 'gentleman': 6818, 'dignity': 6036, 'respect': 9377, 'peoples': 8795, 'much': 8299, 'shy': 9760, 'pa': 8688, 'operate': 8606, 'Still': 3783, 'looking': 7883, 'job': 7516, 'Tas': 3927, 'earn': 6223, 'ah': 4580, 'hi': 7116, 'stop': 10106, 'urgnt': 10782, 'real': 9226, 'yo': 11308, 'tickets': 10478, 'one': 8586, 'jacket': 7477, 'used': 10794, 'multis': 8307, 'started': 10054, 'requests': 9357, 'pain': 8700, 'came': 5303, 'bed': 4973, 'Double': 1700, 'coins': 5580, 'factory': 6451, 'gotta': 6910, 'cash': 5363, 'nitros': 8445, 'babe': 4885, 'Ela': 1772, 'kanoil': 7577, 'download': 6140, 'wen': 11028, 'Don‘t': 1697, 'stand': 10043, 'close': 5546, 'you‘ll': 11338, 'something': 9915, 'another': 4686, 'night': 8428, 'spent': 9990, 'late': 7709, 'afternoon': 4563, 'casualty': 5372, 'means': 8083, 'havent': 7051, 'stuff42moro': 10154, 'includes': 7336, 'sheets': 9699, 'Smile': 3713, 'Pleasure': 3236, 'trouble': 10644, 'pours': 8977, 'Rain': 3368, 'sum1': 10204, 'Hurts': 2289, 'becoz': 4971, 'SOMEONE': 3513, 'Loves': 2667, 'Smiling': 3715, 'service': 9661, 'representative': 9354, '0800': 50, '169': 384, '6031': 726, '10am9pm': 309, 'guaranteed': 6969, '£5000': 11399, 'Havent': 2194, 'planning': 8881, 'buy': 5248, 'lido': 7783, '530': 697, 'show': 9744, 'work': 11155, 'ringtone': 9429, 'collected': 5587, 'Simply': 3683, 'text': 10378, 'password': 8758, 'MIX': 2732, '85069': 856, 'verify': 10846, 'Get': 2047, 'Usher': 4140, 'Britney': 1315, 'FML': 1857, 'PO': 3136, 'Box': 1292, '5249': 694, 'MK17': 2733, '92H': 914, '450Ppw': 636, 'Watching': 4277, 'telugu': 10359, 'moviewat': 8275, 'abt': 4474, 'loads': 7850, 'loans': 7852, 'Hi': 2225, 'Wk': 4331, 'hols': 7157, 'run': 9492, 'Forgot': 1934, 'hairdressers': 7003, 'appointment': 4735, 'four': 6685, 'shower': 9746, 'beforehand': 4985, 'cause': 5379, 'prob': 9062, 'cup': 5808, 'coffee': 5575, 'animation': 4673, 'nothing': 8480, 'else': 6282, 'Okay': 3065, 'price': 9038, 'long': 7876, 'legal': 7751, 'Wen': 4295, 'ave': 4861, 'ams': 4657, 'xx': 11270, 'gone': 6888, '4the': 675, 'driving': 6171, 'test': 10374, 'yet': 11300, 'wow': 11184, 'Youre': 4443, 'mean': 8079, 'guess': 6973, 'gave': 6799, 'boston': 5126, 'men': 8115, 'changed': 5413, 'search': 9596, 'location': 7855, 'nyc': 8519, 'Cuz': 1560, 'signin': 9774, 'page': 8696, 'says': 9559, 'Umma': 4110, 'life': 7786, 'vava': 10836, 'umma': 10711, 'lot': 7897, 'dear': 5902, 'wishes': 11104, 'birthday': 5051, 'making': 8004, 'truly': 10651, 'memorable': 8112, 'Aight': 1031, 'hit': 7135, 'would': 11180, 'ip': 7418, 'address': 4524, 'considering': 5678, 'computer': 5642, 'isnt': 7440, 'minecraft': 8170, 'server': 9660, 'Grumpy': 2092, 'old': 8580, 'people': 8794, 'mom': 8232, 'better': 5020, 'lying': 7960, 'jokes': 7531, 'worry': 11171, 'busy': 5243, 'plural': 8905, 'noun': 8487, 'research': 9363, 'Going': 2066, 'dinnermsg': 6046, 'cos': 5727, 'things': 10432, 'scared': 9565, 'mah': 7990, 'Cos': 1523, 'loud': 7908, 'GENT': 1979, 'contact': 5683, 'Last': 2607, 'weekends': 11009, 'draw': 6150, 'shows': 9751, 'GUARANTEED': 2022, '09064012160': 238, 'Code': 1494, 'K52': 2469, '12hrs': 338, '150ppm': 370, 'Wa': 4252, 'openin': 8603, 'sentence': 9650, 'formal': 6669, 'Anyway': 1072, 'fine': 6565, 'juz': 7560, 'tt': 10661, 'eatin': 6236, 'puttin': 9143, 'weightHaha': 11016, 'anythin': 4706, 'happened': 7027, 'entered': 6321, 'cabin': 5263, 'PA': 3104, 'Happy': 2186, 'Bday': 1232, 'Boss': 1290, 'felt': 6526, 'askd': 4800, 'invited': 7411, 'apartment': 4715, 'went': 11030, 'winner': 11094, 'specially': 9977, 'holiday': 7153, 'flights': 6609, 'inc': 7331, 'operator': 8607, '0871277810910pmin': 123, '18': 387, 'Goodo': 2075, 'must': 8324, 'friday': 6712, 'eggpotato': 6261, 'ratio': 9203, 'tortilla': 10583, 'needed': 8388, 'Hmmmy': 2246, 'uncle': 10716, 'informed': 7358, 'paying': 8773, 'school': 9571, 'directly': 6050, 'pls': 8901, 'food': 6645, 'PRIVATE': 3166, '2004': 429, 'Account': 1004, 'Statement': 3776, '07742676969': 31, '786': 788, 'unredeemed': 10754, 'Points': 3251, '08719180248': 171, 'Identifier': 2348, '45239': 639, 'Expires': 1825, '£2000': 11384, 'Caller': 1420, '5903': 702, 'Landline': 2602, '09064019788': 244, 'BOX42WR29C': 1185, '150PPM': 355, 'applespairsall': 4729, 'malarky': 8006, 'Todays': 4012, 'Voda': 4179, 'numbers': 8510, 'ending': 6300, '7548': 783, '350': 566, 'award': 4872, 'match': 8046, 'please': 8894, '08712300220': 105, 'quoting': 9170, '4041': 610, 'standard': 10044, 'rates': 9201, 'app': 4723, 'sao': 9531, 'mu': 8298, 'Ü': 11415, 'predict': 9005, 'üll': 11419, 'buying': 5251, 'Good': 2070, 'knowyetunde': 7646, 'hasnt': 7042, 'sent': 9649, 'bother': 5128, 'sending': 9642, 'involve': 7415, 'shouldnt': 9738, 'imposed': 7321, 'apologise': 4720, 'HEY': 2131, 'GIRL': 1985, 'HOPE': 2149, 'WELL': 4207, 'DEL': 1580, 'BAK': 1134, 'LONG': 2575, 'TIME': 3883, 'GIVE': 1988, 'CALL': 1341, 'SUM': 3564, 'LUCYxx': 2595, 'Kkhow': 2521, 'cost': 5729, 'Dear': 1634, 'Tmorrowpls': 4005, 'accomodate': 4491, 'answer': 4689, 'question': 9156, 'Sunshine': 3817, 'Quiz': 3318, 'Wkly': 4332, 'Q': 3304, 'Win': 4320, 'top': 10574, 'Sony': 3732, 'DVD': 1614, 'player': 8886, 'country': 5744, 'Algarve': 1047, 'ansr': 4688, '82277': 827, 'SPTyrone': 3539, 'Want': 4267, 'laid': 7681, 'Dogging': 1688, 'locations': 7856, 'direct': 6049, 'mob': 8215, 'Join': 2447, 'UKs': 4077, 'largest': 7703, 'Network': 2963, 'bt': 5207, 'Txting': 4065, 'GRAVEL': 2018, '69888': 752, 'Nt': 3020, 'ec2a': 6239, '31pmsg150p': 559, 'haf': 6997, 'msn': 8293, 'yijuehotmailcom': 11306, 'rooms': 9464, 'befor': 4984, 'activities': 4514, 'Youll': 4442, 'msgs': 8286, 'chat': 5435, 'svc': 10252, 'Hardcore': 2188, 'services': 9662, 'GO': 1993, '69988': 756, 'Age': 1025, 'Verify': 4169, 'yr': 11341, 'Got': 2080, 'lazy': 7731, 'type': 10694, 'forgot': 6666, 'lect': 7745, 'pouch': 8972, 'youre': 11329, 'Sir': 3690, 'Waiting': 4259, 'mail': 7993, 'swt': 10273, 'Nver': 3025, 'tired': 10501, 'little': 7838, 'lovable': 7912, 'persons': 8817, 'Cozsomtimes': 1532, 'occupy': 8535, 'biggest': 5035, 'Hearts': 2202, 'Gud': 2096, 'ni8': 8421, 'open': 8600, 'ya': 11279, 'dot': 6133, 'Whats': 4304, 'staff': 10034, 'taking': 10300, 'replied': 9347, 'Randy': 3375, 'sexy': 9676, 'female': 6527, 'local': 7854, 'Luv': 2680, 'Netcollex': 2962, 'Ltd': 2671, '08700621170150p': 75, 'Stop': 3785, 'Ummmawill': 4111, 'inour': 7374, 'begin': 4990, 'qatar': 9148, 'pray': 8999, 'hard': 7036, 'Ki': 2503, 'deleted': 5946, 'Sindu': 3687, 'birla': 5048, 'soft': 9898, 'wine': 11091, 'flowing': 6623, 'nevering': 8411, 'thk': 10442, 'cine': 5514, 'plaza': 8892, 'Ur': 4133, 'typical': 10697, 'everywhere': 6385, 'dirt': 6053, 'floor': 6617, 'windows': 11088, 'shirt': 9711, 'sometimes': 9919, 'mouth': 8269, 'dream': 6154, 'without': 11113, 'chores': 5505, 'joy': 7540, 'lots': 7900, 'tv': 10677, 'ill': 7305, 'exist': 6414, 'rain': 9181, 'hail': 7000, 'mist': 8201, 'become': 4970, 'Aaooooright': 994, 'leaving': 7744, 'house': 7202, 'interview': 7400, 'boy': 5143, 'meAre': 8073, 'missing': 8195, 'Customer': 1554, 'annoncement': 4679, 'Years': 4418, '07046744435': 22, 'arrange': 4779, '0871277810810': 122, 'Keep': 2494, 'safe': 9508, 'envy': 6334, 'everyone': 6381, 'sees': 9622, 'parentsi': 8732, 'hand': 7011, 'excited': 6402, 'spend': 9988, 'PLS': 3134, 'STOP': 3549, 'bootydelious': 5118, '32F': 564, 'inviting': 7412, 'friend': 6717, 'YES434': 4390, 'NO434': 2928, 'See': 3619, 'wwwSMSacubootydelious': 11219, 'FRND': 1879, '62468': 734, 'BangBabes': 1222, 'order': 8629, 'Service': 3634, 'Msg': 2885, 'content': 5687, 'GoTo': 2061, 'wap': 10950, 'bangb': 4913, 'internetservice': 7399, 'menu': 8123, 'points': 8918, 'cultures': 5804, 'module': 8226, '09061701939': 221, 'S89': 3446, 'frnd': 6726, 'avoid': 4866, 'missunderstding': 8200, 'wit': 11109, 'beloved': 5006, 'ones': 8588, 'escape': 6349, 'fancy': 6480, 'bridge': 5171, 'needs': 8392, 'lager': 7680, 'completely': 5632, 'formclark': 6673, 'also': 4635, 'utter': 10807, 'waste': 10962, 'AXIS': 991, 'BANK': 1136, 'account': 4496, 'bank': 4914, 'Hmmm': 2240, 'Thk': 3983, 'hop': 7176, 'ard': 4755, 'Ya': 4407, 'Muz': 2898, 'discuss': 6068, 'liao': 7776, 'coming': 5610, 'Bloody': 1271, 'hell': 7085, 'believe': 4997, 'surname': 10242, 'Mr': 2883, 'clue': 5559, 'spanish': 9965, 'begins': 4991, 'Well': 4293, 'bath': 4939, 'goodfine': 6895, 'Let': 2622, 'youve': 11334, 'carlos': 5351, 'mall': 8008, 'Turns': 4056, 'staying': 10071, 'til': 10485, 'smoke': 9870, 'worth': 11176, 'log': 7861, 'spoke': 10006, 'MANEESHA': 2698, 'Wed': 4286, 'satisfied': 9543, 'experience': 6420, 'Toll': 4015, 'lifted': 7794, 'hopes': 7184, 'offer': 8546, 'Especially': 1793, 'approaches': 4739, 'hurts': 7261, 'studying': 10151, 'Anyways': 1073, 'gr8': 6918, 'trust': 10652, 'guys': 6985, 'greatbye': 6939, 'handsome': 7017, 'finding': 6563, 'Working': 4346, 'towards': 10597, 'net': 8403, 'mummy': 8311, 'Wheres': 4311, 'boytoy': 5147, 'Haha': 2172, 'awesome': 4875, 'minute': 8181, 'FREEPHONE': 1870, '0808': 62, '145': 350, '4742': 643, '9am11pm': 926, 'Xmas': 4375, 'radio': 9174, 'jus': 7556, 'bathe': 4940, 'sis': 9799, 'using': 10800, 'finishes': 6573, 'unique': 10743, '30th': 554, 'August': 1107, 'wwwareyouuniquecouk': 11224, 'joined': 7525, 'league': 7736, 'keep': 7588, 'touch': 10592, 'deal': 5895, 'personal': 8815, 'finally': 6559, 'completed': 5631, 'course': 5749, 'however': 7208, 'suggest': 10197, 'stays': 10072, 'someone': 9909, 'able': 4468, 'ors': 8638, 'every': 6376, 'stool': 10105, 'Hope': 2266, 'settled': 9668, 'wishin': 11105, 'mrng': 8280, 'hav': 7048, 'story': 10116, 'hamster': 7010, 'dead': 5893, 'tmr': 10516, '1pm': 415, 'orchard': 8628, 'mrt': 8281, 'Kate': 2489, 'evening': 6370, 'bloody': 5088, 'babyjontet': 4889, 'xxx': 11272, 'Found': 1936, 'ENC': 1725, 'bucks': 5211, 'darlin': 5863, 'ive': 7466, 'finished': 6572, 'college': 5591, 'refilled': 9285, 'successfully': 10183, 'INR': 2322, 'ltDECIMALgt': 7935, 'KeralaCircle': 2500, 'prepaid': 9013, 'balance': 4906, 'Rs': 3440, 'Transaction': 4031, 'ID': 2295, 'KR': 2482, 'Goodmorning': 2071, 'sleeping': 9831, 'ga': 6773, 'alter': 4637, 'dat': 5869, 'ericsson': 6339, 'oso': 8643, 'cannot': 5318, 'oredi': 8632, 'dats': 5876, 'straight': 10119, 'dogg': 6103, 'connection': 5671, 'refund': 9289, 'bill': 5037, 'shoot': 9723, 'big': 5033, 'ready': 9224, 'bruv': 5204, 'break': 5160, 'rewarding': 9414, 'semester': 9637, 'Home': 2260, 'Kkgoodstudy': 2520, 'noe': 8452, 'leh': 7754, 'Sounds': 3740, 'Finally': 1912, 'heading': 7059, 'prediction': 9007, 'Tired': 4001, 'slept': 9835, 'past': 8759, 'nights': 8432, 'Easy': 1759, 'ahsen': 4586, 'exam': 6397, 'march': 8027, 'gt': 6966, 'atm': 4823, 'register': 9296, 'anyway': 4711, 'Take': 3923, 'os': 8641, 'called': 5290, 'ubandu': 10701, 'installing': 7384, 'diskyou': 6070, 'important': 7319, 'files': 6548, 'system': 10279, 'repair': 9339, 'shop': 9724, 'happen': 7025, 'romantic': 9457, 'nite': 8443, 'scenery': 9568, '500': 686, 'Mobiles': 2854, 'MUST': 2768, 'NOKIA': 2933, '89545': 894, 'collect': 5586, 'todayFrom': 10525, '£1': 11360, 'www4tcbiz': 11210, '2optout': 530, '08718726270150gbpmtmsg18': 156, 'Would': 4351, 'appreciate': 4737, 'partner': 8744, 'career': 5339, 'flyng': 6630, 'start': 10053, 'find': 6562, 'HORO': 2151, 'followed': 6637, 'star': 10047, 'sign': 9770, 'g': 6769, 'ARIES': 975, 'company': 5621, 'elama': 6275, 'po': 8910, 'mudyadhu': 8303, 'Life': 2626, 'strict': 10132, 'teacher': 10334, 'Bcoz': 1231, 'Teacher': 3933, 'teaches': 10335, 'conducts': 5656, 'Exam': 1818, 'Lessons': 2621, 'gandhipuram': 6784, 'walk': 10928, 'cross': 5786, 'road': 9441, 'Right': 3421, 'side': 9766, 'street': 10124, 'rubber': 9482, 'battery': 4945, 'died': 6020, 'yeah': 11289, 'Yeshere': 4430, 'available': 4855, 'date': 5871, 'flirt': 6613, '10p': 311, 'REPLY': 3343, 'NAME': 2904, 'AGE': 949, 'Sam': 3590, '25': 457, 'recdthirtyeight': 9248, 'pence': 8789, 'printed': 9049, 'oh': 8565, 'upstairs': 10775, 'closer': 5550, 'youwhen': 11336, 'wil': 11079, 'reach': 9214, 'Theory': 3971, 'Argument': 1086, 'wins': 11096, 'SITUATION': 3494, 'loses': 7893, 'PERSON': 3118, 'argue': 4763, 'kick': 7606, 'correct': 5721, '447801259231': 628, 'secret': 9604, 'admirer': 4532, 'Ufind': 4100, 'Rreveal': 3439, 'thinks': 10438, 'specialcall': 9974, '09058094597': 204, 'Tomarrow': 4017, 'hearing': 7069, 'laptop': 7700, 'case': 5362, 'PLEASSSSSSSEEEEEE': 3133, 'TEL': 3854, 'AVENT': 988, 'DONE': 1596, 'SPORTSx': 3536, 'shining': 9707, 'meant': 8084, 'signing': 9775, 'sounds': 9953, 'Although': 1056, 'told': 10539, 'baig': 4902, 'face': 6446, 'watches': 10968, 'watch': 10966, 'fr': 6691, 'Thanx': 3961, 'everything': 6384, 'uve': 10811, 'touched': 10593, 'commercial': 5615, 'website': 10996, 'slippers': 9842, 'asked': 4801, 'Kallis': 2486, 'bat': 4936, 'innings': 7371, 'goodnight': 6898, 'fix': 6591, 'wake': 10925, 'dearly': 5907, 'missed': 8193, 'sleep': 9829, 'Congratulations': 1514, 'CD': 1358, 'vouchers': 10903, '125gift': 334, 'MUSIC': 2767, '87066': 868, 'TnCs': 4009, 'wwwLdewcom1win150ppmx3age16': 11216, 'Ranjith': 3376, 'cal': 5269, 'drpd': 6179, 'Deeraj': 1641, 'deepak': 5928, '5min': 716, 'hold': 7149, 'bcums': 4956, 'angry': 4671, 'wid': 11070, 'dnt': 6086, 'Coz': 1531, 'childish': 5484, 'true': 10648, 'showing': 9749, 'deep': 5927, 'affection': 4553, 'care': 5336, 'luv': 7952, 'kettoda': 7596, 'manda': 8014, 'doinghow': 6112, 'Ups': 4131, '3days': 593, 'shipping': 9710, 'takes': 10298, '2wks': 539, 'usps': 10802, 'lag': 7678, 'bribe': 5170, 'nipost': 8441, 'lemme': 7757, 'necessarily': 8380, 'expect': 6416, 'headin': 7058, 'Mmm': 2843, 'yummy': 11344, 'Nice': 2975, 'jolt': 7536, 'suzy': 10251, 'lover': 7917, 'Video': 4172, 'Handset': 2182, '750': 782, 'anytime': 4710, 'networks': 8407, 'mins': 8175, 'UNLIMITED': 4082, 'TEXT': 3860, 'Camcorder': 1429, 'parked': 8736, 'MINI': 2723, 'shopping': 9726, 'Dun': 1714, 'disturb': 6077, 'LUTON': 2597, '0125698789': 6, 'RING': 3352, 'AROUND': 976, 'H': 2109, 'horny': 7188, 'naked': 8345, 'hot': 7196, '69698': 748, 'unsubscribe': 10759, 'Dint': 1670, 'Wana': 4265, 'plan': 8876, 'sometme': 9920, 'credits': 5776, 'club4mobilescom': 5558, 'choose': 5501, 'CLUB': 1380, '87070': 869, '150pwk': 376, 'Club4': 1491, 'Box1146': 1293, 'MK45': 2734, '2WT': 504, 'evo': 6391, 'flash': 6600, 'Jealous': 2433, 'Club': 1490, 'singles': 9793, 'chart': 5430, 'quality': 9153, 'charge': 5422, 'Come': 1503, 'sorting': 9946, 'narcotics': 8358, 'Night': 2981, 'ended': 6299, 'smile': 9866, 'sunny': 10214, 'rays': 9206, 'leaves': 7743, 'worries': 11170, 'blue': 5093, 'bay': 4948, 'HMV': 2142, 'BONUS': 1172, 'SPECIAL': 3527, 'genuine': 6820, 'easy': 6233, 'questions': 9158, 'Play': 3232, '86688': 865, 'infowww100percentrealcom': 7362, 'Usf': 4139, 'might': 8154, 'objection': 8529, 'bf': 5024, 'rob': 9445, 'mack': 7973, 'gf': 6834, 'theater': 10409, 'Awesome': 1114, 'handed': 7012, 'Celebrations': 1454, 'full': 6752, 'swing': 10268, 'tool': 10568, 'person': 8812, 'definitely': 5935, 'Keepintouch': 2495, 'gdeve': 6807, 'far': 6485, 'Okie': 3067, 'usual': 10803, 'passed': 8753, 'last': 7706, 'ahold': 4585, 'anybody': 4698, 'throw': 10461, 'lets': 7770, 'baby': 4888, 'cruisin': 5791, 'girl': 6843, 'r': 9171, 'hour': 7199, 'alright': 4631, 'fone': 6643, 'jenny': 7505, 'Means': 2807, 'World': 4347, 'Ge': 2038, 'Dearshall': 1638, 'tonitebusy': 10560, 'streetshall': 10125, 'update': 10763, 'tonitethings': 10561, 'okvarunnathu': 8575, 'edukkukayee': 6248, 'raksha': 9188, 'ollubut': 8581, 'sense': 9645, 'gautham': 6798, 'Haf': 2171, 'found': 6684, 'stupid': 10161, 'cam': 5301, 'working': 11160, 'buzy': 5252, 'accidentally': 4489, 'Resend': 3416, 'TMobile': 3886, 'CAMERA': 1346, 'PHONE': 3122, 'upgrade': 10764, 'sim': 9782, 'card': 5332, 'loyalty': 7931, '0845': 69, '021': 15, '3680Offer': 572, 'ends': 6304, '28thFebTCs': 474, 'Unless': 4120, 'GURL': 2024, 'appropriate': 4741, 'Hurt': 2288, 'Tease': 3937, 'Make': 2780, 'cry': 5793, 'die': 6019, 'plz': 8907, 'rose': 9466, 'grave': 6933, 'STUPID': 3560, 'MISS': 2726, 'NICE': 2920, 'DAY': 1570, 'BSLVYL': 1197, 'phone': 8831, 'Need': 2959, 'tomoCant': 10547, 'somebody': 9907, 'high': 7121, 'diesel': 6021, 'Shit': 3662, 'shocking': 9721, 'scary': 9566, 'imagine': 7311, 'Def': 1642, 'somewhere': 9922, 'crash': 5763, 'taxi': 10324, 'fridge': 6715, 'meal': 8077, 'womdarfull': 11137, 'actor': 4515, 'Blind': 1269, 'Date': 1626, '4U': 657, 'Rodds1': 3429, '21m': 442, 'Aberdeen': 998, 'United': 4118, 'Kingdom': 2512, 'Check': 1467, 'httpimg': 7222, 'acWicmb3cktz8r74': 4479, 'Dates': 1627, 'HIDE': 2136, 'remb': 9318, 'book': 5110, 'Jos': 2458, 'wana': 10943, 'yes': 11297, 'friendship': 6721, 'hanging': 7022, 'thread': 10455, 'TheMob': 3967, 'newest': 8414, 'selection': 9629, 'Games': 2030, 'Tones': 4020, 'Gossip': 2079, 'babes': 4886, 'sport': 10012, 'fit': 6588, 'funky': 6762, '82468': 830, 'garage': 6789, 'keys': 7599, 'arent': 4758, 'bookshelf': 5115, 'ACCEPT': 936, 'DAYU': 1573, 'Accept': 1001, 'Brother': 1317, 'Sister': 3694, 'Lover': 2665, 'Dear1': 1635, 'Best1': 1250, 'Clos1': 1488, 'Lvblefrnd': 2683, 'Jstfrnd': 2461, 'Cutefrnd': 1558, 'Lifpartnr': 2627, 'Belovd': 1245, 'Swtheart': 3830, 'Bstfrnd': 1320, 'enemy': 6306, 'Think': 3979, 'smart': 9856, '£200': 11383, 'weekly': 11010, 'quiz': 9166, 'PLAY': 3131, '85222': 857, 'nowTCs': 8492, 'WinnersClub': 4324, 'BOX': 1180, '84': 846, 'M26': 2686, '3UZ': 588, 'GBP150week': 1974, '2day': 509, 'normal': 8468, 'waythis': 10980, 'uniqueI': 10744, 'rest': 9386, 'mylife': 8331, 'wot': 11178, 'lost': 7896, 'made': 7978, 'Kkadvance': 2514, 'pongal': 8931, 'Guess': 2101, 'kb': 7584, 'power': 8979, 'yoga': 11310, 'dunno': 6206, 'tahan': 10292, 'anot': 4685, 'lo': 7848, 'dude': 6196, 'afraid': 4558, 'December': 1639, '11mths': 325, '08002986906': 59, 'Coffee': 1496, 'cake': 5266, 'Merry': 2816, 'Christmas': 1480, 'kisses': 7628, 'cud': 5799, 'ppl': 8981, 'gona': 6887, 'l8': 7665, 'buses': 5239, 'gon': 6886, 'waitin': 10923, 'Pete': 3207, 'Guild': 2104, 'Could': 1529, 'Bristol': 1313, 'plans': 8882, 'flight': 6608, 'problem': 9064, 'dahow': 5842, 'todays': 10530, 'track': 10601, 'record': 9267, 'reading': 9223, 'women': 11138, 'Cool': 1519, 'read': 9220, 'light': 7796, 'Kkapo': 2516, 'kgood': 7603, 'movie': 8273, 'Maybe': 2806, 'return': 9404, 'immediately': 7314, 'Germany': 2046, 'fixed': 6593, 'line': 7810, 'via': 10851, 'access': 4485, 'number': 8508, '0844': 66, '861': 862, '85': 853, 'prepayment': 9016, 'Direct': 1672, 'chance': 5410, 'evaporated': 6365, 'violated': 10874, 'privacy': 9054, 'stealing': 10076, 'employers': 6295, 'paperwork': 8719, 'report': 9352, 'supervisor': 10223, 'Valentines': 4160, 'Day': 1631, 'Special': 3748, 'lifetime': 7791, '83600': 844, '150pmsg': 368, 'rcvd': 9210, 'CustCare08718720201': 1553, 'TaDaaaaa': 3920, 'wined': 11092, 'dined': 6041, 'sleepingand': 9832, 'surfing': 10240, 'calling': 5294, 'thanx': 10396, 'post': 8962, '1000s': 297, 'texts': 10385, 'wiv': 11117, 'hello': 7087, 'caroline': 5354, 'favourite': 6507, 'Bless': 1268, 'hiding': 7120, 'stranger': 10122, 'interested': 7394, 'sister': 9800, 'cleared': 5535, 'two': 10685, 'round': 9468, 'Gudnitetcpractice': 2099, 'Dis': 1674, 'yijue': 11305, 'huiming': 7240, 'num': 8507, 'One': 3077, 'small': 9854, 'prestige': 9028, 'Fancy': 1895, 'shag': 9682, 'doInterested': 6087, 'sextextukcom': 9674, 'XXUK': 4368, 'SUZY': 3571, '69876': 751, 'Txts': 4066, '150': 353, 'X': 4359, 'Really': 3388, 'seeing': 9615, 'Jeremiah': 2437, 'iphone': 7423, 'apeshit': 4717, 'TODAY': 3889, 'ever': 6375, 'misbehaved': 8187, 'hurt': 7259, 'SLAP': 3499, 'URSELF': 4094, 'fault': 6499, 'basically': 4932, 'GOOD': 2001, 'Yo': 4438, 'figure': 6544, 'alcohol': 4604, 'Jay': 2431, 'safely': 9509, 'weed': 11004, 'ISH': 2330, 'MINUTES': 2725, '5': 684, 'AGO': 951, 'WTF': 4250, 'Thank': 3957, 'callingForgot': 5295, 'Onam': 3076, 'SirjiI': 3693, 'remembered': 9320, 'met': 8144, 'insurance': 7388, 'personMeet': 8814, 'Qatar': 3307, 'Insha': 2374, 'AllahRakhesh': 1048, 'ex': 6394, 'Tata': 3928, 'AIG': 955, 'TISSCOTayseer': 3884, 'cashbalance': 5364, 'currently': 5814, 'maximize': 8062, 'cashin': 5366, 'CC': 1357, '08708800282': 97, 'HGSuite3422Lands': 2132, 'RowW1J6HL': 3436, 'Since': 3685, 'unemployed': 10732, 'moment': 8233, 'ALWAYS': 963, 'st': 10030, 'andrewsboy': 4668, 'cold': 5582, 'posted': 8965, 'chikku': 5474, 'chikkuDB': 5476, 'audreys': 4843, 'status': 10067, 'Busy': 1330, 'Trying': 4043, 'forward': 6680, 'sunshine': 10217, 'dawns': 5880, 'refreshed': 9288, 'alive': 4615, 'breathe': 5165, 'air': 4593, 'Z': 4452, 'UpdateNow': 4129, 'Offer': 3057, 'Latest': 2609, 'Motorola': 2880, 'SonyEricsson': 3733, 'Nokia': 3001, 'Bluetooth': 1274, 'Mins': 2834, '1000': 295, 'Orange': 3091, 'MobileUpd8': 2853, '08000839402': 53, 'call2optoutF4Q': 5278, 'discount': 6066, 'RP176781': 3360, 'messages': 8139, 'wwwregalportfoliocouk': 11242, 'Services': 3635, '08717205546': 144, 'Wat': 4275, 'uniform': 10740, 'Geeee': 2040, 'woke': 11134, 'wish': 11102, 'cuddling': 5802, 'spoil': 10003, 'min': 8161, 'talking': 10304, 'agree': 4579, 'willing': 11082, 'Order': 3095, 'Reference': 3398, 'T91': 3834, 'GBP': 1973, '09057039994': 195, 'seen': 9621, 'mei': 8100, 'didt': 6018, 'recognise': 9265, 'Face': 1890, 'happening': 7029, 'Lindsay': 2631, 'years': 11291, 'sighs': 9768, 'bars': 4928, 'Ptbo': 3297, 'heron': 7105, 'payasam': 8770, 'rinu': 9433, 'brings': 5182, 'taught': 10321, 'sir': 9797, 'Becaus': 1237, 'verifying': 10847, 'project': 9087, 'Prabu': 3266, 'mistake': 8202, 'body': 5099, 'repairs': 9340, 'quite': 9164, 'slow': 9848, 'tests': 10376, 'guide': 6978, 'ovulation': 8675, 'relax': 9307, 'Nothing': 3014, 'reason': 9238, 'followin': 6638, 'couple': 5747, 'minutes': 8182, 'wallet': 10935, 'leave': 7742, 'Meet': 2811, '945': 916, 'txts': 10691, '6months': 767, 'phones': 8835, 'call2optoutN9DX': 5283, 'owl': 8679, 'licks': 7782, 'Mm': 2842, '4mths': 669, 'rental': 9335, 'MobilesDirect': 2855, '08000938767': 55, 'or2stoptxt': 8624, 'Huh': 2284, 'Fr': 1937, 'sat': 9539, 'intro': 7404, 'pilates': 8856, 'kickboxing': 7607, 'Morning': 2874, 'office': 8550, 'lap': 7698, 'days': 5885, 'shut': 9759, 'Pick': 3220, 'bout': 5135, '730ish': 778, 'performance': 8802, 'calculated': 5270, 'monthnot': 8250, 'current': 5813, 'period': 8806, 'actually': 4517, 'rock': 9448, 'putting': 9144, 'business': 5241, 'put': 9141, 'pictures': 8850, 'ass': 4807, 'facebook': 6448, 'picture': 8849, 'Al': 1040, 'Salam': 3588, 'Wahleykkumsharing': 4255, 'newsBy': 8416, 'grace': 6921, 'God': 2063, 'TayseerTISSCO': 3929, 'joinedHope': 7526, 'fineInshah': 6566, 'Allahmeet': 1049, 'sometimeRakheshvisitor': 9918, 'India': 2364, 'Hmmmkbut': 2243, 'change': 5412, 'field': 6536, 'quickly': 9161, 'dai': 5843, 'wanna': 10944, 'administrator': 4531, 'RINGTONE': 3354, 'FIRST': 1852, '87131': 872, 'poly': 8924, 'GET': 1980, 'tone': 10552, 'Help': 2213, '2814032': 470, '1st': 417, 'tones': 10553, '3x£150pw': 604, 'e£nd': 6442, 'chechi': 5443, 'cream': 5770, 'shipped': 9709, 'None': 3005, 'Yep': 4424, 'loxahatchee': 7929, 'xmas': 11266, 'tree': 10634, 'burning': 5233, 'starts': 10058, 'stoners': 10103, 'slightly': 9840, 'disastrous': 6062, 'pm': 8908, 'fav': 6502, 'darlings': 5865, 'wld': 11127, 'stay': 10068, 'drink': 6163, 'Headin': 2197, 'busetop': 5240, 'Messagesome': 2819, 'SenderName': 3625, 'Missing': 2839, 'Number': 3021, 'SentDate': 3629, 'fullonsmscom': 6753, 'iron': 7426, 'thing': 10430, 'Okies': 3068, 'yan': 11284, 'jiu': 7514, 'skip': 9819, 'den': 5954, 'blah': 5062, 'Bring': 1312, 'Wendy': 4296, 'dating': 5873, '09064012103': 237, 'box334sk38ch': 5141, 'Whatsup': 4305, 'goal': 6868, '£250': 11385, 'competition': 5624, 'WIN': 4220, '80086': 809, 'wwwtxttowincouk': 11257, 'head': 7056, 'logo': 7865, 'names': 8351, 'heart': 7070, 'LOVE': 2585, 'NAME1': 2905, 'NAME2': 2906, 'MOBNO': 2740, 'ADAM': 941, 'EVE': 1738, '07123456789': 27, 'Yahoo': 4409, 'POBox36504W45WQ': 3144, 'TxtNO': 4064, 'ads': 4539, '150p': 356, 'Yesfrom': 4427, 'Someone': 3726, 'contacted': 5684, 'landline': 7689, '09111032124': 289, 'PoBox12n146tf150p': 3245, 'Siva': 3696, 'hostel': 7194, 'aha': 4581, '09058094455': 199, 'land': 7687, '3030': 550, 'voice': 10894, 'speaking': 9972, 'expression': 6433, '1childish': 412, '2naughty': 525, '3Sentiment': 586, '4rowdy': 671, '5ful': 714, 'attitude': 4834, '6romantic': 769, '7shy': 801, '8Attractive': 898, '9funny': 928, 'irritating': 7429, 'Shell': 3652, 'aathiwhere': 4462, 'urination': 10783, '7': 772, 'esplanade': 6354, 'mind': 8164, 'giving': 6853, 'lift': 7793, 'wnt': 11130, 'BMW': 1170, 'urgentlyits': 10781, 'vry': 10906, 'urgentbut': 10780, 'hv': 7266, 'shortage': 9731, 'Lacsthere': 2599, 'source': 9956, 'arng': 4775, 'dis': 6056, 'amt': 4658, 'lacsthats': 7673, 'fifteen': 6538, 'fucking': 6746, 'respond': 9380, '3650': 569, 'video': 10859, '09066382422': 268, 'Calls': 1424, 'Ave': 1111, '3mins': 598, 'vary': 10834, 'Close': 1489, '300603': 547, 'BCM4284': 1147, 'Ldn': 2613, 'WC1N3XX': 4204, 'Booked': 1285, 'ticket': 10477, 'hillsborough': 7126, 'th': 10388, 'askin': 4802, 'dollars': 6117, 'Shoul': 3671, 'Ask': 1096, 'iouri': 7417, 'ten': 10365, 'applebees': 4728, 'txtjourney': 10690, 'gdnow': 6808, '50': 685, 'Yeshe': 4429, 'greatbhaji': 6938, 'kallis': 7570, 'cricketer': 5781, 'sachin': 9502, 'worldvery': 11167, 'tough': 10594, 'supposed': 10234, 'Oic': 3063, 'tot': 10588, 'din': 6039, 'group': 6958, 'WERETHE': 4213, 'MONKEESPEOPLE': 2742, 'SAY': 3458, 'MONKEYAROUND': 2743, 'HOWDY': 2156, 'GORGEOUS': 2009, 'HOWU': 2158, 'DOIN': 1594, 'FOUNDURSELF': 1862, 'JOBYET': 2415, 'SAUSAGELOVE': 3456, 'JEN': 2412, 'XXX': 4369, 'wheres': 11055, 'blimey': 5077, 'exercise': 6409, 'kinda': 7620, 'hmm': 7143, 'concentration': 5649, 'LOL': 2574, '10': 293, 'hanks': 7023, 'lotsly': 7901, 'Kkwhat': 2525, 'detail': 5985, 'transferacc': 10614, 'optimistic': 8619, 'improve': 7328, 'Loan': 2644, 'purpose': 9136, '£500': 11398, '£75000': 11409, 'Homeowners': 2261, 'Tenants': 3944, 'welcome': 11021, 'previously': 9036, 'refused': 9291, '1956669': 396, 'Si': 3675, 'si': 9761, 'oreo': 8633, 'truffles': 10650, 'LOOK': 2577, 'AMY': 964, 'URE': 4088, 'BEAUTIFUL': 1150, 'INTELLIGENT': 2324, 'WOMAN': 4230, 'LIKE': 2560, 'LOT': 2581, 'KNOW': 2479, 'DON\\x92T': 1600, 'WORRY': 4237, 'result': 9397, 'consistently': 5679, 'intelligent': 7389, 'kind': 7619, 'Start': 3772, 'asking': 4803, 'practicum': 8992, 'links': 7819, 'ears': 6225, 'ttyl': 10663, '120': 327, 'bad': 4896, 'Miss': 2837, 'thru': 10466, 'different': 6029, 'feelingwavering': 6520, 'decisions': 5920, 'coping': 5714, 'individualtime': 7350, 'heal': 7063, 'Never': 2966, 'gives': 6852, 'reasons': 9240, 'UpgrdCentre': 4130, '0207': 9, '153': 379, '9153': 912, '26th': 466, 'July': 2463, 'TCs': 3850, 'Optout': 3090, 'bye': 5257, 'railway': 9180, 'princess': 9047, 'receiving': 9255, 'oral': 8625, 'Doggy': 1689, 'style': 10162, 'fave': 6503, 'position': 8952, 'enjoy': 6314, 'roads': 9442, 'slippery': 9843, 'bike': 5036, 'wait': 10921, 'many': 8021, 'language': 7695, 'okmail': 8572, 'Dave': 1630, 'notice': 8482, 'Tenerife': 3945, 'Holiday': 2256, '5000': 687, '09061743806': 224, 'SAE': 3448, 'Box326': 1295, 'CW25WX': 1412, 'screamed': 9585, 'enters': 6322, 'remove': 9328, 'flat': 6601, 'rate': 9199, 'transfered': 10615, 'removed': 9329, 'banks': 4915, 'differ': 6025, 'charges': 5425, 'differbe': 6026, '9ja': 929, 'details': 5987, 'txting': 10689, 'MOAN': 2738, '69888Nyt': 753, 'broken': 5188, 'Plz': 3241, 'cum': 5805, 'infront': 7364, 'wise': 11101, '9t': 931, 'aathilove': 4461, 'Tension': 3946, 'ahwhat': 4588, 'machiany': 7970, '8th': 908, 'Whenre': 4308, 'G': 1965, 'thinking': 10437, 'mcr': 8072, 'Almost': 1051, 'sec': 9600, 'taste': 10317, 'fb': 6508, 'jaykwon': 7494, 'thuglyfe': 10471, 'falconerf': 6466, 'MESSAGE': 2714, 'Activate': 1009, 'Messages': 2818, 'terms': 10369, 'conditions': 5655, 'visit': 10882, 'www07781482378com': 11209, 'Depends': 1651, 'boye': 5144, 'faded': 6453, 'glory': 6862, '6': 724, 'ralphs': 9189, 'accounts': 4498, 'dry': 6188, 'trade': 10602, 'shit': 9713, 'Sorryin': 3736, 'reunion': 9408, 'nowcan': 8495, 'meh': 8099, 'Nope': 3009, 'monday': 8237, 'accenture': 4483, 'jackson': 7478, 'rec': 9246, 'center': 5396, '7ish': 798, 'reache': 9215, 'Fighting': 1907, 'either': 6269, 'lose': 7891, 'fightng': 6542, 'some1': 9906, 'dificult': 6032, 'nuerologist': 8506, 'Lolnice': 2649, 'fish': 6585, 'water': 10972, '123': 332, '£1450': 11370, '09050002311': 188, 'b4280703': 4883, 'TCsstop': 3853, '08718727868': 161, 'bored': 5120, 'outside': 8663, 'westshore': 11039, 'hyde': 7271, 'park': 8734, 'village': 10872, 'near': 8375, 'hows': 7210, 'anthony': 4695, 'bringing': 5181, 'fees': 6522, 'rent': 9334, 'significance': 9772, 'opinion': 8608, 'Jada': 2422, 'Kusruthi': 2535, 'Lovable': 2660, 'Silent': 3680, 'Spl': 3752, 'character': 5420, 'matured': 8058, '8': 803, 'Stylish': 3799, 'Simple': 3682, 'gs': 6965, 'scrounge': 9589, 'ammo': 4649, 'ak': 4598, 'Prabhaim': 3265, 'sorydarealyfrm': 9949, 'sory': 9948, 'forgiven': 6664, 'Nojst': 3000, 'tat': 10318, 'Phone': 3217, '40GB': 613, 'iPod': 7275, 'MP3': 2752, 'COLLECT': 1384, '83355': 840, 'IBHltd': 2293, 'LdnW15H': 2614, '150pMtmsgrcvd18': 362, 'Sno': 3720, 'Boltblue': 1280, 'POLY': 3150, 'MONO': 2745, 'POLY3': 3151, 'Cha': 1456, 'Slide': 3708, 'Slow': 3709, 'Jamz': 2426, 'Toxic': 4027, 'topped': 10577, 'httpwwwbubbletextcom': 7225, 'renewal': 9331, 'Pin': 3225, 'tgxxrz': 10387, 'transport': 10619, 'less': 7765, 'problematic': 9065, 'join': 7524, 'bday': 4958, 'definite': 5934, 'nos': 8472, 'booking': 5113, 'fri': 6711, 'Usually': 4142, 'unconscious': 10720, 'children': 5486, 'adults': 4542, 'behave': 4994, 'abnormally': 4469, 'ebay': 6238, 'elsewhere': 6283, 'Shall': 3647, 'pickle': 8847, 'tacos': 10287, 'rude': 9483, 'campus': 5307, '020903': 14, 'attempt': 4828, '08718729755': 163, 'BOX95QU': 1186, 'christmas': 5509, 'merry': 8128, '85023': 855, 'SavaMob': 3601, 'member': 8108, 'offers': 8549, 'Cs': 1544, '08717898035': 150, '£300': 11388, 'Sub': 3801, 'Unsub': 4125, 'pretty': 9032, 'lady': 7677, 'single': 9792, 'recieve': 9263, 'within': 11112, '24hrs': 455, 'Terms': 3948, 'Channel': 1460, 'Teletext': 3941, 'Pg': 3212, 'doublefaggot': 6135, '2003': 428, '07815296484': 41, '800': 804, 'SIM': 3490, '08718738001': 167, '41782': 617, '181104': 389, 'Todaysundaysunday': 4013, 'holidayso': 7154, 'hoping': 7185, 'l8r': 7666, 'malaria': 8005, 'Bani': 1223, 'especially': 6352, 'leads': 7735, 'passionate': 8756, 'kiss': 7627, 'across': 4505, 'sea': 9595, 'Probably': 3285, 'lt': 7933, 'fat': 6493, 'fingers': 6569, 'press': 9025, 'buttons': 5247, 'Ummmmmaah': 4112, 'Many': 2789, 'returns': 9407, 'HAPPY': 2111, 'BIRTHDAY': 1164, 'tirupur': 10505, 'wwwApplausestorecom': 11212, 'MonthlySubscription50pmsg': 2868, 'max6month': 8061, 'TCsC': 3852, 'web': 10993, 'age16': 4569, '2stop': 534, 'famous': 6476, 'quote': 9169, 'develop': 5991, 'ability': 4466, 'listen': 7830, 'unconditionally': 10719, 'losing': 7894, 'temper': 10363, 'self': 9630, 'confidence': 5659, 'MARRIED': 2700, 'Pa': 3178, 'oclock': 8538, 'mine': 8168, 'bash': 4930, 'recovery': 9272, 'rather': 9202, 'cooped': 5710, 'hotel': 7197, 'invitation': 7409, 'Cali': 1416, 'english': 6313, 'blokes': 5083, 'weddin': 10999, 'omw': 8584, 'BTW': 1200, 'alibi': 4614, 'cutting': 5827, 'Imagine': 2354, 'sink': 9794, 'paces': 8689, 'cage': 5265, 'cock': 5571, 'surrounded': 10246, 'reminding': 9325, 'owns': 8681, 'Enjoy': 1786, 'cuck': 5798, 'Hurry': 2287, 'weeddeficient': 11005, 'three': 10457, 'Sure': 3822, 'acknowledgement': 4504, 'astoundingly': 4816, 'tactless': 10289, 'generally': 6814, 'faggy': 6454, 'demand': 5953, 'blood': 5086, 'oath': 8525, 'fo': 6633, 'Every': 1806, 'warm': 10951, 'milk': 8157, 'youll': 11324, 'magic': 7987, 'loose': 7886, 'weight': 11015, 'I‘ll': 2400, 'pan': 8708, 'it‘s': 7464, 'cheap': 5439, 'perhaps': 8805, 'that‘s': 10406, 'silly': 9780, 'isn‘t': 7442, 'likely': 7802, 'uv': 10810, 'causes': 5380, 'mutations': 8328, 'Sunscreen': 3816, 'essential': 6356, 'thesedays': 10423, 'lunchyou': 7949, 'onlinewhy': 8593, 'Princess': 3281, 'pics': 8848, 'Aiyo': 1037, 'fast': 6489, 'workin': 11159, 'huh': 7239, 'bao': 4918, 'sugardad': 10196, 'ahgee': 4583, 'meim': 8101, 'brownie': 5197, 'Geeeee': 2041, 'barely': 4922, 'Fuck': 1957, 'Cant': 1437, '2mrw': 524, 'ninish': 8439, 'icky': 7285, 'American': 1062, 'freek': 6702, 'callin': 5293, 'Jen': 2434, 'eh': 6265, 'Oooh': 3082, 'ridden': 9420, 'ey': 6439, 'anyways': 4712, 'gym': 6988, 'whatever': 11046, 'smiles': 9868, 'Daddy': 1617, 'scream': 9584, 'pleasure': 8896, 'slap': 9827, 'dick': 6010, 'WOT': 4239, 'MISSY': 2729, 'Yar': 4411, 'mum': 8308, 'sch': 9569, 'clean': 5532, 'lab': 7669, 'goggles': 6878, 'door': 6128, 'daddy': 5837, '2000': 426, 'call09050000327': 5276, 'arguing': 4764, 'ring': 9427, 'claims': 5521, '09050005321': 190, 'Arngd': 1089, 'marriage': 8034, 'walkin': 10931, 'unfortuntly': 10736, 'snake': 9883, 'bites': 5057, 'dancing': 5851, 'frnt': 6732, 'sayin': 9557, 'Bite': 1262, 'bite': 5056, 'izzit': 7468, 'textand': 10379, '08002988890': 60, 'exwife': 6438, 'kids': 7612, 'scotland': 9578, 'JJC': 2414, 'tendencies': 10366, 'Live': 2637, 'headache': 7057, 'quit': 9163, 'jazz': 7496, 'Yogasana': 4439, 'em': 6284, 'lessons': 7768, 'meive': 8103, 'hardly': 7039, 'gotany': 6908, 'srsly': 10027, 'yi': 11303, 'spree': 10018, 'TXT': 3916, 'SHOP': 3484, '80878': 819, 'TsCs': 4045, 'wwwtxt2shopcom': 11254, 'custcare': 5818, '08715705022': 141, '1x150pwk': 422, 'pound': 8973, '08712402050': 110, 'lines': 7814, '10ppm': 313, 'AG': 947, 'Promo': 3288, '07753741225': 32, '08715203677': 136, '42478': 621, '241004': 451, 'grand': 6925, 'prix': 9056, 'stands': 10046, 'Lets': 2623, 'Friends': 1952, 'nitz': 8446, 'announcement': 4681, '542': 700, '0825': 65, 'exhausted': 6412, 'train': 10604, 'pie': 8851, 'mums': 8313, 'present': 9022, 'ar': 4752, 'Mind': 2830, 'blastin': 5069, 'Tsunamis': 4050, 'occur': 8536, 'Rajnikant': 3373, 'stopped': 10108, 'swimming': 10266, 'Indian': 2365, 'OceanD': 3055, 'Speaking': 3747, 'noon': 8463, 'TaKe': 3921, 'CaRE': 1413, 'gET': 6771, 'WeLL': 4284, 'sOOn': 9501, 'XCLUSIVECLUBSAISAI': 4365, '2MOROW': 491, '285': 471, 'SOIREE': 3512, 'SPECIALE': 3528, 'ZOUK': 4454, 'NICHOLS': 2921, 'PARISFREE': 3107, 'ROSES': 3359, 'LADIES': 2545, '0794674629107880867867': 45, 'bridgwater': 5172, 'banter': 4917, 'Neva': 2965, 'imma': 7312, 'somethin': 9914, '22': 444, 'Euro2004': 1798, 'results': 9398, 'daily': 5844, '83222': 837, 'valentine': 10822, 'game': 6782, 'answers': 4693, 'loves': 7921, 'Ques': 3313, 'suits': 10202, 'bestrply': 5016, 'dependents': 5963, 'THANX4': 3868, 'CER': 1361, 'CATCH': 1355, 'AVE': 987, 'FIND': 1848, 'OFTEN': 3034, 'OH': 3035, 'TAKE': 3837, 'CARE': 1350, 'SOONC': 3519, 'himthen': 7128, 'future': 6767, 'valentines': 10823, 'hundreds': 7247, 'handsomes': 7018, 'beauties': 4964, 'aunties': 4845, 'uncles': 10717, 'shock': 9720, 'shuhui': 9757, 'leona': 7762, 'Like': 2628, 'reaction': 9219, 'family': 6474, 'happiness': 7034, 'aft': 4561, 'snow': 9889, 'weather': 10991, 'together': 10532, 'friendships': 6722, 'grow': 6959, 'dismay': 6072, 'MAKE': 2695, 'SURE': 3569, 'ALEX': 960, 'KNOWS': 2481, 'FIFTEEN': 1844, 'FAR': 1838, 'YOURE': 4402, 'CONCERNED': 1391, 'pub': 9117, 'bring': 5180, 'bud': 5212, 'drinks': 6167, 'useful': 10795, 'officially': 8557, 'paid': 8699, 'market': 8030, 'tootsie': 10573, 'pop': 8941, 'longer': 7877, 'Darren': 1623, 'TEXTBUDDY': 3861, 'Chat': 1464, 'area': 4757, '25p': 461, 'Search': 3615, 'postcode': 8964, 'gaytextbuddycom': 6804, 'ONE': 3042, '89693': 896, 'Vodafone': 4180, '4882': 644, '£350': 11391, 'matches': 8047, '09064019014': 243, 'forwarded': 6681, 'Seventeen': 3637, 'seven': 9670, 'hundred': 7245, 'ml': 8210, '–': 11420, 'Voucher': 4184, 'Holder': 2254, 'PC': 3115, 'httpwwwetlpcoukexpressoffer': 7226, 'apply2': 4732, '80062': 806, 'funny': 6763, 'Sweetheart': 3829, 'Biola': 1257, 'login': 7864, 'Dad': 1616, 'fetching': 6531, 'restock': 9390, 'thanksgiving': 10395, 'sound': 9952, 'effects': 6255, 'gorgeous': 6904, 'Kind': 2508, 'brighten': 5175, 'wee': 11003, 'thursday': 10473, 'Allo': 1050, 'braved': 5157, 'taken': 10296, 'trains': 10608, 'triumphed': 10642, 'we‘re': 11045, 'b‘ham': 5260, 'jolly': 7535, 'cartoon': 5361, 'listening': 7832, 'music': 8322, 'eve': 6366, 'temple': 10364, 'church': 5513, 'uncomfortable': 10718, '08715203694': 138, '40533': 612, '311004': 558, 'email': 6285, 'RSTM': 3361, 'SW7': 3572, '3SS': 585, 'Sometimes': 3729, 'gentle': 6817, 'Sonetimes': 3731, 'rough': 9467, 'starting': 10057, 'panic': 8710, 'Tuesday': 4053, 'wesleys': 11035, 'town': 10598, 'bet': 5017, 'hella': 7086, 'drugs': 6182, 'drug': 6180, 'dealers': 5898, 'impatient': 7317, 'Sun': 3814, 'earth': 6226, 'cloud': 5555, 'river': 9440, 'evng': 6390, 'unless': 10749, 'wikipediacom': 11078, '88800': 884, '89034': 889, 'premium': 9012, '08718711108': 151, 'lays': 7730, 'envelope': 6333, 'paper': 8717, 'repent': 9343, 'fetch': 6530, 'Leave': 2617, 'de': 5892, 'Prepare': 3275, 'study': 10150, 'positions': 8953, 'kama': 7572, 'sutra': 10249, 'En': 1780, 'nange': 8354, 'bakra': 4904, 'kalstiyathen': 7571, 'teacoffee': 10337, 'Carlosll': 1444, 'lakhs': 7683, 'Ttyl': 4051, 'Ho': 2248, 'ho': 7145, 'belly': 5002, 'laugh': 7719, 'sun0819': 10210, 'posts': 8969, 'HELLOYou': 2129, 'seem': 9618, 'TONE': 3893, 'Gr8': 2083, 'TOP': 3900, '20': 424, 'wk': 11119, 'opt': 8617, '08452810071': 71, 'Ditto': 1678, 'saying': 9558, 'ANYTHING': 970, 'Peace': 3196, 'knw': 7647, 'Say': 3604, 'wetherspoons': 11041, 'Piggy': 3223, 'awake': 4871, 'ure': 10778, 'Cause': 1451, 'freaky': 6698, 'lol': 7871, 'Missed': 2838, 'yelling': 11292, 'scrappy': 9581, 'lonely': 7875, 'hex': 7113, 'Explain': 1826, 'sdryb8i': 9593, 'xy': 11278, 'sue': 10190, 'lapdancer': 7699, 'sex': 9672, 'bedroom': 4978, 'SUE': 3563, '89555': 895, 'TextOperator': 3955, 'G2': 1966, '1DA': 399, '150ppmsg': 372, 'King': 2511, 'Crying': 1543, 'Baby': 1213, 'Building': 1326, 'Map': 2790, 'Imprtant': 2357, 'Wil': 4319, 'Reach': 3382, 'TOMORW': 3892, 'DearMe': 1636, 'cherthalain': 5460, 'cochin': 5570, 'bfore': 5026, 'starti': 10056, 'shall': 9687, 'accordinglyor': 4495, 'comingtmorow': 5612, 'engaged': 6308, 'ans': 4687, 'torch': 10581, 'bold': 5101, 'Forwarded': 1935, '448712404000Please': 630, '08712404000': 115, 'urgent': 10779, 'farm': 6486, '4d': 660, 'dad': 5836, '1405': 348, '1680': 383, '1843': 390, 'sun': 10209, 'law': 7726, 'hey': 7114, 'purchase': 9133, 'box': 5139, 'Ah': 1027, 'poop': 8937, 'Looks': 2655, 'cuz': 5828, 'gpu': 6917, 'entrepreneurs': 6329, 'alexs': 4608, 'corporation': 5719, 'gap': 6787, '…': 11423, 'Mum': 2891, 'Ku': 2534, 'prevent': 9033, 'dehydration': 5940, 'fluids': 6624, 'weird': 11017, 'idea': 7290, 'True': 4036, 'deari': 5905, 'soso': 9950, 'smsd': 9878, 'away': 4874, 'trek': 10635, 'harri': 7041, 'Quite': 3317, 'drivin': 6170, 'KEEP': 2474, 'fantastic': 6483, 'NGage': 2917, 'deck': 5921, 'wwwcnupdatescomnewsletter': 11229, 'alerts': 4606, 'Height': 2206, 'Confidence': 1512, 'Aeronautics': 1016, 'professors': 9080, 'wer': 11031, 'calld': 5288, 'sit': 9802, 'aeroplane': 4550, 'Aftr': 1023, 'ws': 11198, 'students': 10146, 'Dey': 1658, 'hurried': 7257, 'Bt': 1321, 'saidif': 9513, 'studentsthis': 10147, 'Datz': 1629, 'seems': 9620, 'timing': 10496, 'shitstorm': 9717, 'attributed': 4837, '08714712388': 127, '10am7pm': 308, 'Save': 3602, 'stress': 10126, 'dorm': 6130, 'sell': 9633, '449071512431': 632, 'UU': 4098, '£1250': 11369, '09071512433': 273, 'b4': 4881, '050703': 16, 'TCsBCM4235WC1N3XX': 3851, 'callcost': 5286, 'mobilesvary': 8218, 'max£7': 8064, 'Book': 1284, 'sth': 10089, 'specs': 9980, 'PX3748': 3177, '08714712394': 128, 'Macha': 2773, 'upseti': 10773, 'assume': 4812, 'mindsetbelieve': 8167, 'usLET': 10789, 'LIFE': 2558, 'BEGIN': 1154, 'AGAINcall': 948, 'Sfine': 3641, 'Anytime': 1071, 'wondar': 11139, 'flim': 6610, 'cookies': 5707, 'jelly': 7503, 'running': 9493, 'stillmaybe': 10094, 'feeling': 6519, 'sameso': 9526, 'itor': 7459, 'admiti': 4535, 'madthen': 7982, 'correctionor': 5723, 'lifeand': 7788, 'worldmay': 11165, 'runninglets': 9494, 'looks': 7884, 'scrumptious': 9590, 'wants': 10949, 'ba': 4884, 'dao': 5856, 'half8th': 7005, 'Exactly': 1817, 'jide': 7513, 'visiting': 10883, 'Dunno': 1715, 'Email': 1777, 'AlertFrom': 1044, 'Jeri': 2438, 'StewartSize': 3781, '2KBSubject': 489, 'Lowcost': 2669, 'prescripiton': 9019, 'drvgsTo': 6187, 'Spring': 3760, 'yay': 11286, 'steak': 10074, 'convincingjust': 5704, 'tel': 10352, 'twice': 10683, 'neglect': 8396, 'itjust': 7455, 'Leaving': 2618, 'tonite': 10559, 'opportunityall': 8612, 'fastpls': 6492, 'add': 4519, 'prayers': 9000, 'dearRakhesh': 5903, 'Loyalty': 2670, 'OfferThe': 3058, 'NEW': 2915, 'Nokia6650': 3003, '£10': 11361, 'TXTAUCTION': 3917, 'START': 3545, '81151': 822, '4TCtxt': 656, '150pMTmsg': 358, 'Wish': 4329, 'mayb': 8066, 'rite': 9438, 'Da': 1615, 'gd': 6806, 'faster': 6490, 'gals': 6780, 'attached': 4826, 'Glad': 2057, 'Thing': 3977, 'hadnt': 6995, 'clocks': 5545, 'shouted': 9740, 'realised': 9228, 'wahay': 10917, 'Men': 2815, 'shorter': 9733, 'ladies': 7675, 'Gaze': 2036, 'eyes': 6441, '930': 915, 'subscribed': 10173, 'Content': 1517, '£3': 11387, '82324': 829, 'Helpline': 2217, '08706091795': 90, 'weve': 11042, 'spoken': 10007, 'Give': 2056, 'gist': 6848, 'realize': 9231, '40': 606, 'thousands': 10454, 'tattoos': 10319, 'PREMIER': 3162, 'gimme': 6842, 'lip': 7824, 'caveboy': 5383, 'library': 7780, 'Realy': 3389, 'sorryi': 9942, 'confused': 5666, 'holla': 7155, 'anyone': 4702, 'spare': 9966, 'Faith': 1894, 'makes': 8001, 'possibleHope': 8960, 'workLove': 11157, 'beautifulMay': 4966, 'ChristmasMerry': 1481, 'youcarlos': 11317, 'isare': 7434, 'vibrate': 10853, 'acting': 4510, 'Romantic': 3433, 'Paris': 3187, '£79': 11410, '08704439680TsCs': 89, 'grandmas': 6928, 'hungover': 7248, 'Another': 1068, 'unclaimed': 10715, '09066368327': 264, 'closingdate040902': 5552, 'claimcode': 5520, 'M39M51': 2688, '£150pmmorefrommobile2BremovedMobyPOBox734LS27YF': 11378, 'gua': 6967, 'mt': 8294, 'faber': 6445, 'yest': 11298, 'Yest': 4434, 'Jus': 2466, 'Wishing': 4330, 'mas': 8039, 'Year': 4417, 'advance': 4543, 'City': 1484, 'Break': 1307, 'Summer': 3812, 'Shopping': 3668, 'WK': 4226, 'STORE': 3553, '88039': 877, 'SkilGme': 3698, 'TsCs087147403231WinawkAge16': 4047, '£150perWKsub': 11375, 'nt': 8500, 'goin': 6880, 'meetin': 8093, 'wonder': 11141, 'tis': 10506, 'Theyre': 3975, 'dramatic': 6148, 'Schools': 3609, 'closed': 5548, 'Apparently': 1077, 'drive': 6168, 'inch': 7332, 'anywhere': 4713, 'damn': 5846, 'hunting': 7255, 'drunkard': 6185, 'Wats': 4281, 'idc': 7288, 'weaseling': 10989, 'row': 9472, 'space': 9961, 'picking': 8846, 'trash': 10620, 'smokes': 9872, 'begging': 4989, 'lovely': 7916, 'sing': 9789, 'guy': 6984, 'wishing': 11106, 'slave': 9828, 'punish': 9128, 'Beerage': 1243, '0578': 17, 'turns': 10675, 'randomlly': 9193, 'opening': 8604, 'couldnt': 5740, 'shes': 9704, 'fixes': 6595, 'spelling': 9987, 'diff': 6024, 'Ever': 1805, 'living': 7843, 'perfect': 8800, 'community': 5618, '100pSMS': 299, 'Top': 4023, 'Polyphonic': 3256, '087018728737': 83, 'National': 2954, 'Rate': 3378, 'toppoly': 10578, 'tune': 10670, 'SUBPOLY': 3562, '81618': 824, 'pole': 8921, 'UnSub': 4113, '08718727870': 162, 'enjoyed': 6315, 'fondly': 6642, 'bein': 4996, 'thot': 10448, 'YWHERE': 4406, 'DOGBREATH': 1593, 'SOUNDING': 3523, 'JAN': 2406, 'THAT\\x92S': 3871, 'AL': 957, 'Omg': 3074, 'weighed': 11014, 'Woohoo': 4343, 'uncountable': 10723, 'dictionary': 6012, 'pieces': 8853, '9996': 922, '14thMarch': 352, 'availa': 4854, 'Petey': 3209, 'whereare': 11053, 'friendsare': 6720, 'theKingshead': 10408, 'canlove': 5316, 'Nic': 2974, 'Gimme': 2052, 'ago': 4578, 'Chance': 1458, 'POBOX84': 3140, 'M263UZ': 2687, 'Appt': 1080, 'ltTIMEgt': 7937, 'No1': 2988, '8077': 818, 'mates': 8049, 'wwwgetzedcouk': 11235, 'POBox': 3142, '36504': 570, 'W45WQ': 4192, 'norm150ptone': 8467, 'cashto': 5367, '08000407165': 51, 'getstop': 6830, '88222': 881, 'PHP': 3123, 'RG21': 3349, '4JX': 651, 'dled': 6085, '3d': 592, 'imp': 7316, 'aint': 4592, 'smokin': 9873, 'Boooo': 1287, 'bec': 4968, 'Ugh': 4102, 'Ssnervous': 3768, 'costumes': 5733, 'gift': 6838, 'yowifes': 11340, 'Hint': 2230, 'hint': 7129, '£100': 11362, 'borrow': 5124, 'bag': 4899, 'outbid': 8653, 'simonwatson5120': 9783, 'Shinco': 3660, 'Plyr': 3240, 'bid': 5031, 'acsmsrewards': 4506, 'notifications': 8483, 'model': 8223, 'Youi': 4441, 'Also': 1055, 'galileo': 6778, 'dobby': 6089, 'responding': 9381, 'BOO': 1173, 'ENJOYIN': 1730, 'YOURJOB': 4403, 'SEEMED': 3465, 'GETTIN': 1981, 'HUNNYHOPE': 2166, 'OKTAKE': 3039, 'I\\x92LLSPEAK': 2397, '2U': 501, 'SOONLOTS': 3520, 'LOVEME': 2587, 'XXXX': 4371, 'starshine': 10052, 'Ache': 1006, 'fuck': 6743, 'sips': 9796, 'cappuccino': 5327, 'teasing': 10343, 'SMSSERVICES': 3507, 'yourinclusive': 11330, 'goto': 6909, 'wwwcomuknet': 11230, '3qxj9': 600, 'extra': 6436, '08702840625COMUK': 87, '220CM2': 445, '9AE': 923, 'alfie': 4609, 'Moons': 2870, 'Children': 1473, 'm8s': 7966, 'Tone': 4019, 'charity': 5426, '8007': 807, 'Nokias': 3004, 'Poly': 3254, 'polys': 8929, 'zed': 11350, '08701417012': 78, 'profit': 9083, 'Hmm': 2238, 'Bits': 1263, 'Hahahause': 2173, 'brain': 5151, 'turned': 10673, 'green': 6944, 'burial': 5231, 'MojiBiola': 2860, 'REVEAL': 3346, '09065174042': 249, 'recd': 9247, 'Cust': 1552, '07821230901': 42, 'mate': 8048, 'RV': 3366, 'hol': 7148, 'coz': 5756, 'haven\\x92t': 7052, 'ages': 4575, 'roadsRVx': 9443, 'skyped': 9824, 'kz': 7664, 'sura': 10236, 'Weve': 4300, 'given': 6851, 'ultimatum': 10709, 'countin': 5743, 'aburo': 4475, 'Surely': 3823, 'successful': 10182, 'VIDEO': 4151, 'five': 6590, '08002888812': 57, 'inconsiderate': 7339, 'nag': 8341, 'recession': 9259, 'hence': 7097, 'HALF': 2110, 'PRICE': 3164, 'Rental': 3413, 'vouchersText': 10904, 'nowSavaMobmember': 8490, 'Remove': 3411, 'soo': 9930, 'don\\x92t': 6125, 'understand': 10726, '2morrow': 521, 'comprehensive': 5638, 'Prashanthettans': 3269, 'mother': 8261, '09066350750': 254, 'Ibiza': 2342, '10000': 296, 'await': 4869, 'collection': 5589, '434': 624, 'SK3': 3496, '8WP': 902, 'ppm': 8984, 'Kkwhen': 2526, 'Meanwhile': 2808, 'suite': 10200, 'xavier': 11263, 'seconds': 9603, 'warning': 10955, 'samantha': 9524, 'playing': 8890, 'jays': 7495, 'guitar': 6981, 'impress': 7324, 'doug': 6138, 'realizes': 9233, 'stomach': 10100, 'trauma': 10621, 'swear': 10258, 'officewhats': 8555, 'mattermsg': 8056, 'nowi': 8496, 'shoes': 9722, 'wan': 10942, 'inner': 7370, 'tigress': 10482, 'activate': 4513, 'version': 10848, 'AH': 954, 'POOR': 3155, 'BABYHOPE': 1129, 'URFEELING': 4089, 'BETTERSN': 1158, 'LUV': 2598, 'PROBTHAT': 3169, 'OVERDOSE': 3053, 'WORK': 4234, 'CAREFUL': 1351, 'SPK': 3533, 'SN': 3508, 'LOTS': 2583, 'LOVEJEN': 2586, 'returned': 9405, 'Talk': 3926, 'fall': 6467, 'worlds': 11166, 'discreet': 6067, 'VIP': 4155, '83110': 835, 'Hai': 2175, 'ana': 4661, 'tomarrow': 10544, 'sathy': 9541, 'RTO': 3364, 'Spoons': 3757, 'okay': 8568, 'named': 8349, 'tampa': 10310, 'genius': 6816, 'whenever': 11051, 'connections': 5672, 'sort': 9943, 'Dude': 1713, 'lotta': 7903, 'corvettes': 5726, 'lately': 7712, 'yrs': 11342, 'supply': 10228, 'CDs': 1360, 'Virgin': 4178, 'Records': 3393, 'Mystery': 2901, 'Gift': 2051, '09061104283': 213, 'wwwsmsconet': 11248, '£150pm': 11377, 'approx': 4744, 'consider': 5677, 'walls': 10938, 'bunkers': 5226, 'peaceful': 8781, 'matter': 8055, '07808': 38, 'XXXXXX': 4373, '08719899217': 176, '41685': 616, '071104': 26, 'posh': 8950, 'birds': 5047, 'chaps': 5418, 'user': 10797, 'trial': 10637, 'prods': 9077, 'champneys': 5409, 'dob': 6088, 'asap': 4792, 'Ta': 3919, '0721072': 28, 'philosophical': 8828, 'hole': 7152, 'saved': 9550, 'goodno': 6900, 'problembut': 9066, 'american': 4645, 'drop': 6175, 'cuddle': 5800, 'nap': 8357, 'Atleast': 1103, 'Otherwise': 3100, 'Best': 1249, 'FRIEND': 1875, 'WORLD': 4235, 'Shakespeare': 3646, 'SHESIL': 3480, 'Shop': 3666, 'till': 10486, 'Drop': 1711, '10K': 306, '5K': 706, 'Cash': 1447, 'Travel': 4033, 'voucher': 10902, '09064011000': 236, 'NTT': 2941, 'CR01327BT': 1398, 'fixedline': 6594, 'castor': 5371, 'Liverpool': 2638, 'played': 8885, 'mid': 8150, '09058094565': 201, 'Secret': 3617, 'Admirer': 1013, '09065171142stopsms08': 247, 'Reminder': 3409, 'downloaded': 6141, 'Goto': 2081, 'httpdoit': 7220, 'mymoby': 8332, 'knew': 7636, 'woul': 11179, 'lead': 7732, 'wanting': 10948, 'curfew': 5811, 'gibe': 6837, 'MIDNIGHT': 2719, 'getsleep': 6829, 'studdying': 10145, 'ear': 6218, 'training': 10606, 'massages': 8041, 'oil': 8566, 'sup': 10219, 'Yoyyooo': 4445, 'permissions': 8809, 'mac': 7968, 'usb': 10790, 'Gibbs': 2050, 'unsoldmike': 10756, 'hussey': 7263, 'failed': 6456, 'Shes': 3654, 'sad': 9507, 'unbelievable': 10714, 'faglord': 6455, 'Wifehow': 4318, 'murder': 8316, 'exactly': 6396, 'Nutter': 3024, 'Cutter': 1559, 'Ctter': 1548, 'Cttergg': 1549, 'Cttargg': 1547, 'Ctargg': 1546, 'Ctagg': 1545, 'ie': 7297, 'Doesnt': 1687, 'thus': 10474, 'Superb': 3820, 'Thought': 3987, 'grateful': 6932, 'opportunity': 8611, 'happier': 7031, 'agents': 4574, 'booked': 5111, 'experiment': 6422, 'Thursday': 3991, 'Things': 3978, 'due': 6199, 'several': 9671, 'outstanding': 8665, 'invoices': 7414, 'possible': 8959, 'teach': 10333, 'Lovely': 2664, 'smell': 9862, 'tobacco': 10523, 'derek': 5971, 'taylor': 10327, 'assumed': 4813, 'worst': 11175, 'whats': 11047, 'charles': 5427, 'lastest': 7707, 'Stereophonics': 3780, 'Marley': 2795, 'Dizzee': 1682, 'Racal': 3367, 'Libertines': 2624, 'Strokes': 3792, 'Nookii': 3006, 'games': 6783, 'Flirt': 1921, 'Click': 1487, 'Bookmark': 1286, 'Plus': 3239, 'grinule': 6951, 'greet': 6945, 'WHITE': 4215, 'FUDGE': 1888, 'OREOS': 3047, 'STORES': 3554, 'January': 2428, 'Male': 2783, 'Sale': 3589, 'Hot': 2273, 'Gay': 2035, 'cheaper': 5440, '08709222922': 98, '15pmin': 381, '78pmin': 790, 'peak': 8782, '08712460324': 118, '10pmin': 312, 'Zahers': 4455, 'ym': 11307, 'nauseous': 8369, 'pissed': 8866, 'sweets': 10263, 'pig': 8855, 'dieting': 6023, 'chip': 5497, 'reminder': 9324, 'Iam': 2341, 'addicted': 4521, 'msging': 8284, 'wrong': 11195, 'photo': 8836, 'registered': 9297, 'Tmr': 4006, 'yck': 11287, 'ashleys': 4796, 'avalarr': 4858, 'hollalater': 7156, 'attend': 4830, 'rounds': 9470, 'todaybut': 10527, 'Actually': 1011, 'websitenow': 10997, 'blogging': 5081, 'magicalsongsblogspotcom': 7989, 'chikkuil': 5479, 'aftr': 4565, 'diet': 6022, 'ate': 4820, 'slices': 9837, 'kvb': 7662, 'acc': 4481, '88600': 883, '£1million': 11381, 'ppt150x3normal': 8986, 'box403': 5142, 'w1t1jy': 10911, 'fridayhope': 6713, 'alternativehope': 4638, 'ore': 8631, 'mo': 8213, 'owo': 8683, 'wa': 10913, 'moments': 8234, 'fro': 6733, 'wherever': 11056, 'samus': 9527, 'shoulders': 9737, 'Matthew': 2802, '09063440451': 232, '4Lux': 652, 'ppm150': 8985, 'Box334': 1296, 'SK38XH': 3497, 'wear': 10987, 'jeans': 7500, 'fever': 6532, 'vomitin': 10898, 'Kkare': 2517, '09061749602': 228, '£10000': 11364, '528': 696, 'HP20': 2159, '1YF': 411, 'Better': 1252, 'Made': 2776, 'Friday': 1951, 'stuffed': 10155, 'bleh': 5071, 'least': 7739, 'writhing': 11190, 'tons': 10562, 'paypal': 8777, 'Voila': 4182, 'Money': 2866, 'pockets': 8913, 'places': 8874, 'hospitals': 7193, 'medical': 8088, 'folks': 6635, '150pSMS': 363, 'sorta': 9944, 'blown': 5092, 'recently': 9257, 'id': 7287, 'scores': 9577, 'sophas': 9937, 'secondary': 9602, 'application': 4730, 'schools': 9572, 'applying': 4734, 'Contact': 1516, 'ogunrinde': 8564, 'expensive': 6419, 'photos': 8837, '08718720201': 152, '11414': 319, 'TCRW1': 3849, 'lodging': 7860, 'Chk': 1476, 'belovd': 5005, 'ms': 8282, 'dict': 6011, 'Shb': 3651, 'Beautiful': 1234, 'Truth': 4039, 'Gravity': 2086, 'Read': 3384, 'carefully': 5341, 'feels': 6521, 'heavy': 7079, 'NIGHT': 2922, 'dobbys': 6090, 'bowl': 5137, 'Filthy': 1910, 'stories': 10115, 'GIRLS': 1986, 'poor': 8938, 'ull': 10708, 'brand': 5154, 'decision': 5919, 'simpler': 9785, 'magical': 7988, 'Welp': 4294, 'apparently': 4724, 'retired': 9402, 'natwest': 8367, '£800': 11411, '09050001808': 187, 'M95': 2690, 'Valid12hrs': 4162, 'chad': 5403, 'gymnastics': 6989, 'site': 9803, 'Christians': 1479, 'backa': 4894, 'beautiful': 4965, 'necklace': 8384, 'token': 10536, 'youthats': 11332, 'WIFE': 4218, 'LIKINGBE': 2563, 'SEENO': 3467, 'thatdont': 10400, 'aptitude': 4750, '215': 440, 'horse': 7190, 'racing': 9172, 'earlier': 6219, 'chicken': 5470, 'rice': 9417, 'closes': 5551, 'wrongly': 11196, 'ad': 4518, 'crap': 5762, 'borin': 5121, 'boggy': 5100, 'boring': 5122, 'biatch': 5030, 'nxt': 8518, 'il': 7304, 'hesitate': 7111, 'weakness': 10984, 'notebook': 8477, 'salary': 9515, 'chocolate': 5498, 'dayshe': 5886, 'potential': 8971, 'talent': 10301, 'Reckon': 3392, 'eightish': 6268, 'carpark': 5355, '3G': 579, 'Videophones': 4173, '09063458130': 234, 'videochat': 10860, 'java': 7491, 'Dload': 1683, 'polyPH': 8926, 'noline': 8457, 'rentl': 9337, 'FUCKIN': 1885, 'FUCK': 1883, 'THINK': 3880, 'dropped': 6176, 'Carlos': 1443, 'loving': 7923, 'Yun': 4448, 'ahthe': 4587, 'ubi': 10702, 'tomorrowcall': 10550, '67441233': 742, 'ireneere': 7425, 'bus822656166382': 5238, 'Ubi': 4099, 'cresubi': 5779, 'tech': 10344, 'park6ph': 8735, '5wkg': 722, 'daysèn': 5889, 'Gotta': 2082, 'sd': 9592, 'butt': 5245, 'sore': 9938, 'JULY': 2418, 'relaxing': 9308, '7am': 796, 'party': 8747, '5ish': 715, 'stripes': 10135, 'skirt': 9820, 'peace': 8780, 'miracle': 8184, 'jesus': 7507, 'Hav': 2193, 'blessed': 5073, 'Change': 1459, 'escalator': 6348, 'Yetunde': 4437, 'Feels': 1903, 'quiet': 9162, 'Beth': 1251, 'aunts': 4846, 'charlie': 5428, 'helen': 7083, 'thanks': 10393, 'Nobut': 2994, 'heard': 7067, 'syllabus': 10275, 'Panasonic': 3182, 'BluetoothHdset': 1275, 'DoubleMins': 1701, 'DoubleTxt': 1702, 'contract': 5693, '730pm': 779, 'theyre': 10427, 'Poyyarikaturkolathupalayamunjalur': 3264, 'posterode': 8966, 'Heroi': 2220, 'apt': 4749, 'opportunitypls': 8613, 'ltEMAILgt': 7936, 'kerala': 7595, 'terrible': 10370, 'fan': 6477, 'Meat': 2809, 'lovers': 7920, 'supreme': 10235, 'toldshe': 10540, 'wats': 10976, 'Dearregret': 1637, 'cudnt': 5803, 'calldrove': 5289, 'frm': 6725, 'ctla': 5797, 'homeleft': 7162, 'carente': 5344, 'ishtamayoohappy': 7437, 'bakrid': 4905, 'exe': 6407, 'knowwait': 7645, 'glorious': 6861, 'anniversary': 4678, 'J': 2403, 'finds': 6564, 'Prey': 3279, 'coaxing': 5568, 'images': 7309, 'fond': 6641, 'souveniers': 9960, 'CougarPen': 1528, 'Somebody': 3725, 'secretly': 9606, 'fancies': 6479, 'Wanna': 4266, '09065394514': 250, 'DATEBox1282EssexCM61XN': 1569, '150pmin': 367, 'Hasnt': 2192, 'pattern': 8765, 'throat': 10460, 'scratches': 9582, 'plm': 8899, 'asleep': 4805, 'foreign': 6657, 'stamps': 10042, 'lecture': 7746, 'YEAR': 4385, 'NO1': 2926, 'MAN': 2697, 'MR': 2754, 'SHEFFIELD': 3479, 'boss': 5125, 'nanny': 8355, 'raise': 9183, 'ZOE': 4453, 'HIT': 2137, 'FUCKING': 1886, 'SHITIN': 3482, 'IL': 2304, 'DEFO': 1579, 'TRY': 3910, 'HARDEST': 2114, 'CUM': 1408, 'MILLIONS': 2720, 'LEKDOG': 2554, 'setting': 9665, 'Filling': 1908, 'loverboy': 7919, 'blankets': 5068, 'sufficient': 10194, 'thx': 10475, 'gettin': 6831, 'nyt': 8521, 'Edison': 1764, 'rightly': 9423, 'fool': 6646, 'speechless': 9981, 'ViVa': 4171, 'GMGNGEGNT': 1991, 'atten': 4829, 'roast': 9444, 'i\\x92d': 7469, 'indian': 7347, '09058097218': 209, 'LS15HB': 2590, 'concentrate': 5647, 'educational': 6247, 'flirting': 6614, 'BLOKE': 1167, 'chatting': 5438, 'walked': 10930, 'doesn\\x92t': 6100, 'serious': 9657, 'kickoff': 7608, 'Unsubscribe': 4126, 'EURO': 1736, 'soiree': 9901, 'June': 2464, '3rd': 601, 'sells': 9635, 'data': 5870, 'analysis': 4662, 'thesis': 10424, 'Jays': 2432, 'belligerent': 5001, 'HIYA': 2138, 'COMIN': 1387, 'BRISTOL': 1194, 'ST': 3541, 'WEEK': 4206, 'APRIL': 973, 'LES': 2555, 'GOT': 2012, 'RUDI': 3365, 'YRS': 4405, 'SNORINGTHEY': 3510, 'DRUNK': 1611, 'COLLEGE': 1385, 'YET': 4396, 'SENDS': 3470, 'INK': 2321, 'BATH': 1139, '515': 691, 'howre': 7209, 'throwing': 10463, 'deciding': 5917, 'EASTENDERS': 1720, 'TV': 3913, 'FLOWER': 1856, 'DOT': 1601, 'compare': 5622, 'VIOLET': 4154, 'E': 1717, 'TULIP': 3912, 'F': 1832, 'LILY': 2564, '84025': 847, 'WKENT150P16': 4228, 'technical': 10345, 'support': 10229, 'processnetworking': 9076, 'daysso': 5887, 'prepared': 9015, 'finalise': 6558, 'travel': 10622, 'visitneed': 10884, 'works': 11162, 'dates': 5872, 'Lots': 2659, 'AREA': 974, 'wwwflirtpartyus': 11232, 'REPLYS150': 3344, 'bitch': 5054, 'dentist': 5959, 'Meeting': 2813, 'Tel': 3939, '09058091854': 196, 'revealed': 9409, 'BOX385': 1183, 'M6': 2689, '6WU': 761, 'bathing': 4941, '09050003091': 189, 'C52': 1338, 'Uve': 4143, 'XCHAT': 4364, 'CHAT': 1367, 'Lul': 2679, 'juicy': 7547, 'gossip': 6905, 'Two': 4061, 'nurses': 8512, 'obese': 8527, 'Oyea': 3101, 'Oi': 3062, 'Ami': 1063, 'parchi': 8727, 'na': 8338, 'Kicchu': 2504, 'kaaj': 7562, 'korte': 7656, 'iccha': 7282, 'korche': 7653, 'ta': 10281, 'tul': 10669, 'movies': 8274, 'Dvd': 1716, 'copies': 5713, 'sculpture': 9591, 'Convey': 1518, 'regards': 9295, 'surya': 10248, 'vijay': 10866, 'POKKIRI': 3149, 'pic': 8842, 'dearer': 5904, 'dem': 5952, 'attractioni': 4835, 'meshe': 8130, 'thoughtsI': 10453, 'hershe': 7106, 'dreamlove': 6155, 'breath': 5164, 'namemy': 8350, 'hermy': 7104, 'herI': 7099, 'herwill': 7108, 'sorrowsI': 9940, 'fight': 6540, 'craziest': 5768, 'herlove': 7103, 'proove': 9100, 'planetI': 8879, 'singing': 9791, 'praises': 8994, 'curry': 5815, 'makiing': 8002, 'sambarlife': 9525, 'thenwill': 10414, 'god': 6872, 'meI': 8075, 'lotwill': 7905, 'FRNDSHIP': 1881, 'needle': 8391, 'clock': 5544, 'Though': 3986, 'Evn': 1812, 'meetitz': 8096, '4few': 662, 'alwys': 4642, 'conected': 5657, 'spatula': 9970, 'hands': 7015, 'NOTHING': 2936, 'SiPix': 3676, 'Digital': 1665, 'Camera': 1430, '09061221061': 216, 'Delivery': 1648, '28days': 472, 'Box177': 1294, 'M221BP': 2684, '2yr': 541, 'warranty': 10956, 'p': 8687, 'p£399': 9147, '09061790121': 229, 'valid': 10824, 'doctor': 6094, 'calis': 5274, 'complexities': 5635, 'freely': 6703, 'taxes': 10323, 'outrageous': 8660, 'tomorro': 10548, 'Ryder': 3443, 'unsoldnow': 10757, 'gibbs': 6836, 'Subscriber': 3804, 'receipt': 9249, 'Elvis': 1775, 'Presleys': 3277, 'Birthday': 1259, 'fret': 6710, 'strips': 10136, 'postal': 8963, 'addressull': 4525, 'alrightOkay': 4632, 'GIFTS': 1983, 'cliff': 5541, 'ne': 8374, 'interesting': 7395, 'wrking': 11192, 'uni': 10739, 'depressed': 5967, 'sittin': 9806, 'wind': 11086, 'drops': 6177, 'Black': 1264, 'Aiyah': 1035, 'Message': 2817, 'Important': 2356, 'information': 7357, 'O2': 3030, 'onto': 8597, 'httpwwwurawinnercom': 7229, 'surprise': 10243, 'awaiting': 4870, 'hen': 7096, 'online': 8592, 'Italian': 2387, 'grins': 6950, 'smoked': 9871, 'math': 8050, 'sfirst': 9677, 'timedhoni': 10489, 'rocks': 9450, 'teju': 10351, 'hourish': 7200, 'nothis': 8481, 'groundamla': 6957, 'durban': 6208, 'convenience': 5696, 'evaluation': 6364, '449050000301': 631, '09050000301': 180, 'Bored': 1289, 'speed': 9982, 'Try': 4041, 'SPEEDCHAT': 3529, '80155': 811, 'SWAP': 3575, 'chatter': 5437, 'Chat80155': 1465, 'rcd': 9208, 'Cancel': 1434, 'cheyyamoand': 5464, '08000776320': 52, 'Tomorrow': 4018, 'Okok': 3069, 'okthenwhats': 8574, 'Aiyar': 1036, 'survey': 10247, '80160': 812, 'wwwtxt43com': 11255, 'Catching': 1449, 'throws': 10465, 'gal': 6776, 'falls': 6470, 'brothers': 5194, 'whos': 11064, 'gayD': 6801, 'HMV1': 2143, 'errors': 6342, 'difficulties': 6031, 'correction': 5722, 'Howz': 2280, 'painhope': 8702, 'tau': 10320, 'sar': 9533, 'piah': 8841, 'Requests': 3415, '1stchoicecouk': 419, 'Information': 2372, '08707808226': 95, 'wearing': 10988, 'Ohas': 3060, 'film': 6553, '150pMsg': 359, 'HGSuite3422LandsRowW1J6HL': 2133, 'LDN': 2552, 'Mine': 2831, 'shades': 9680, 'copied': 5712, 'notified': 8484, 'Luck': 2674, 'marketing': 8031, '84122': 848, '08450542832': 70, 'Babe': 1211, 'Raining': 3369, 'station': 10065, 'tank': 10311, 'girls': 6847, 'virgins': 10878, '4fil': 663, 'sexual': 9675, 'CUTE': 1411, '69911£150p': 754, 'sitter': 9805, 'kaitlyn': 7566, 'silent': 9778, 'Something': 3728, 'Hes': 2221, 'adult': 4541, 'Theres': 3974, 'danger': 5854, 'peeps': 8785, 'comment': 5614, 'veggie': 10840, 'plus': 8906, 'neighbors': 8399, 'computerless': 5643, 'Time': 3999, 'balloon': 4908, 'otherwise': 8645, 'Msgs': 2887, 'passThey': 8751, 'silently': 9779, 'Gd': 2037, 'ntswt': 8502, 'drms': 6173, 'Shesil': 3655, 'probably': 9063, 'roommate': 9462, 'WRC': 4244, 'Rally': 3374, 'Oz': 3102, 'Lucozade': 2677, 'Energy': 1783, 'RALLY': 3323, 'LE': 2553, '61200': 730, 'packs': 8694, 'lucozadecoukwrc': 7945, 'itcould': 7450, 'melody': 8106, 'Yay': 4415, 'Horrible': 2269, 'macs': 7975, 'toot': 10571, 'bigger': 5034, 'N': 2902, 'nw': 8517, 'hme': 7142, 'islands': 7439, 'chennai': 5455, 'velachery': 10842, 'flippin': 6612, 'breaking': 5162, 'cstore': 5796, 'Annoying': 1067, 'hangin': 7021, 'mr': 8278, 'makin': 8003, 'alivebetter': 4616, 'lodge': 7859, 'Trust': 4038, 'worrying': 11172, 'appt': 4746, 'shame': 9688, 'quizzes': 9168, 'popcorn': 8942, 'Sex': 3638, 'Jordan': 2455, 'celeb': 5390, 'PocketBabecouk': 3250, '£3wk': 11392, '087016248': 81, 'voicemail': 10895, '08719181503': 173, 'moan': 8214, 'thin': 10429, 'faultal': 6500, 'arguments': 4766, 'faultfed': 6501, 'himso': 7127, '2go': 513, 'thanxxx': 10397, 'NEFT': 2910, 'reference': 9281, 'credited': 5775, 'beneficiary': 5011, 'natuition': 8364, 'understanding': 10727, 'store': 10112, 'choice': 5499, 'enter': 6320, 'Weekly': 4289, 'wwwLdewcomsubs161win150ppmx3': 11218, 'appreciated': 4738, 'map': 8022, 'semi': 9638, 'argument': 4765, 'apart': 4714, 'P': 3103, 'subscriber': 10174, 'delivered': 5949, 'OK': 3037, 'EXP': 1750, '30Apr': 551, 'strong': 10137, 'arms': 4774, 'maaaan': 7967, 'april': 4747, 'Guessin': 2102, 'walmart': 10939, 'Ilol': 2351, 'personally': 8816, 'wuldnt': 11207, 'mite': 8205, 'creepy': 5778, 'lunchtime': 7948, 'organise': 8634, '08719181513': 174, 'Damn': 1619, 'Kkim': 2522, 'finewhen': 6568, 'complete': 5630, 'passable': 8752, 'score': 9576, 'phd': 8826, '5years': 723, 'easier': 6228, 'NOK': 2932, '87021': 867, 'txtin': 10688, '150ptone': 375, '4info': 668, 'Prakesh': 3267, 'Teach': 3932, 'apps': 4745, 'Rofl': 3431, 'betta': 5019, 'invest': 7407, 'anti': 4696, 'aging': 4577, 'products': 9078, '1hr': 413, 'delay': 5943, 'RECEIVE': 3337, 'POST': 3158, 'accommodation': 4490, 'various': 10832, 'global': 6860, 'wwwphb1com': 11241, 'ph08700435505150p': 8824, 'submitting': 10170, 'ENTER': 1731, '84128': 849, 'wwwtextcompcom': 11251, 'cust': 5817, '08712405020': 116, 'Ull': 4107, '1s': 416, 'snatch': 9885, 'purse': 9137, 'Hellodrivby0quit': 2211, 'edrunk': 6245, 'iff': 7298, 'pthis': 9116, 'senrddnot': 9644, 'dancce': 5848, 'drum': 6183, 'basqihave': 4935, '2nhite': 527, 'ros': 9465, 'xxxxxxx': 11275, 'morn': 8254, 'relieved': 9311, 'westonzoyland': 11038, 'greatness': 6942, 'europe': 6363, 'Nobody': 2993, 'Chinese': 1475, 'docs': 6093, 'songs': 9928, 'king': 7622, 'havin': 7053, 'goin2bed': 6881, 'Only1more': 3079, 'mc': 8069, 'HUN': 2163, '2NITETELL': 496, 'EVERY1': 1743, 'SORRY': 3521, 'AVA': 986, 'GOODTIMEOLI': 2008, 'RANG': 3325, 'MELNITE': 2711, 'IFINK': 2298, 'MITE': 2731, 'SORTEDBUT': 3522, 'EXPLAIN': 1751, 'EVERYTHIN': 1744, 'MONL8RSx': 2744, '08712402779': 112, 'flip': 6611, 'shun': 9758, 'bian': 5029, 'glass': 6858, 'exhibition': 6413, 'el': 6270, 'nino': 8440, 'chikkugoing': 5478, 'cbe': 5384, 'Honey': 2263, 'boo': 5108, 'JD': 2411, 'Accounts': 1005, 'Executive': 1821, 'parents': 8731, 'picked': 8845, 'downstem': 6144, 'Hungry': 2286, 'gay': 6800, '08718730555': 165, 'wahala': 10916, 'inperialmusic': 7375, 'listening2the': 7833, 'weirdest': 11018, 'by\\x94leafcutter': 5258, 'john\\x94sounds': 7523, 'insects': 7377, 'molestedsomeone': 8231, 'plumbingremixed': 8904, 'evil': 6388, 'acid': 4503, 'didntgive': 6015, 'bellearlier': 5000, 'hunnyjust': 7252, 'bedbut': 4974, 'thepub': 10417, 'l8tr': 7667, 'uwana': 10812, 'uploads': 10769, 'Jenxxx': 2436, 'SERIOUSLY': 3472, 'TELL': 3855, 'EXACT': 1746, 'WORDS': 4233, 'RIGHT': 3351, '09096102316': 282, '2moro': 518, 'JANE': 2407, 'Calls£1minmoremobsEMSPOBox45PO139WA': 1428, 'Tee': 3938, 'hee': 7081, 'cheery': 5451, 'cell': 5394, 'thts': 10470, 'dough': 6139, 'control': 5695, '80488biz': 816, 'Wot': 4349, 'weirdo': 11019, 'mode': 8222, 'depends': 5964, 'stalk': 10039, 'profiles': 9082, 'Jerry': 2440, 'Person': 3204, 'Irritates': 2383, 'Always': 1057, 'Vry': 4186, 'Much': 2888, 'Fails': 1892, 'Express': 1827, 'gud': 6971, 'drinkin': 6164, 'wondering': 11143, 'others': 8644, 'dog': 6102, 'Must': 2896, 'HeyGreat': 2223, 'dealFarm': 5896, 'tour': 10596, '9am': 925, '5pm': 719, '95pax': 918, 'deposit': 5965, 'Eat': 1760, 'jap': 7489, 'disappeared': 6058, 'birthdate': 5050, 'certificate': 5401, 'publish': 9120, 'dreams': 6156, 'nydc': 8520, 'wheellock': 11050, 'SAID': 3449, 'EAT': 1721, 'SHIT': 3481, 'destination': 5983, 'Fifty': 1906, 'favour': 6506, 'settling': 9669, 'happenin': 7028, 'ola': 8576, 'cocksuckers': 5572, 'ipads': 7422, 'worthless': 11177, 'garbage': 6790, 'novelty': 8488, 'items': 7451, 'tshirt': 10659, 'FRAN': 1863, 'DECIDED': 1577, 'WAY': 4201, 'COMPLETELY': 1390, 'BROKE': 1195, 'KNACKERED': 2478, 'BOUT': 1178, '2MRW': 493, 'JANX': 2409, 'PS': 3171, 'DADS': 1563, 'FONE': 1859, 'CREDIT': 1401, 'Designation': 1653, 'software': 9899, 'developer': 5993, 'jamster': 7483, 'videosound': 10862, 'gold': 6883, 'club': 5557, 'videosounds2': 10863, 'logosmusicnews': 7869, 'jamstercouk': 7484, '16only': 385, '09701213186': 290, 'Lions': 2635, 'lionm': 7822, 'mono': 8245, 'lionp': 7823, 'wwwringtonescouk': 11244, 'original': 8636, '3GBP': 580, 'jokin': 7533, 'careful': 5340, 'spirit': 9995, 'bb': 4949, 'shattered': 9695, 'alrite': 4633, 'idiot': 7294, 'bak': 4903, 'girlie': 6846, 'colours': 5597, 'darker': 5860, 'styling': 10164, 'Whenevr': 4307, 'gray': 6935, 'Remembr': 3406, 'listn': 7834, 'watevr': 10974, 'whileamp': 11058, '“Harry': 11422, 'Potter': 3262, 'Phoenix': 3216, 'HARRY': 2115, 'among': 4651, 'readers': 9221, 'shd': 9697, 'minus': 8180, 'paragraphs': 8724, 'coveragd': 5754, 'vasai': 10835, '4o': 670, 'retard': 9401, 'bathroom': 4942, 'sang': 9530, 'Uptown': 4132, 'Girl': 2054, '80s': 820, 'ANSWER': 968, 'luck': 7942, 'february': 6514, 'rush': 9497, 'jay': 7492, 'Nite': 2987, 'Icic': 2345, 'Syria': 3833, 'Canada': 1432, 'heartsnot': 7074, 'cares': 5345, 'GOODNOON': 2007, 'Sweet': 3827, 'gauge': 6797, 'pattys': 8767, 'interest': 7393, 'mondaynxt': 8238, 'vl': 10890, 'completing': 5634, 'Might': 2824, 'ax': 4877, 'chill': 5489, '6hrs': 764, 'surgical': 10241, 'emergency': 6291, 'unfolds': 10734, 'Crazy': 1538, 'married': 8036, 'frens': 6708, 'korean': 7654, 'leonas': 7764, 'Fredericksburg': 1940, 'Que': 3310, 'pases': 8749, 'un': 10712, 'buen': 5215, 'tiempo': 10479, 'Xavier': 4374, 'chillin': 5491, 'super': 10220, 'FREE2DAY': 1866, 'St': 3769, 'Georges': 2045, 'JordanTxt': 2456, 'PIC': 3124, '89080': 891, 'saucy': 9548, 'celeb4': 5391, '0870241182716': 84, 'Bugis': 1325, 'tmrw': 10517, 'Heart': 2201, 'Compass': 1508, 'Soul': 3739, 'Guide': 2103, 'worldgnun': 11164, 'Sent': 3628, 'WAY2SMSCOM': 4202, 'Goodnight': 2073, 'Baaaaabe': 1210, 'misss': 8198, 'youuuuu': 11333, 'ned': 8385, 'convince': 5702, 'tht': 10469, 'witot': 11115, 'hurting': 7260, 'main': 7997, 'sweetie': 10262, 'blackberry': 5061, 'buyer': 5249, 'melike': 8105, '4a': 659, 'pple': 8982, 'marry': 8037, 'becz': 4972, 'undrstndng': 10731, 'avoids': 4868, 'problems': 9069, 'chain': 5404, 'suffer': 10191, 'whn': 11062, 'arrested': 4781, 'Shuhui': 3674, 'suntec': 10218, 'steamboat': 10078, 'dance': 5849, 'moji': 8229, 'forgive': 6663, 'yahoo': 11281, 'messenger': 8142, 'reaching': 9217, 'tp': 10600, 'HOT': 2153, 'LIVE': 2568, 'FANTASIES': 1835, '08707509020': 93, '20p': 436, '1327': 344, 'Croydon': 1541, 'CR9': 1399, '5WB': 709, '0870k': 100, 'Bbq': 1228, '6ish': 765, 'everyso': 6383, 'often': 8561, 'panicks': 8711, 'outhave': 8658, 'fill': 6549, 'bar': 4919, 'write': 11189, 'Put': 3302, 'Dictionary': 1662, '3Cover': 577, 'screen': 9587, '4Press': 655, '5Gently': 704, 'Bears': 1233, 'Pic': 3219, 'Nick': 2977, 'Tom': 4016, 'Dick': 1661, 'fact': 6450, 'types': 10696, 'upload': 10767, '08718730666': 166, 'Auntie': 1108, 'huai': 7231, 'juan': 7545, 'Linerental': 2633, 'call2optoutLF56': 5282, 'tlk': 10513, 'ideal': 7291, 'path': 8762, 'appear': 4726, 'front': 6736, 'paths': 8763, 'walking': 10932, 'arm': 4770, 'shot': 9736, 'reserve': 9367, 'thirunelvali': 10440, 'tirunelvali': 10504, 'sunday': 10211, 'evei': 6368, 'netno': 8405, 'availablei': 4856, 'tackle': 10286, 'Storming': 3788, 'phne': 8830, 'HELLO': 2127, 'wt': 11199, 'meaning': 8080, 'Margaret': 2793, 'girlfrnd': 6845, 'f': 6443, 'Grahmbell': 2084, 'invnted': 7413, 'telphone': 10358, 'MoralOne': 2873, '4get': 664, 'h': 6991, 'popped': 8943, 'tonght': 10555, 'ploughing': 8900, 'pile': 8857, 'ironing': 7427, 'Staying': 3778, 'chinky': 5495, 'ki': 7605, 'wi': 11067, 'nz': 8522, 'players': 8887, 'unsold': 10755, 'muz': 8329, 'effect': 6254, 'Geelater': 2042, 'aust': 4849, 'bk': 5058, 'cafe': 5264, 'recharged': 9262, 'kidding': 7611, 'papa': 8716, 'shld': 9718, 'stretch': 10130, 'detailed': 5986, 'Sinco': 3686, 'Payee': 3195, 'Log': 2646, 'icicibankcom': 7284, 'URN': 4093, 'Beware': 1253, 'frauds': 6694, 'share': 9692, 'disclose': 6064, 'vote': 10900, 'caring': 5349, 'losers': 7892, 'Kaiez': 2484, 'tuition': 10668, 'Gee': 2039, 'option': 8621, 'beta': 5018, 'practicing': 8991, 'babies': 4887, 'Kkany': 2515, 'IMPORTANT': 2312, 'INFORMATION': 2320, 'USER': 4097, 'LUCKY': 2593, 'LOG': 2573, 'ONTO': 3044, 'HTTPWWWURAWINNERCOM': 2161, 'FANTASTIC': 1836, 'SURPRISE': 3570, 'AWAITING': 989, 'noncomittal': 8460, 'beneath': 5010, 'pale': 8706, 'moon': 8253, 'goodnite': 6899, '150pMsgrcvdHGSuite3422LandsRowW1J6HL': 360, 'snickering': 9887, 'tells': 10356, 'totally': 10590, 'chords': 5504, 'Nofew': 2995, 'beforewent': 4986, 'rem': 9315, 'silver': 9781, 'black': 5059, 'Lmao': 2641, 'Speak': 3746, 'silence': 9777, 'wwwLdewcom': 11215, 'win150ppmx3age16': 11085, 'THING': 3879, 'THANX': 3867, 'EXAMS': 1747, 'MARCH': 2699, 'IVE': 2339, 'REVISION': 3347, 'STILL': 3548, 'BOYF': 1188, 'GOTTA': 2014, 'INTERVIW': 2326, 'EXETER': 1748, 'BIT': 1165, 'WORRIEDx': 4236, 'spreadsheet': 10017, 'whose': 11065, 'determine': 5989, 'entire': 6326, 'sale': 9516, 'arsenal': 4785, 'dartboard': 5868, 'condition': 5653, 'doubles': 6136, 'trebles': 10633, 'building': 5220, 'coat': 5567, 'hurry': 7258, 'painful': 8701, 'everybody': 6377, 'nobody': 8450, 'recognises': 9266, 'alone': 4626, 'wisheds': 11103, 'intrepid': 7403, 'duo': 6207, 'sen': 9640, 'missin': 8194, 'guilty': 6980, 'Aiya': 1034, 'Arms': 1088, 'Cardiff': 1439, 'addie': 4522, 'tues': 10665, 'wed': 10998, 'breeze': 5168, 'Bright': 1310, 'Fresh': 1949, 'flower': 6621, 'Twittering': 4060, 'GOODMORNING': 2004, 'Yagoing': 4408, 'restaurant': 9389, 'TEXTPOD': 3863, 'POD': 3147, 'wwwtextpodnet': 11252, 'ducking': 6195, 'chinchillas': 5493, 'function': 6756, 'headstart': 7061, '230ish': 448, 'desperate': 5980, 'earlierwe': 6220, 'rummer': 9490, 'flying': 6629, 'monkeys': 8244, 'certainly': 5400, 'don‘t': 6126, 'optin': 8620, 'BBC': 1140, 'charts': 5431, 'thanks2': 10394, 'rajini': 9186, 'practical': 8989, 'june': 7553, 'Stupidits': 3798, 'Summers': 3813, 'MATCHED': 2704, 'SUMMER': 3565, 'OptOut': 3089, 'Help08714742804': 2215, 'spys': 10021, 'mails': 7996, 'CLAIRE': 1379, '2nite': 529, '09099725823': 283, 'Bought': 1291, 'costing': 5730, 'offering': 8548, 'Yalru': 4410, 'lyfu': 7959, 'astne': 4815, 'innu': 7373, 'mundhe': 8314, 'lyf': 7958, 'ali': 4612, 'halla': 7007, 'ke': 7586, 'bilo': 5042, 'marriageprogram': 8035, 'edhae': 6243, 'ovr': 8673, 'chikkuali': 5477, 'vargu': 10831, 'meow': 8125, 'meowD': 8126, 'Kinda': 2509, 'twelve': 10681, 'Aah': 992, '09066362231': 260, '07xxxxxxxxx': 49, 'bonus': 5107, 'caller': 5291, '020603': 8, 'ASAP': 978, 'Later': 2608, 'prone': 9098, 'Lucky': 2676, '07801543489': 37, 'latests': 7717, 'wordCOLLECT': 11151, 'No83355': 2990, 'TCLLC': 3848, 'NYUSA': 2946, '150pMt': 361, 'msgrcvd18': 8285, 'permission': 8808, 'LUCY': 2594, 'Hubby': 2282, 'meetins': 8095, 'Fri': 1950, 'cumin': 5806, '09099726395': 284, 'Lucy': 2678, 'Calls£1minMobsmoreLKPOBOX177HP51FL': 1427, 'wonders': 11144, '7th': 802, '6th': 770, '5th': 720, '4th': 673, 'Personality': 3205, 'Nature': 2957, 'Friendship': 1953, 'dose': 6131, 'tablet': 10284, 'REAL': 3328, 'Valentine': 4159, 'incomm': 7338, 'blakes': 5063, 'March': 2791, 'Waitshould': 4260, 'lotr': 7899, 'w': 10910, 'keeping': 7589, 'google': 6903, 'maps': 8024, 'tiring': 10502, 'Uni': 4117, 'modules': 8227, 'concentrating': 5648, 'welp': 11027, 'browsin': 5201, 'compulsory': 5640, 'Purity': 3299, 'smiling': 9869, 'messageIts': 8134, 'musthu': 8325, 'investigate': 7408, '80488': 815, 'www80488biz': 11211, 'vomit': 10897, 'moneYas': 8239, 'youmoney': 11325, 'thinghow': 10431, 'sha': 9679, 'vitamin': 10887, 'Anyone': 1069, 'centre': 5397, 'crucial': 5789, 'someones': 9910, 'JSco': 2417, '2channel': 508, 'leadership': 7733, 'skills': 9815, 'Psychic': 3295, 'ANS': 967, 'wquestion': 11185, 'JSCO': 2416, 'Hostbased': 2272, 'IDPS': 2297, 'linux': 7820, 'systems': 10280, '0870': 74, 'dawhats': 5878, 'Total': 4024, 'converter': 5699, 'Vote': 4183, 'along': 4627, 'stars': 10051, 'Karaoke': 2488, 'SING': 3492, 'testing': 10375, 'sayy': 9560, 'loved': 7915, 'except': 6400, 'nit': 8442, 'Peteis': 3208, 'Jenny': 2435, 'Leannewhat': 2616, 'eight': 6266, 'file': 6547, 'format': 6671, 'disc': 6063, 'internet': 7398, 'prey': 9037, 'champ': 5407, 'glasgow': 6857, 'Kall': 2485, 'bestcongrats': 5015, 'lovin': 7922, 'arrive': 4783, 'shortly': 9734, 'install': 7382, 'browse': 5199, 'artists': 4787, 'corect': 5717, 'speling': 9984, 'Sarcasm': 3596, '10803': 305, '08714719523': 131, 'BT': 1198, 'forum': 6678, 'ron': 9458, 'darren': 5867, 'Hicts': 2226, 'employee': 6294, 'aunt': 4844, 'nike': 8438, 'sooo': 9934, 'screaming': 9586, 'shouting': 9741, 'dang': 5853, 'Unfortunately': 4116, 'airport': 4595, 'Remember': 3403, '7250i': 776, 'auction': 4839, '86021': 861, 'RowW1JHL': 3437, 'Fingers': 1915, 'Makes': 2781, 'difficult': 6030, 'Midnight': 2823, 'earliest': 6221, 'nordstrom': 8465, 'konw': 7652, 'waht': 10920, 'rael': 9176, 'FRIENDSHIP': 1877, 'gving': 6987, 'yuo': 11346, 'exmpel': 6415, 'Jsut': 2462, 'ese': 6350, 'tihs': 10483, 'Evrey': 1814, 'splleing': 10001, 'wrnog': 11194, 'sitll': 9804, 'raed': 9175, 'wihtuot': 11077, 'ayn': 4878, 'mitsake': 8206, 'GOODNIGHT': 2005, 'SLEEPSWEET': 3502, 'DREAMS': 1607, 'conference': 5658, 'wwworangecoukow': 11240, 'degree': 5937, 'joining': 7528, 'finance': 6560, 'prospects': 9107, 'bleak': 5070, 'hmmm': 7144, 'filled': 6550, 'Shant': 3650, 'Jia': 2444, 'Bishan': 1260, 'nearer': 8377, 'sux': 10250, 'raiden': 9179, 'buff': 5216, 'south': 9958, 'preferably': 9010, 'kegger': 7591, 'totes': 10591, 'pierre': 8854, 'cardin': 5334, 'costs': 5731, 'rhythm': 9416, 'establish': 6357, 'Truro': 4037, 'Hospital': 2270, 'ext': 6434, 'Single': 3688, 'gas': 6794, 'gang': 6786, 'nature': 8366, 'adventure': 4544, 'Dnt': 1684, 'worryuse': 11173, 'ice': 7283, 'cloth': 5553, 'packalso': 8692, 'tablets': 10285, 'sunroof': 10216, 'Sux': 3825, 'excellent': 6399, 'sub': 10166, 'Tmrw': 4007, 'finishing': 6574, 'doors': 6129, 'wifi': 11076, '3g': 594, 'blanked': 5066, 'image': 7308, 'Noi': 2997, 'rumour': 9491, 'Near': 2958, 'kalainar': 7568, 'officethenampet': 8553, 'AUCTION': 983, 'BRAND': 1190, '7250': 775, 'Auction': 1104, 'catching': 5376, 'nosy': 8475, 'Idk': 2349, 'reacting': 9218, 'freaked': 6696, 'satanic': 9540, 'imposter': 7323, 'meneed': 8116, 'priceso': 9040, 'itmay': 7458, 'destiny': 5984, 'Companion': 1506, 'Chef': 1471, 'listener': 7831, 'Organizer': 3096, 'boyfriend': 5145, 'Sympathetic': 3832, 'Athletic': 1100, 'Warm': 4270, 'Courageous': 1530, 'Determined': 1655, 'Dependable': 1650, 'Intelligent': 2376, 'Psychologist': 3296, 'Pest': 3206, 'exterminator': 6435, 'Psychiatrist': 3294, 'Healer': 2199, 'Stylist': 3800, 'Driver': 1710, 'Aaniye': 993, 'pudunga': 9122, 'venaam': 10843, 'brothas': 5192, 'chasing': 5433, 'chez': 5465, 'jules': 7548, 'Hhahhaahahah': 2224, 'rofl': 9451, 'wtf': 11201, 'nig': 8426, 'leonardo': 7763, 'dereks': 5972, 'Sunday': 3815, 'lt3': 7934, 'kicks': 7609, 'john': 7522, '2years': 540, 'strain': 10120, 'dime': 6037, 'transfer': 10613, 'withdraw': 11110, 'anyhow': 4700, 'falling': 6469, 'bcoz': 4954, 'force': 6654, 'smeone': 9864, 'millers': 8158, 'soul': 9951, 'fire': 6577, 'spark': 9968, 'flame': 6599, 'rawring': 9204, 'XoXo': 4376, 'Somewhr': 3730, 'surely': 10238, 'crushes': 5792, 'honeymoon': 7169, 'outfit': 8655, 'propose': 9104, '08719899230': 178, 'blame': 5064, 'Bad': 1216, 'Gods': 2064, 'blessings': 5076, 'cheque': 5458, 'Registered': 3402, 'olympics': 8583, 'leo': 7761, 'Kthen': 2533, 'patty': 8766, 'donewant': 6121, 'haul': 7046, 'wildlife': 11081, 'want2come': 10946, 'that2worzels': 10398, 'wizzle': 11118, 'dippeditinaDEW': 6048, 'lovingly': 7924, 'itwhichturnedinto': 7462, 'gifted': 6839, 'tomeandsaidTHIS': 10545, 'shanghai': 9690, 'instead': 7386, 'cya': 5829, 'freezing': 6705, '645': 738, 'RTKIng': 3362, 'Pro': 3284, 'inforingtonekingcouk': 7355, '08701237397': 77, 'redeemable': 9276, 'wwwringtonekingcouk': 11243, 'Thnx': 3984, 'sef': 9623, 'dey': 5996, 'anjie': 4674, 'btw': 5209, 'batch': 4937, 'fring': 6723, 'oz': 8686, 'flaky': 6598, 'sooooo': 9936, 'Living': 2639, 'simple': 9784, 'Loving': 2668, 'Laughing': 2612, 'Winning': 4325, 'tooo': 10569, 'SIMPLE': 3491, 'nte': 8501, '09058094599': 205, 'confuses': 5667, 'doesn‘t': 6101, 'Wating': 4279, '250': 458, 'British': 1314, 'hotels': 7198, 'Worth': 4348, 'London': 2651, '02072069400': 11, 'Bx': 1334, '526': 695, 'SW73SS': 3573, 'talents': 10302, '6pm': 768, 'Xy': 4380, 'animal': 4672, 'buzz': 5253, 'Reminding': 3410, 'adoring': 4537, 'Yesterday': 4435, 'Eerie': 1767, '4u': 678, 'TITLE': 3885, 'DRACULA': 1605, 'Titles': 4003, 'GHOST': 1982, 'ADDAMSFA': 942, 'MUNSTERS': 2766, 'EXORCIST': 1749, 'TWILIGHT': 3914, 'brought': 5196, 'Shiny': 3661, 'warming': 10952, 'Putting': 3303, 'constant': 5681, 'Making': 2782, 'cared': 5338, 'wasnt': 10959, 'surprised': 10244, 'french': 6707, 'fooled': 6647, '0ANETWORKS': 291, 'allow': 4621, 'companies': 5620, 'responsible': 9385, 'suppliers': 10226, 'guarantee': 6968, 'comedycant': 5603, 'laughing': 7720, 'FreeMsgFeelin': 1945, 'lnly': 7847, 'Jst': 2460, 'moby': 8221, 'picTxt': 8843, '82242': 826, 'Msg150p': 2886, '2rcv': 533, 'Hlp': 2236, '08712317606': 107, 'keen': 7587, 'Sleeping': 3705, 'SWITCH': 3578, 'DAMMIT': 1564, 'Thts': 3989, 'Wright': 4353, 'fly': 6627, 'Evening': 1803, 'somewhat': 9921, 'event': 6372, 'laden': 7674, 'Head': 2196, 'wrecked': 11186, 'six': 9811, 'spontaneously': 10009, 'GOODEVENING': 2002, 'LAPTOP': 2546, 'bagi': 4900, 'lei': 7756, 'ACTION': 938, '80608': 817, 'wwwmovietriviatv': 11238, '08712405022': 117, 'waking': 10926, 'Sif': 3679, 'partnership': 8745, 'RGENT': 3350, 'Bec': 1236, 'lookin': 7882, 'daytime': 5890, 'busty': 5242, 'woman': 11136, '09099726429': 285, 'JANINExx': 2408, 'mostly': 8260, 'inside': 7379, 'spageddies': 9964, 'phasing': 8825, 'fourth': 6686, 'dimension': 6038, 'Yesbut': 4426, 'meaningful': 8081, 'compromised': 5639, 'mornin': 8255, 'Lmaonice': 2642, '09050001295': 186, 'A21': 933, 'Monthly': 2867, 'mobsicom': 8220, '391784': 575, 'Use': 4138, 'dub': 6193, 'je': 7498, 'Painful': 3181, 'toughest': 10595, 'Earth': 1756, 'unspoken': 10758, '£6': 11405, 'ideas': 7292, 'sight': 9769, 'remain': 9316, 'Maintain': 2779, 'Shjas': 3664, 'LIKELY': 2561, 'BED': 1151, 'TONIGHT': 3897, 'REALLY': 3332, 'SEE': 3463, 'TOMORROW': 3891, 'Already': 1052, 'squatting': 10023, 'Cramps': 1537, 'vodafone': 10892, '0089my': 2, 'digits': 6035, 'received': 9254, '09063442151': 233, 'ringtoneget': 9430, 'freesend': 6704, '816183': 825, 'weekstop': 11012, 'sms08718727870': 9877, 'Nan': 2950, 'sonathaya': 9926, 'soladha': 9902, 'cd': 5387, 'raping': 9198, 'dudes': 6197, 'poker': 8919, 'Weightloss': 4290, 'Finish': 1916, 'mushy': 8321, 'embarrassed': 6289, 'stash': 10061, 'ran': 9191, 'priya': 9057, 'ordered': 8630, '81303': 823, 'father': 6495, 'messy': 8143, 'kilos': 7617, 'accidant': 4487, 'tookplace': 10567, 'ghodbandar': 6835, 'rd': 9211, 'Traffic': 4030, 'moves': 8272, 'slovely': 9847, 'slip': 9841, 'ahnow': 4584, 'wkg': 11122, 'wherebtw': 11054, 'nus': 8513, 'sc': 9561, 'specialise': 9976, 'wad': 10914, 'likes': 7803, 'dislikes': 6071, 'keeps': 7590, 'Queen': 3311, 'ache': 4501, 'desparately': 5979, 'fren': 6706, 'promises': 9094, 'gotten': 6911, 'stereo': 10083, 'mi': 8148, 'unknown': 10748, 'album': 4602, 'Hard': 2187, '121': 330, '60pmin': 729, 'Choose': 1478, 'connect': 5669, '09094646899': 280, 'Cheap': 1466, 'VU': 4158, 'BCM1896WC1N3XX': 1146, 'Asking': 1097, 'classmates': 5529, 'firesAre': 6581, 'WOW': 4243, 'Boys': 1301, 'Back': 1215, '2007': 432, 'Tour': 4026, 'Tickets': 3995, 'prebook': 9004, 'Trackmarque': 4028, 'infovipclub4u': 7361, 'missionary': 8196, 'hook': 7173, 'doggy': 6106, 'standing': 10045, 'entertaining': 6324, 'hugh': 7238, 'laurie': 7723, 'stick': 10090, 'indeed': 7344, 'praps': 8997, 'Jon': 2453, 'bin': 5044, 'Spain': 3744, 'sum': 10203, 'dinero': 6042, 'Bill': 1255, '\\x91rents': 11356, '12000pes': 328, '£48': 11395, 'tb': 10329, 'James': 2423, 'ALRITE': 961, 'HUNNYWOT': 2167, '2NITE': 495, 'DIDNT': 1583, 'GOIN': 1996, 'TOWN': 3904, 'JUS': 2419, 'DA': 1561, 'PUB': 3175, 'INSTEAD': 2323, 'CHILLIN': 1373, 'MO': 2737, 'BEDROOMLOVE': 1152, 'Maangalyam': 2770, 'Alaipayuthe': 1042, 'complaining': 5627, 'Mandy': 2788, 'Sullivan': 3811, 'HOTMIX': 2154, 'FMyou': 1858, 'chosen': 5506, '£500000': 11400, 'Easter': 1758, 'drawPlease': 6151, 'telephone': 10353, '09041940223': 179, '290305': 475, 'transferred': 10616, 'finns': 6576, 'di': 6002, 'GOING': 1997, 'BAHAMAS': 1132, 'CallFREEFONE': 1419, '08081560665': 64, 'Bahamas': 1218, 'cruise': 5790, 'of£2000': 8562, '18only': 392, '07786200117': 34, 'EY': 1754, 'CALM': 1344, 'DOWNON': 1603, 'THEACUSATIONS': 3873, 'ITXT': 2336, 'COS': 1396, 'IWANA': 2340, 'WOTU': 4240, 'THEWEND': 3878, 'HAVENTCN': 2122, 'AGESRING': 950, 'UP4': 4083, 'NETHING': 2912, 'SATLOVE': 3453, 'dine': 6040, 'conacted': 5646, 'youTo': 11315, '09111030116': 288, 'PoBox12n146tf15': 3244, 'I\\x92m': 2398, 'vtired': 10909, 'doin': 6109, 'social': 9896, 'inspection': 7380, 'nursery': 8511, 'spk': 9997, 'sn': 9882, 'detailsi': 5988, 'youmy': 11326, 'Feel': 1901, 'Slowly': 3710, 'Becomes': 1239, 'Habit': 2169, 'Part': 3189, 'Follow': 1925, 'LATE': 2548, 'MUM': 2764, 'itmail': 7457, 'panren': 8712, 'paru': 8748, 'chuckin': 5512, 'red': 9275, 'trainners': 10607, 'carryin': 5357, 'bac': 4892, 'schedule': 9570, 'gooddhanush': 6893, 'needing': 8390, 'stuck': 10144, 'chikkusimple': 5481, 'habbahw': 6993, 'Dileepthank': 1666, 'muchand': 8300, 'supportvery': 10232, 'contacts': 5685, 'hereremember': 7101, 'venugopal': 10844, 'mentionedtomorrow': 8120, 'latei': 7711, 'theregoodnight': 10419, 'Remembrs': 3407, 'Forgets': 1933, 'Remembered': 3405, 'Everytime': 1811, 'Joys': 2459, 'John': 2446, 'Mandan': 2787, '07734396839': 30, 'IBH': 2292, 'NOKIA6600': 2934, 'TXTAUCTIONTxt': 3918, 'wordSTART': 11152, 'No81151': 2989, 'Now4T': 3018, 'regarding': 9294, '3230': 561, 'textbook': 10380, 'algorithms': 4611, 'edition': 6244, 'selling': 9634, 'buns': 5227, 'adore': 4536, 'Facebook': 1891, 'Buy': 1331, 'Space': 3743, 'Invaders': 2379, 'orig': 8635, 'Arcade': 1083, 'Game': 2029, 'console': 5680, '0': 0, 'o2coukgames': 8524, 'settings': 9666, 'BIG': 1160, 'BROTHER': 1196, 'ALERT': 958, '10k': 310, '09064018838': 242, 'CRO1327': 1403, 'Atlanta': 1101, 'recharge': 9260, 'created': 5771, 'fills': 6552, 'gaps': 6788, 'holding': 7151, 'Yessura': 4433, 'tvlol': 10679, 'Arun': 1093, 'transfr': 10617, 'Takin': 3925, 'philosophy': 8829, '4ui': 680, 'didn\\x92t': 6016, 'intend': 7390, 'Iwasmarinethat\\x92s': 2395, 'itried2tell': 7461, 'urmomi': 10785, 'careabout': 5337, 'Foley': 1924, 'exciting': 6403, 'prizes': 9060, 'eye': 6440, 'wwwwin82050couk': 11258, 'desparate': 5978, 'learned': 7738, 'fake': 6462, 'answering': 4692, 'Air': 1032, 'Force': 1930, 'Iraq': 2381, 'afghanistan': 4557, 'stable': 10032, 'honest': 7166, 'traveling': 10623, 'blessget': 5074, '1225': 331, '£50award': 11401, '3100': 556, 'pai': 8698, 'seh': 9624, 'Scared': 3607, 'beer': 4982, 'combine': 5600, 'parts': 8746, 'Getting': 2049, 'walsall': 10940, 'tue': 10664, 'Terry': 3950, 'JESS': 2413, 'DONT': 1597, 'Sian': 3677, 'ccna': 5386, 'shrek': 9752, '3DB': 578, 'dirty': 6055, 'fellow': 6525, 'somethings': 9916, 'dying': 6215, 'lifting': 7795, 'Teresa': 3947, 'package': 8691, 'dec': 5913, 'yould': 11323, 'Bam': 1221, 'aid': 4589, 'Usmle': 4141, 'Squishy': 3764, 'Mwahs': 2899, 'Hottest': 2275, 'Wet': 4299, 'Wanting': 4268, 'PICS': 3126, 'textoperator': 10384, 'g696ga': 6770, 'Starts': 3775, 'prominent': 9091, 'mark': 8029, 'cheek': 5449, 'september': 9655, 'husband': 7262, 'Hack': 2170, 'backdoor': 4895, 'fraction': 6692, 'NEO69': 2911, '09050280520': 192, 'subscribe': 10172, 'DPS': 1604, 'Bcm': 1230, '8027': 814, 'wc1n3xx': 10982, 'norm': 8466, '415': 615, 'list': 7828, 'Joanna': 2445, 'comingdown': 5611, 'Super': 3819, 'dagood': 5840, 'replacement': 9345, 'murali': 8315, 'playerwhy': 8888, 'sts': 10142, 'engalnd': 6310, 'telly': 10357, 'mia': 8149, 'elliot': 6281, 'kissing': 7629, 'upto': 10776, '12mths': 339, '12price': 340, 'linerental': 7813, 'xnet': 11267, 'mins100txtmth': 8176, 'Btooth': 1322, 'Mobileupd8': 2856, '08001950382': 56, '2optoutD3WV': 531, 'wiproyou': 11099, 'matric': 8054, '850': 854, 'Toa': 4010, 'payoh': 8776, '650': 740, 'Pound': 3263, '08718726970': 157, 'BTnationalrate': 1202, 'payments': 8775, 'fedex': 6515, 'india': 7346, 'Kyou': 2536, 'reception': 9258, 'slowly': 9851, 'GODI': 1995, 'NEED': 2908, 'YOUCLEAN': 4401, 'HEART': 2125, 'BLOODSend': 1169, 'Ten': 3943, 'itplspls': 7460, 'hate': 7045, 'annoying': 4683, 'consensus': 5674, 'entertain': 6323, 'Youd': 4440, 'delete': 5945, 'tag': 10290, 'wednesday': 11001, 'skype': 9823, 'laundry': 7722, 'underwear': 10729, 'bras': 5155, 'strewn': 10131, 'pillows': 8858, 'waheed': 10918, 'fathima': 6496, 'Mmmm': 2844, 'fair': 6460, 'weaknesses': 10985, 'pushes': 9139, 'knees': 7635, 'exposes': 6431, 'pulls': 9125, 'wicked': 11068, 'sh': 9678, 'readyall': 9225, 'Mom': 2861, 'supports': 10231, 'srt': 10028, 'thnk': 10445, 'ps3': 9115, 'jontin': 7537, 'prizeTo': 9059, 'nearly': 8378, 'banned': 4916, 'uk': 10706, 'pen': 8788, 'beyond': 5023, 'Wont': 4339, 'Biro': 1258, 'masters': 8045, 'PARTY': 3110, '09058094594': 203, 'shell': 9702, 'unconsciously': 10721, 'avoiding': 4867, 'unhappy': 10738, 'excuse': 6404, 'jog': 7520, '0776xxxxxxx': 33, '18yrs': 394, '09061743811': 226, 'ABTA': 935, '326': 563, 'season': 9598, 'knackered': 7634, 'lark': 7704, 'stations': 10066, '09090900040': 277, 'LISTEN': 2565, 'EXTREME': 1753, 'DIRTY': 1586, 'OFFICE': 3032, 'TOTAL': 3902, 'PRIVACY': 3165, 'sic': 9763, 'LISTENING': 2566, '60P': 728, 'MIN': 2721, '247MP': 452, '0870753331018': 94, 'videopic': 10861, 'fones': 6644, 'WILD': 4219, '150prcvd': 373, 'STOP2stop': 3550, 'Uh': 4103, 'heads': 7060, 'lim': 7805, 'mp3': 8277, 'vday': 10837, 'parachute': 8721, 'placed': 8872, 'ipod': 7424, '80182': 813, '08452810073': 72, 'okie': 8571, 'unlimited': 10750, 'Therere': 3973, 'table': 10282, 'lambda': 7684, 'build': 5219, 'snowman': 9892, 'angels': 4670, 'snowball': 9890, 'fights': 6543, 'ELLO': 1724, 'ikea': 7303, 'Becoz': 1240, 'jan': 7485, 'al': 4600, 'ofice': 8559, 'cn': 5563, 'oficegot': 8560, 'duffer': 6200, 'grr': 6963, 'prescription': 9020, 'Pharmacy': 3214, 'cook': 5705, 'electricity': 6279, '08715500022': 140, 'rpl': 9475, 'cnl': 5564, 'Fffff': 1904, 'kadeem': 7563, 'fujitsu': 6749, 'lifebook': 7789, 'scold': 9574, 'zhong': 11352, 'se': 9594, 'qing': 9152, 'act': 4507, '46': 640, 'accordingly': 4494, 'hypertension': 7272, 'mineall': 8169, 'wud': 11204, 'annoyin': 4682, '08702490080': 85, '09066358152': 255, 'prompts': 9097, 'Careful': 1442, 'VPOD': 4157, 'Carry': 1445, 'disturbing': 6079, 'avatar': 4859, 'nigro': 8437, 'scratching': 9583, 'anyplaces': 4704, 'stops': 10109, 'cleaning': 5533, 'upset': 10772, 'priority': 9052, 'constantly': 5682, 'Excellent': 1819, 'ecstasy': 6241, 'dogging': 6105, '09090204448': 276, 'minded': 8165, 'A£150': 1118, 'minAPN': 8162, 'LS278BB': 2591, 'flies': 6607, 'hittng': 7139, 'reflex': 9286, 'Costa': 1525, 'Del': 1643, 'Sol': 3722, '09050090044': 191, 'toClaim': 10519, 'POBox334': 3143, 'Stockport': 3784, 'SK38xh': 3498, 'Cost£150pm': 1527, 'Max10mins': 2803, 'Kkwhy': 2528, 'lousy': 7910, 'cat': 5373, '1010': 301, 'woken': 11135, 'hip': 7130, 'yogasana': 11311, 'adewale': 4527, 'Aka': 1038, 'Egbon': 1768, 'minstand': 8177, 'ic': 7281, 'mary': 8038, 'jane': 7487, 'deduct': 5926, 'wrks': 11193, 'j': 7474, 'monkey': 8243, 'asshole': 4809, 'grab': 6920, 'sliding': 9839, 'midnight': 8152, '09065394973': 251, 'payback': 8771, '31': 555, 'Honeybee': 2264, 'Said': 3586, 'Sweetest': 3828, 'Laughed': 2611, 'WaitU': 4257, 'Havnt': 2195, 'Met': 2821, 'Reading': 3385, 'MORAL': 2748, 'GOD': 1994, 'Crack': 1535, 'Jokes': 2449, 'GMGNGEGN': 1990, 'tescos': 10373, 'feathery': 6510, 'bowa': 5136, 'infra': 7363, 'Nvm': 3026, 'gep': 6822, 'ish': 7436, 'Delhi': 1644, 'thinkin': 10436, 'haha': 6998, '2006': 431, 'FIFA': 1843, 'held': 7082, '87239': 874, 'boat': 5098, 'Shhhhh': 3656, 'related': 9303, 'Arul': 1092, 'amk': 4647, '09061743810': 225, 'length': 7758, 'fringe': 6724, 'distract': 6076, 'Santha': 3593, 'corrct': 5720, 'dane': 5852, 'baskets': 4934, 'DARLIN': 1566, 'BACK': 1130, 'THANKS': 3866, 'MUCH': 2761, 'LIFT': 2559, 'proof': 9099, 'glad': 6855, 'rupaul': 9496, 'TOOL': 3899, '61610': 731, 'help08712400602450p': 7091, 'Provided': 3292, 'tones2youcouk': 10554, 'practising': 8993, 'curtsey': 5816, 'YEH': 4387, 'DEF': 1578, 'SATJUST': 3452, 'PAYED2DAY': 3114, 'HAVBEEN': 2119, 'GIVEN': 1989, 'A£50': 1119, 'PAY': 3113, 'RISE': 3355, '4MY': 653, 'HAVEBEEN': 2120, 'MADE': 2693, 'PRESCHOOLCOORDINATOR': 3163, '2I': 487, 'FEELINGOOD': 1840, 'LMAO': 2570, 'memory': 8114, 'mon': 8236, 'Idea': 2347, 'converted': 5698, 'TheMobYo': 3969, 'yoHere': 11309, 'downloads': 6142, 'members': 8109, 'Ssindia': 3767, 'african': 4560, 'soil': 9900, 'major': 7999, 'roles': 9454, 'outreach': 8661, 'mel': 8104, 'raining': 9182, 'birth': 5049, '8lb': 905, '7oz': 799, 'Mother': 2877, 'brilliantly': 5178, 'forwarding': 6682, 'intention': 7391, 'visitors': 10885, 'neva': 8408, 'rules': 9488, 'responsibility': 9384, 'Yet': 4436, 'bend': 5009, 'rule': 9487, 'thia': 10428, 'DOESNT': 1592, 'inlude': 7368, 'previews': 9034, 'News': 2971, 'FREEFONE': 1867, '08006344447': 61, 'Ambrithmaduraimet': 1061, 'arun': 4790, 'dha': 5999, 'marrgeremembr': 8033, 'kitty': 7632, 'shaved': 9696, 'natural': 8365, 'wife': 11073, 'onwards': 8598, 'toa': 10521, 'anybodys': 4699, 'tactful': 10288, 'alex': 4607, 'Music': 2895, 'Vouchers': 4185, 'DRAW': 1606, 'wwwldewcom': 11236, 'SkillGame1Winaweek': 3700, 'age16150ppermessSubscription': 4570, 'theatre': 10410, 'obviously': 8532, 'eggspert': 6263, 'potato': 8970, 'head…': 7062, 'crammed': 5760, 'satsgettin': 9545, '447per': 629, 'lie': 7784, 'apologize': 4721, 'admit': 4534, 'pei': 8787, 'kid': 7610, 'boost': 5116, 'energy': 6307, 'GONNA': 1999, 'subtoitles': 10180, 'sitting': 9807, 'jot': 7538, 'pack': 8690, 'storelike': 10113, 'cereals': 5399, 'gari': 6792, 'infernal': 7352, 'affair': 4551, 'Including': 2358, 'bold2': 5102, 'calicut': 5272, '09094100151': 278, 'cast': 5369, 'provided': 9110, 'AOM': 971, 'GBP5month': 1976, 'Box61M60': 1299, '1ER': 400, 'Ages': 1026, 'thkin': 10443, 'nd': 8373, 'parco': 8728, 'nb': 8372, 'resubbing': 9395, 'shadow': 9681, 'spring': 10019, 'breadstick': 5159, 'Ahmad': 1030, 'Saeed': 3583, 'Hallaq': 2179, '09066362220': 259, 'BOX97N7QP': 1187, 'Pass': 3191, 'Redim': 3395, 'Blueu': 1276, 'Purpleu': 3300, 'realy': 9235, 'Pinku': 3227, 'Orangei': 3092, 'lyk': 7961, 'Greeni': 2089, 'Yelowi': 4422, 'bck': 4953, 'Blackim': 1265, 'jealous': 7499, 'Browni': 1319, 'Nw': 3027, 'giv': 6849, 'color': 5593, 'arranging': 4780, 'eldest': 6277, 'Whos': 4314, 'drugdealer': 6181, 'Sexy': 3639, 'Singles': 3689, 'GENDER': 1978, 'wither': 11111, 'EG23F': 1722, 'eg23G': 6259, 'SleepwellampTake': 3706, 'wondarfull': 11140, 'messagesText': 8140, 'nowUse': 8493, 'web2mobile': 10994, 'Txt250com': 4063, 'BOX139': 1181, 'LA32WU': 2544, 'txtX': 10687, 'ge': 6810, 'normally': 8469, 'hunonbus': 7253, 'donyt': 6124, 'homeBut': 7160, 'latelyxxx': 7713, '85233': 858, 'FREERingtoneReply': 1872, 'mca': 8070, 'aight': 4591, 'Moji': 2859, 'rich': 9418, 'justthought': 7559, 'sayhey': 9556, 'doinnearly': 6113, 'endof': 6302, 'offdam': 8544, 'nevamindWe': 8409, '2Hook': 486, 'uwant': 10813, 'm8': 7965, 'loveJen': 7914, 'official': 8556, 'flag': 6596, 'yer': 11296, 'FLAG': 1855, '84199': 851, 'ENG': 1727, 'Box39822': 1297, 'W111WX': 4187, 'yor': 11312, 'ownyouve': 8682, 'stressed': 10127, 'Skallis': 3697, 'jason': 7490, 'soooo': 9935, 'provider': 9111, 'tming': 10515, 'Final': 1911, 'Subs': 3802, 'cutest': 5825, 'dice': 6009, 'art': 4786, 'SERVICES': 3473, 'inclusive': 7337, 'help08700469649': 7090, 'BOX420': 1184, 'IP4': 2328, '5WE': 710, 'Howda': 2277, 'Mathe': 2799, 'en': 6297, 'samachara': 9523, 'Audrie': 1106, 'autocorrect': 4852, 'simulate': 9787, 'readiness': 9222, 'armand': 4771, 'andor': 4665, 'vomiting': 10899, 'yun': 11345, 'rub': 9481, 'feet': 6523, 'Lara': 2605, 'loan': 7851, 'supplies': 10227, 'clever': 5539, 'guesses': 6975, 'attach': 4825, '087123002209am7pm': 106, 'Hols': 2258, 'med': 8087, 'stamped': 10041, 'Drinks': 1709, 'Us': 4137, '113': 317, 'Bray': 1304, 'Wicklow': 4315, 'Eire': 1770, 'Saturday': 3600, 'washob': 10958, 'nobbing': 8449, 'Nickey': 2978, 'Platt': 3231, 'ryan': 9499, 'vikky': 10868, 'wwwIdewcom': 11214, 'SkillGame': 3699, '1Winaweek': 409, '150ppermessSubscription': 369, 'mad': 7976, 'Argh': 1085, 'spotty': 10015, 'province': 9112, 'sterling': 10084, 'problemfree': 9067, 'looked': 7881, 'xam': 11262, 'hall': 7006, 'term': 10368, 'manage': 8010, 'hesitation': 7112, 'intha': 7402, 'ponnungale': 8933, 'ipaditan': 7421, 'rejected': 9302, 'shitload': 9715, 'diamonds': 6007, 'Tessypls': 3951, 'favor': 6504, 'convey': 5700, 'Nimyapls': 2986, 'Shijas': 3658, 'aunty': 4847, 'china': 5492, 'noisy': 8454, 'needa': 8387, 'mcat': 8071, 'Sfrom': 3642, 'manual': 8020, 'processits': 9075, 'reset': 9370, 'troubleshooting': 10645, 'B4U': 1122, 'wc': 10981, '2703': 467, 'MARSMS': 2701, 'wwwB4Utelecom': 11213, '08717168528': 143, 'Spoke': 3755, 'strongly': 10138, 'sacrifice': 9506, 'beg': 4987, 'expecting': 6417, 'creativity': 5773, 'stifled': 10092, 'morphine': 8258, 'requirements': 9360, 'stayin': 10070, 'strangersaw': 10123, 'he\\x92s': 7115, 'sorted': 9945, 'nowstill': 8499, 'bloke': 5082, 'MRur': 2756, 'Thinks': 3982, '2GETHA': 484, 'Buffy': 1324, 'satisfy': 9544, 'randy': 9195, 'PIX': 3130, 'QlynnBV': 3309, 'Help08700621170150p': 2214, '8830': 882, 'cld': 5531, 'Wld': 4333, 'prefer': 9009, 'nosh': 8474, 'Waaaat': 4253, 'Lololo': 2650, 'tables': 10283, 'occupied': 8534, 'comei': 5604, 'kindly': 7621, 'documents': 6096, 'submitted': 10169, 'STAPATI': 3542, 'miles': 8156, 'cutie': 5826, 'WALES': 4196, 'hills': 7125, 'avent': 4862, 'killed': 7614, 'Sad': 3582, 'Man': 2785, 'Wife': 4317, 'Parents': 3186, 'Kids': 2506, 'Colleagues': 1499, 'sed': 9612, 'mood': 8252, 'minuts': 8183, 'latr': 7718, 'caken': 5267, 'Kidz': 2507, 'sofa': 9897, 'NAKED': 2903, 'honesty': 7167, 'specialisation': 9975, 'labor': 7670, 'shakara': 9684, 'beggar': 4988, 'smashed': 9860, 'driver': 6169, 'dent': 5957, 'everybodys': 6378, 'crickiting': 5782, 'Thx': 3992, 'PLEASE': 3132, 'COME': 1386, 'IMIN': 2311, 'TOWNDONTMATTER': 3906, 'URGOIN': 4091, 'OUTL8RJUST': 3051, 'REALLYNEED': 3333, '2DOCDPLEASE': 481, 'DONTPLEASE': 1599, 'DONTIGNORE': 1598, 'MYCALLSU': 2769, 'THECD': 3874, 'ISVIMPORTANT': 2332, 'TOME': 3890, '2MORO': 490, 'Yavnt': 4412, 'Hiya': 2235, 'ESPECIALLY': 1735, 'popping': 8944, 'ibuprofens': 7280, 'sip': 9795, 'grown': 6961, 'Chinatown': 1474, 'porridge': 8946, 'claypot': 5530, 'yam': 11283, 'fishhead': 6586, 'beehoon': 4980, 'Either': 1771, 'tok': 10535, 'specific': 9978, 'jaklin': 7480, 'idk': 7295, 'Google': 2076, 'nearby': 8376, 'cliffs': 5542, '449month': 633, 'ntwk': 8503, 'bundle': 5225, 'deals': 5900, 'avble': 4860, 'call2optoutJ': 5280, 'MF': 2717, 'pages': 8697, 'figures': 6545, 'Ooh': 3081, '4got': 666, 'moseley': 8259, 'weds': 11002, '630': 736, 'Thankyou': 3960, 'Treat': 4034, 'pendingi': 8792, 'dayswill': 5888, 'thruRespect': 10467, 'homecheck': 7161, 'Valuable': 4163, 'Affectionate': 1017, 'Loveable': 2662, 'Eternal': 1796, 'Noble': 2992, 'Truthful': 4040, 'Intimate': 2378, 'Natural': 2956, 'Enamous': 1781, 'VALENTINES': 4146, 'textin': 10382, 'cousin': 5752, 'POWER': 3160, 'excuses': 6406, 'Rajipls': 3371, 'Nimya': 2985, 'legs': 7753, 'neck': 8383, 'amigos': 4646, 'burn': 5232, 'progress': 9086, 'continue': 5691, 'holy': 7158, 'werent': 11033, 'arty': 4789, 'collages': 5584, 'tryin': 10656, 'billion': 5039, 'classes': 5528, '2hrs': 516, 'waliking': 10927, 'cartons': 5360, 'shelves': 9703, 'pix': 8867, '08714712379': 126, 'distance': 6075, 'mirror': 8185, 'turning': 10674, 'freak': 6695, 'Know': 2531, 'ref': 9280, 'K718': 2471, '£450': 11394, '09065069120': 245, 'Tues': 4052, 'Alrite': 1054, 'jod': 7519, 'revision': 9412, 'Keris': 2501, 'smidgin': 9865, 'collegexx': 5592, 'belive': 4998, 'kkwhere': 7633, 'exact': 6395, 'intentions': 7392, 'empty': 6296, 'slots': 9846, 'accordin': 4493, 'discussed': 6069, 'knocking': 7638, 'Sicomo': 3678, 'nolistened2the': 8458, 'plaid': 8875, 'albumquite': 4603, 'gdthe': 6809, 'air1': 4594, 'hilariousalso': 7123, 'bought\\x94braindance\\x94a': 5133, 'compofstuff': 5637, 'aphex\\x92s': 4718, 'abelu': 4464, 'hav2hear': 7049, 'itc': 7449, 'xxxx': 11274, 'nelson': 8401, 'bbs': 4950, 'temp': 10362, 'unmits': 10751, 'display': 6074, 'newspapers': 8419, 'Boo': 1283, 'soup': 9955, 'Yummmm': 4446, 'management': 8013, 'puzzeles': 9145, 'include': 7335, '4goten': 667, 'scammers': 9563, 'smartThough': 9857, 'regular': 9301, 'prem': 9011, 'msgsubscription': 8290, '2morro': 520, 'passion': 8755, 'B4': 1121, '09099726481': 286, 'DENA': 1581, '£1minMobsmoreLKPOBOX177HP51FL': 11382, 'spoiled': 10004, 'R836': 3322, '09065069154': 246, 'threats': 10456, 'sales': 9517, 'executive': 6408, 'Shifad': 3657, 'raised': 9184, 'complaint': 5628, 'doctors': 6095, 'reminds': 9326, '2godid': 514, 'lounge': 7909, 'Den': 1649, 'lk': 7844, 'role': 9453, 'lov': 7911, 'truth': 10654, 'mindi': 8166, 'toleratbcs': 10542, 'comfort': 5608, 'checked': 5446, 'SplashMobile': 3753, 'subscrition': 10178, '300p': 549, 'ENJOY': 1729, 'dust': 6211, 'U4': 4070, 'private': 9055, '01223585334': 5, 'Wan': 4263, '2C': 480, 'shagged': 9683, '8552': 859, '2End': 483, 'SAM': 3450, '88877FREE': 887, '88877': 886, '88066': 879, 'LOST': 2580, '3POUND': 584, 'HELP': 2130, 'watchin': 10969, 'meaningless': 8082, 'alls': 4624, 'Cold': 1497, 'Brdget': 1306, 'Jones': 2454, 'Inever': 2369, 'HmmBad': 2239, 'newsHype': 8417, '700': 773, 'studio': 10149, 'takenOnly': 10297, 'bedrm900': 4977, 'unable': 10713, 'waited': 10922, 'Velly': 4167, 'wkend': 11121, 'journey': 7539, 'huge': 7236, 'marking': 8032, 'letters': 7772, 'Alex': 1045, 'mids': 8153, 'Oranges': 3093, 'Upd8': 4127, 'freefone': 6701, '2StopTx': 499, 'ANNIE': 966, 'Remind': 3408, '08718738034': 169, 'MISSIN': 2728, '21870000Hi': 441, 'Mailbox': 2778, 'Messaging': 2820, 'alert': 4605, '21': 438, '09056242159': 194, 'retrieve': 9403, 'Draw': 1706, 'vai': 10820, 'Hrishi': 2281, 'Nothin': 3013, 'hanger': 7020, 'poem': 8915, 'Hear': 2200, 'Fear': 1899, 'Cheer': 1469, 'Tear': 3935, 'thatll': 10402, 'Moby': 2857, 'Pub': 3298, 'QuizWin': 3319, 'High': 2228, 'Street': 3790, 'Duchess': 1712, 'Cornwall': 1521, '82277unsub': 828, '008704050406': 1, 'SP': 3525, 'Arrow': 1090, 'bags': 4901, 'blanket': 5067, '08718726971': 158, 'tddnewsletteremc1couk': 10331, 'TheDailyDraw': 3966, 'Helen': 2207, 'Dozens': 1704, 'prizesWith': 9061, 'significant': 9773, 'Waqt': 4269, 'pehle': 8786, 'naseeb': 8359, 'zyada': 11354, 'kisi': 7626, 'ko': 7648, 'kuch': 7661, 'nahi': 8343, 'miltaZindgi': 8160, 'wo': 11131, 'jo': 7515, 'hum': 7241, 'sochte': 9895, 'hai': 6999, 'Zindgi': 4457, 'ham': 7008, 'jeetey': 7501, 'worse': 11174, 'stalking': 10040, 'Dan': 1620, 'reminded': 9323, 'Apps': 1079, 'varaya': 10830, 'elaya': 6276, '100603': 298, '09066368753': 266, '97N7QP': 920, 'anand': 4663, 'Long': 2652, 'beach': 4959, 'Expected': 1823, 'Aww': 1115, 'deadWell': 5894, 'Jez': 2443, 'isComing': 7432, 'toDo': 10520, 'workAnd': 11156, 'whillTake': 11059, 'Cheers': 1470, 'Zogtorius': 4458, 'I\\x92ve': 2399, 'staring': 10049, 'age': 4568, 'whether': 11057, 'financial': 6561, 'problemi': 9068, 'alian': 4613, 'BTooth': 1203, 'FREENokia': 1869, 'or2optoutHV9D': 8623, 'posible': 8951, 'century': 5398, 'cm': 5560, 'frwd': 6740, 'dint': 6047, 'unnecessarily': 10752, 'affectionate': 4554, 'sorts': 9947, 'Download': 1703, 'ringtones': 9432, 'restrictions': 9393, 'buddys': 5213, '80082': 808, '08712402902': 113, 'remind': 9322, 'owned': 8680, 'possessive': 8956, 'Nohe': 2996, 'clarification': 5523, 'Spook': 3756, 'Halloween': 2180, 'eerie': 6252, 'CARD': 1349, 'SPOOK': 3534, '08701417012150p': 79, 'logopic': 7867, 'issue': 7444, 'weigh': 11013, 'regret': 9299, 'Fantasy': 1896, 'Football': 1929, 'Sky': 3702, 'Gamestar': 2031, 'Active': 1010, '£250k': 11386, 'Dream': 1707, 'Team': 3934, 'Scoring': 3611, 'nowSKY': 8489, 'OPT': 3045, '88088': 880, 'coimbatore': 5577, 'subs': 10171, 'expired': 6424, 'resub': 9394, 'MONOC': 2746, 'monos': 8246, 'POLYC': 3152, 'Stream': 3789, '0871212025016': 104, 'sheffield': 9700, 'tom': 10543, 'opinions': 8609, 'categories': 5377, 'measure': 8085, 'ethnicity': 6360, 'census': 5395, 'transcribing': 10612, 'Boy': 1300, 'propsd': 9105, 'gv': 6986, 'lv': 7957, 'lttrs': 7940, 'threw': 10458, 'thm': 10444, 'aproach': 4748, 'dt': 6191, 'truck': 10647, 'speeding': 9983, 'Wn': 4334, 'girld': 6844, 'hw': 7268, 'Boost': 1288, 'instantly': 7385, 'Thy': 3993, 'lived': 7840, 'happily': 7033, '2gthr': 515, 'drinking': 6165, 'evrydy': 6393, 'Moral': 2871, 'msgsD': 8288, 'paragon': 8723, 'unfortunately': 10735, 'Pics': 3221, 'cakes': 5268, 'bluff': 5094, 'Izzit': 2396, 'impossible': 7322, 'XMAS': 4366, 'draws': 6152, 'goodmate': 6897, 'RITE': 3356, 'SARY': 3451, 'ASUSUAL1': 982, 'CHEERED': 1371, 'FRANYxxxxx': 1864, 'Went': 4297, 'batt': 4944, 'added': 4520, 'wwwfullonsmscom': 11233, 'Gn': 2058, 'pussy': 9140, 'becausethey': 4969, '09058098002': 210, 'PoBox1': 3243, 'W14RG': 4188, 'messageno': 8137, 'responcewhat': 9379, 'happend': 7026, 'piece': 8852, 'wiskey': 11108, 'Brandy': 1303, 'Rum': 3442, 'Gin': 2053, 'Beer': 1241, 'Vodka': 4181, 'Scotch': 3612, 'Shampain': 3648, 'Wine': 4321, 'KUDIyarasu': 2483, 'dhina': 6000, 'vaazhthukkal': 10817, 'gained': 6775, 'kg': 7602, 'Second': 3616, 'sugar': 10195, 'pressure': 9027, 'limits': 7808, 'PICK': 3125, 'DUMB': 1613, 'thangam': 10390, 'Okey': 3066, 'doke': 6114, 'dressed': 6161, 'laying': 7729, 'kills': 7616, 'Neshanthtel': 2961, 'YO': 4399, 'BYATCH': 1208, 'WHASSUP': 4214, 'Kay': 2492, 'Roger': 3432, 'CL': 1377, 'nasty': 8360, 'filthyguys': 6556, 'slo': 9844, 'SLO4msgs': 3504, 'Wasted': 4274, 'chiong': 5496, 'Jesus': 2442, 'christ': 5508, 'dialogue': 6005, 'cute': 5824, 'reltnship': 9314, 'Die': 1664, 'Body': 1278, 'Hands': 2181, 'Wipe': 4327, 'Tears': 3936, 'TimeGud': 4000, 'Solve': 3724, 'Case': 1446, 'Murdered': 2894, 'AfterNoon': 1020, '1His': 402, 'Police': 3252, '2Police': 498, 'questioned': 9157, '3Wife': 590, 'SirI': 3691, '4Cook': 648, 'cooking': 5708, '5Gardener': 703, 'vegetables': 10839, '6HouseMaid': 759, '7Children': 791, '8Neighbour': 901, 'murderer': 8318, 'Immediately': 2355, 'Reason': 3390, 'Brilliant': 1311, 'Pose': 3261, 'comb': 5598, 'dryer': 6189, 'fps': 6690, 'computational': 5641, 'science': 9573, 'push': 9138, 'answered': 4690, 'Lk': 2640, 'Madamregret': 2775, 'disturbancemight': 6078, 'DLF': 1589, 'Premaricakindly': 3274, 'informedRgdsRakheshKerala': 7359, 'gotto': 6912, '08702840625': 86, 'comuk220cm2': 5645, 'settle': 9667, 'Err': 1790, 'Cud': 1550, '8pm': 907, 'bloo': 5085, 'kbut': 7585, 'hitteranyway': 7138, 'offline': 8558, 'anjolas': 4675, 'IThis': 2337, 'WWWASJESUSCOM': 4251, 'wrote': 11197, 'Indians': 2367, 'Says': 3605, 'swiss': 10269, 'directors': 6052, 'lac': 7671, 'crore': 5785, 'deposited': 5966, 'taxless': 10325, 'budget': 5214, 'jobs': 7517, 'lane': 7693, 'Forever': 1931, 'suply': 10224, 'projects': 9088, 'citizen': 5516, 'monthly': 8249, 'Bank': 1224, 'IMF': 2310, 'blocked': 5079, 'politicians': 8923, 'rights': 9424, 'corrupt': 5725, 'Itna': 2389, 'karo': 7582, 'pura': 9132, 'INDIA': 2316, 'padhegm': 8695, 'Uncle': 4114, 'torrents': 10582, 'particularly': 8742, 'slowing': 9850, 'honey': 7168, 'Btw': 1323, 'commit': 5616, 'random': 9192, '83370': 841, 'wwwmusictrivianet': 11239, 'Rightio': 3422, '1148': 321, 'bright': 5174, 'brum': 5203, 'donno': 6122, 'scorable': 9575, 'paranoid': 8725, 'brin': 5179, 'Mayb': 2805, 'properly': 9102, 'sheet': 9698, 'Kgive': 2502, 'complain': 5626, 'onlybettr': 8595, 'bsnl': 5206, 'offc': 8542, 'payed': 8772, 'Suganya': 3808, 'Left': 2619, 'dessert': 5982, 'Abeg': 997, 'sponsors': 10008, 'Onum': 3080, 'ela': 6271, 'Normal': 3011, 'candont': 5315, 'Rose': 3435, 'poet': 8916, 'imaginationMy': 7310, 'frndship': 6729, 'carso': 5359, 'rr': 9477, 'famamus': 6472, 'pongaldo': 8932, 'sry': 10029, 'furniture': 6765, 'lock': 7857, 'locks': 7858, 'key': 7597, 'jenne': 7504, 'easiest': 6229, 'barcelona': 4920, 'ru': 9480, 'Sppok': 3759, '09066612661': 269, 'complementary': 5629, 'WA14': 4193, '2PX': 497, 'Sender': 3624, 'Hol': 2252, 'Kdo': 2493, 'daurgent': 5877, 'Pansy': 3184, 'Youve': 4444, 'jungle': 7554, 'kanji': 7574, 'SOON': 3518, 'drinkpa': 6166, 'srs': 10026, 'drizzling': 6172, 'appointments': 4736, 'shoving': 9743, 'Concentrate': 1511, 'papers': 8718, 'Greetings': 2090, 'Consider': 1515, 'excused': 6405, 'drama': 6146, 'Plsi': 3238, 'struggling': 10141, 'strange': 10121, 'placeNo': 8871, 'ego': 6264, 'INVITED': 2327, 'necessity': 8382, 'gowait': 6915, 'reppurcussions': 9353, 'released': 9309, 'cosign': 5728, 'hvae': 7267, '09061701444': 218, '24': 449, 'ACL03530150PM': 937, 'HCL': 2124, 'requires': 9361, 'FRESHERS': 1874, 'processExcellent': 9073, 'neededSalary': 8389, 'MsSuman': 2884, 'Telephonic': 3940, 'Indyarockscom': 2368, 'Dai': 1618, 'resume': 9399, 'datoday': 5875, 'Ola': 3071, 'US': 4095, 'cars': 5358, 'bids': 5032, 'Invest': 2380, 'restUWud': 9387, 'reliant': 9310, 'Fwiw': 1963, 'afford': 4556, 'happens': 7030, 'kanowhr': 7578, 'maga': 7984, 'sq825': 10022, 'arrival': 4782, 'Yunny': 4449, 'citylink': 5518, 'Er': 1788, 'yep': 11295, 'Props': 3290, 'pleasant': 8893, 'statements': 10064, '6230': 733, 'digital': 6034, '83383': 842, 'POBOX11414TCRW1': 3139, 'Bognor': 1279, 'splendid': 9999, 'Yesim': 4431, 'ktv': 7660, 'Misplaced': 2836, 'Wondering': 4338, 'atlanta': 4821, 'computers': 5644, 'Mmmmm': 2845, 'medicine': 8089, 'begun': 4992, 'registration': 9298, 'permanent': 8807, 'residency': 9371, 'plenty': 8898, 'claire': 5522, 'relatives': 9306, 'deliver': 5948, 'risks': 9437, 'benefits': 5012, 'amount': 4654, 'Hmmmhow': 2242, 'predicting': 9006, 'accumulation': 4499, 'Package': 3179, 'programs': 9085, 'belongs': 5004, 'Pray': 3270, 'herwho': 7107, 'fated': 6494, 'Shoranur': 3669, 'incident': 7334, 'fuelled': 6748, 'concern': 5650, 'prior': 9051, 'grief': 6948, 'VIOLENCE': 4153, 'WOMEN': 4231, 'Company': 1507, 'goodenvironment': 6894, 'terrific': 10371, 'Text82228': 3954, 'logos': 7868, 'wwwtxt82228com': 11256, 'Questions': 3315, 'infotxt82228couk': 7360, 'Honestly': 2262, 'promptly': 9096, 'burnt': 5235, 'advice': 4546, 'FreeMSG': 1942, 'mini': 8172, 'DIGITAL': 1585, 'SNAP': 3509, 'quizclub': 9167, 'Opt': 3088, '80122300pwk': 810, 'SPRWM': 3537, 'Ph08704050406': 3213, 'GMW': 1992, 'connected': 5670, 'someplace': 9912, 'goods': 6901, 'pressies': 9026, 'Dr': 1705, 'superior': 10222, 'Ultimately': 4109, 'tor': 10580, 'motive': 8264, 'tui': 10667, 'achieve': 4502, 'korli': 7655, 'we‘ll': 11044, 'dock': 6092, 'rolled': 9455, 'newscaster': 8418, 'dabbles': 5835, 'flute': 6626, 'behind': 4995, 'wheel': 11049, 'polypH': 8927, 'bx420': 5255, 'ip4': 7419, '5we': 721, 'amazing': 4643, 'PICSFREE1': 3127, 'vid': 10858, 'keyword': 7600, 'ruin': 9485, 'Erm': 1789, 'the4th': 10407, 'october': 8539, '83435': 843, 'elaborating': 6273, 'safety': 9510, 'aspects': 4806, 'issues': 7445, 'TAROT': 3844, 'TEXTS': 3864, 'CHANCE': 1364, '85555': 860, 'department': 5962, 'oursso': 8650, 'youany': 11316, 'hr': 7214, 'conform': 5665, 'horniest': 7187, 'follow': 6636, 'instructions': 7387, 'ENTRY': 1732, 'NytEC2A3LPmsg150p': 3029, 'flow': 6620, 'developed': 5992, 'ovarian': 8667, 'cysts': 5831, 'Bc': 1229, 'shrink': 9753, 'onit': 8591, 'upping': 10771, 'grams': 6924, 'timin': 10495, 'That‘s': 3965, 'apes': 4716, 'death': 5911, 'ibm': 7278, 'hp': 7212, 'toshiba': 10586, 'Gosh': 2078, 'Spose': 3758, 'usualiam': 10804, 'rimac': 9426, 'arestaurant': 4759, 'squid': 10025, '1030': 304, 'dosomething': 6132, 'UCALL': 4072, 'WEN': 4209, 'FINISH': 1851, 'WRKI': 4246, 'FANCY': 1834, 'MEETIN': 2709, 'WIV': 4225, 'TONITE': 3898, 'BREAK': 1191, 'DABOOKS': 1562, 'HRS': 2160, 'LAST': 2547, 'NITE2': 2924, 'WRK': 4245, 'EACHOTHER': 1719, 'MEET': 2708, 'HOUSE': 2155, 'Luckily': 2675, 'starring': 10050, 'madam': 7977, 'restocked': 9391, 'Knock': 2530, 'wwwtklscom': 11253, 'stoptxtstop£150week': 10111, 'innocent': 7372, 'mental': 8118, 'smoothly': 9875, 'hoped': 7180, 'bills': 5040, 'challenging': 5406, '2marrow': 517, 'hon': 7165, 'pple700': 8983, '900': 910, 'nightsExcellent': 8433, 'breakfast': 5161, 'hamper': 7009, 'cc100pmin': 5385, 'reality': 9230, 'daal': 5833, 'POLYS': 3154, '0870737910216yrs': 91, '£150wk': 11380, 'Unni': 4123, 'rechargeRakhesh': 9261, 'lacking': 7672, 'particular': 8741, 'dramastorms': 6147, 'forfeit': 6660, 'treated': 10630, 'urself': 10786, 'digi': 6033, '9pm': 930, 'fab': 6444, 'coupla': 5746, 'wks': 11125, '077xxx': 35, '09066362206': 258, 'CAL': 1340, 'SIR': 3493, 'sundayish': 10212, 'prasad': 8998, 'Tiwary': 4004, 'rcbbattle': 9207, 'bang': 4912, 'kochi': 7649, 'cancer': 5314, 'Moms': 2863, 'checkup': 5448, 'aka': 4599, 'pap': 8715, 'smear': 9861, 'gobi': 6871, 'arts': 4788, 'Pandy': 3183, '4w': 681, 'technologies': 10346, 'todayhe': 10529, 'Em': 1776, 'olowoyey': 8582, 'uscedu': 10792, 'argentina': 4761, 'secretary': 9605, 'taxt': 10326, 'massagetiepos': 8042, 'argh': 4762, 'Lool': 2656, 'dollar': 6116, 'pull': 9123, 'spending': 9989, 'taylors': 10328, 'shaking': 9686, 'booty': 5117, 'timeslil': 10492, 'busyi': 5244, 'sarcasm': 9535, 'scarcasim': 9564, 'naal': 8339, 'eruku': 6344, 'chikkuwat': 5482, 'W4': 4191, '5WQ': 711, 'remains': 9317, 'bro': 5185, 'amongst': 4652, 'bros': 5190, 'impressively': 7327, 'sensible': 9647, 'Whens': 4309, 'PARK': 3108, '69696': 747, 'Nyt': 3028, '3lp': 596, '£150msg': 11374, 'response': 9382, 'alsoor': 4636, 'danalla': 5847, 'obedient': 8526, 'ft': 6742, 'combination': 5599, 'needy': 8393, 'pouts': 8978, 'stomps': 10101, 'northampton': 8471, 'abj': 4467, 'serving': 9663, 'playng': 8891, '1McFlyAll': 405, 'Ab': 995, 'Sara': 3595, 'JorgeShock': 2457, 'SmithSwitch': 3717, 'anna': 4676, 'nagar': 8342, 'Chasing': 1463, 'Yupz': 4451, 'modelsony': 8224, 'ericson': 6338, 'der': 5970, 'luks': 7946, 'modl': 8225, 'cheesy': 5453, 'frosty': 6738, 'witin': 11114, 'sports': 10013, 'fans': 6481, 'PLUS': 3135, 'SPORT': 3535, '0870141701216': 80, '4txt120p': 676, 'Europe': 1800, '10th': 314, 'Sept': 3631, '09050000555': 183, 'BA128NNFWFLY150ppm': 1123, 'shirts': 9712, 'nudist': 8505, 'themed': 10412, 'YM': 4397, 'pump': 9126, 'petrol': 8821, '£12': 11367, 'Feb': 1900, 'VALUED': 4147, 'FRNDS': 1880, 'evn': 6389, 'ignore': 7301, 'Evr': 1813, 'signal': 9771, 'neither': 8400, 'unusual': 10761, 'Hugs': 2283, 'snogs': 9888, 'Omw': 3075, 'west': 11036, 'palm': 8707, 'printing': 9050, 'handing': 7013, 'fastest': 6491, 'growing': 6960, 'optout': 8622, '83021': 832, 'chase': 5432, 'stated': 10062, 'Reaction': 3383, 'DOUBLE': 1602, 'tariffs': 10315, '2stoptxt': 535, 'perpetual': 8810, 'DD': 1574, 'steam': 10077, 'reg': 9292, 'pract': 8988, 'Flung': 1922, 'HouseMaid': 2276, 'murdered': 8317, 'public': 9119, 'govtinstituitions': 6914, 'closedincluding': 5549, 'officeunderstand': 8554, 'Juz': 2467, 'process': 9072, 'justbeen': 7557, 'overa': 8668, 'broke': 5187, 'brains': 5152, 'mush': 8320, 'Tunde': 4054, 'missions': 8197, 'luxury': 7956, 'Canary': 1433, 'Islands': 2385, '20M12AQ': 435, '“': 11421, 'Lux': 2681, '28': 469, 'EH74RR': 1723, 'Next': 2972, 'sleepy': 9834, 'dare': 5858, 'ben': 5008, 'mag': 7983, 'avo': 4865, 'middle': 8151, 'crashed': 5764, 'cuddled': 5801, 'Chachi': 1457, 'Pl': 3229, 'tiz': 10510, 'Kanagu': 2487, 'prices': 9039, 'ringing': 9428, 'houseful': 7203, 'brats': 5156, 'pulling': 9124, 'diwali': 6083, 'Tick': 3994, 'tick': 10476, 'nowonion': 8498, 'prepare': 9014, 'Sat': 3599, 'Derp': 1652, 'abusers': 4477, 'lipo': 7825, 'Watch': 4276, 'easter': 6232, 'netflix': 8404, 'Thgt': 3976, 'clash': 5526, 'ARR': 977, 'oscar': 8642, 'Open': 3086, 'rebtel': 9245, 'firefox': 6579, 'lower': 7927, 'pin': 8861, 'Married': 2796, 'action': 4511, 'MATCH': 2703, '69969': 755, 'BCMSFWC1N3XX': 1148, 'impressed': 7325, 'funs': 6764, 'Burger': 1328, 'footy': 6653, 'stadium': 10033, 'Large': 2606, 'CocaCola': 1493, 'dark': 5859, 'teenager': 10347, 'teluguthts': 10360, 'gudk': 6972, 'Took': 4022, 'Centre': 1455, 'exhaust': 6411, 'replacing': 9346, 'Mittelschmertz': 2841, 'paracetamol': 8720, 'salespee': 9519, 'arrived': 4784, 'cThen': 5262, 'enuff': 6332, 'conclusion': 5652, 'contents': 5689, 'pg': 8822, 'references': 9282, 'cover': 5753, 'atyour': 4838, 'success': 10181, 'U’ve': 4144, 'Bin': 1256, 'Awarded': 1113, '£50': 11397, 'Instant': 2375, '08715203028': 132, 'EVERY': 1742, '9th': 932, 'Player': 3233, 'Wins': 4326, 'Min': 2829, '£50£500': 11402, 'rugby': 9484, 'affidavit': 4555, 'Twiggs': 4058, 'division': 6081, 'courtroom': 5751, 'creep': 5777, 'FreeMsgFAV': 1944, 'TONESReply': 3895, 'Lil': 2629, 'Thinkin': 3980, 'showers': 9748, 'possessiveness': 8957, 'poured': 8976, 'lies': 7785, 'golden': 6884, 'lasting': 7708, 'Genius': 2043, 'mobs': 8219, '2u': 536, 'BREATHE1': 1193, 'CRAZYIN': 1400, 'SLEEPINGWITH': 3501, 'FINEST': 1850, 'YMCA': 4398, 'getzedcouk': 6833, 'POBox365O4W45WQ': 3145, 'wtc': 11200, 'Weiyi': 4291, 'property': 9103, 'INTERFLORA': 2325, '\\x93Its': 11358, 'Interflora': 2377, 'flowers': 6622, '505060': 688, 'godtaken': 6876, 'teethis': 10350, 'paining': 8703, 'ROMCAPspam': 3357, 'Everyone': 1809, 'presence': 9021, 'outgoing': 8657, 'sian': 9762, 'maggi': 7986, 'mee': 8091, '08712103738': 103, 'cough': 5736, 'Com': 1502, 'EURO2004': 1737, 'CUP': 1409, 'FINAL': 1847, '09058099801': 211, 'b4190604': 4882, '7876150ppm': 789, 'BBDpooja': 1142, 'pimpleseven': 8860, 'blackand': 5060, 'sweatter': 10260, 'Nicenicehow': 2976, 'quick': 9160, 'ambitious': 4644, 'miiiiiiissssssssss': 8155, 'Tunji': 4055, 'queen': 9155, 'iZ': 7276, 'Yellow': 4421, 'misscall': 8192, 'frndZ': 6727, '6missed': 766, 'Freemessage': 1947, 'JamsterGet': 2425, 'frog': 6734, 'MAD1': 2691, 'MAD2': 2692, '88888': 888, 'GBPweek': 1977, 'REALITY': 3331, 'FANTASY': 1837, 'SHOW': 3485, 'wipro': 11098, 'tall': 10306, 'doubt': 6137, 'handle': 7014, 'note': 8476, 'robs': 9447, 'Avenge': 1112, 'Japanese': 2429, 'Proverb': 3291, 'none': 8461, 'itU': 7447, 'LET': 2556, 'itLEAVE': 7446, 'Kerala': 2499, 'strike': 10133, 'choices': 5500, 'toss': 10587, 'coin': 5578, 'Gudni8': 2097, 'Adult': 1015, 'dancin': 5850, 'explicitly': 6429, 'nora': 8464, 'Smith': 3716, 'gayle': 6802, 'Woke': 4336, 'Crucify': 1542, 'moved': 8271, 'butting': 5246, 'freedom': 6700, 'vs': 10907, 'cedar': 5388, 'twenty': 10682, 'durham': 6209, 'reserved': 9368, 'seat': 9599, 'PORN': 3156, '69855': 749, '24Hrs': 453, '50p': 689, 'STOPBCM': 3551, 'SF': 3477, 'painting': 8705, 'wall': 10934, 'Printer': 3282, 'groovy': 6954, 'groovying': 6955, 'Harishs': 2190, 'transfred': 10618, 'Acnt': 1007, 'Cbe': 1452, 'nowadayslot': 8494, 'showroomscity': 9750, 'shaping': 9691, 'attending': 4832, 'talks': 10305, 'probs': 9071, 'doinat': 6110, 'callon': 5296, 'low': 7926, 'bought': 5132, 'rons': 9459, 'swatch': 10256, 'Kkyesterday': 2529, 'ganesh': 6785, 'dress': 6160, 'pdateNow': 8779, 'call2optoutYHL': 5284, 'collecting': 5588, 'configure': 5660, 'trips': 10640, 'i’m': 7473, 'orange': 8626, 'isn’t': 7443, 'WISH': 4222, 'CANT': 1348, 'WAIT': 4194, 'WANT': 4199, 'ANAL': 965, 'SEX': 3475, 'GANG': 1970, 'BANG': 1135, 'pears': 8783, 'Helloooo': 2212, 'Wake': 4261, 'welcomes': 11022, 'GUD': 2023, 'MRNG': 2755, 'summer': 10206, 'celebrate': 5392, 'white': 11061, 'Oooooh': 3083, '09058094454': 198, 'thatnow': 10403, 'Kindly': 2510, 'MOB': 2739, '54': 699, 'resubmit': 9396, 'expiry': 6426, 'THEMOB': 3875, 'we\\x92ve': 11043, '2geva': 512, 'mint': 8179, 'uxxxx': 10815, 'simply': 9786, 'gods': 6875, 'humans': 7243, 'studyn': 10152, 'wuld': 11206, 'everyboy': 6379, 'xxxxxxxx': 11276, 'Test': 3952, 'solved': 9905, 'CAT': 1354, '532': 698, '924': 913, '863': 863, '725': 774, 'brilliant1thingi': 5177, 'answr': 4694, 'liquor': 7827, 'flaked': 6597, 'loko': 7870, '730': 777, 'lined': 7812, 'tm': 10514, 'MINE': 2722, 'laughs': 7721, 'fireplace': 6580, 'icon': 7286, '08712400200': 108, 'fifth': 6539, 'woozles': 11148, 'weasels': 10990, 'exeter': 6410, '08718723815': 153, 'Gary': 2034, 'machines': 7971, 'fucks': 6747, 'sake': 9514, 'ignorant': 7300, 'mys': 8334, 'bruce': 5202, 'downs': 6143, 'fletcher': 6605, '27603': 468, '08714714011': 130, 'teaching': 10336, 'bowls': 5138, 'cozy': 5757, 'nightnobody': 8431, 'Everything': 1810, 'Buzzzz': 1333, 'Buzz': 1332, 'chest': 5462, 'vibrator': 10854, 'shake': 9685, 'covers': 5755, 'trends': 10636, 'pros': 9106, 'cons': 5673, 'Brief': 1309, 'description': 5974, 'nuclear': 8504, 'fusion': 6766, 'brief': 5173, 'history': 7134, 'iter': 7452, 'jet': 7508, 'NONENOWHERE': 2935, 'IKNO': 2302, 'DOESDISCOUNTSHITINNIT': 1591, 'jabo': 7475, 'abi': 4465, 'slower': 9849, 'maniac': 8018, 'hadya': 6996, 'sapna': 9532, 'manege': 8016, 'yday': 11288, 'hogidhechinnu': 7147, 'swalpa': 10253, 'agidhane': 4576, 'Mostly': 2876, 'typelyk': 10695, 'footblcrckt': 6650, 'swell': 10264, 'Sary': 3598, 'Tim': 3998, 'bollox': 5103, 'tol': 10538, 'hang': 7019, 'ingredients': 7366, 'pocy': 8914, 'bell': 4999, 'non': 8459, 'call2optout4QF2': 5277, 'Done': 1693, 'Tonight': 4021, 'senor': 9643, 'giggle': 6840, 'possibly': 8961, 'person2die': 8813, 'NVQ': 2944, 'professional': 9079, 'Tiger': 3996, 'Woods': 4342, 'reboot': 9243, 'grinder': 6949, 'POLYPHONIC': 3153, 'PT2': 3174, 'youkwhere': 11322, 'buyers': 5250, 'figuring': 6546, 'entirely': 6327, 'understood': 10728, 'bottom': 5131, 'knowhe': 7640, 'phoned': 8834, 'disconnected': 6065, 'onluy': 8594, 'matters': 8057, 'offcampus': 8543, 'Welcome': 4292, 'improved': 7329, 'msgs150p': 8287, 'rileys': 9425, 'Ew': 1816, 'wesley': 11034, 'howve': 7211, 'lingo': 7817, '12Mths': 336, 'Half': 2178, 'Price': 3280, '400minsCall': 608, 'call2optoutJ5Q': 5281, 'WITHOUT': 4224, 'meDont': 8074, 'lm': 7845, 'Goodnoon': 2074, 'Hm': 2237, 'HARDCORE': 2113, '69200': 745, 'hrs': 7215, 'chrgd50p': 5507, '2exit': 511, 'salon': 9521, 'approaching': 4740, 'Sankranti': 3591, 'republic': 9355, 'Shivratri': 3663, 'Ugadi': 4101, 'Fools': 1928, 'Independence': 2363, 'FriendshipMotherFatherTeachersChildrens': 1954, 'Ganesh': 2032, 'festival': 6529, 'Dasara': 1624, 'Diwali': 1680, 'Mornings': 2875, 'Afternoons': 1022, 'Evenings': 1804, 'Nights': 2982, 'RememberI': 3404, 'WISHING': 4223, 'THESEyours': 3877, 'Raj': 3370, 'joys': 7541, 'lifeis': 7790, 'daywith': 5891, 'thoughts': 10452, 'somewhereSomeone': 9923, 'tosend': 10585, 'greeting': 6946, 'selflessness': 9632, 'initiate': 7367, 'tallent': 10308, 'wasting': 10964, 'usc': 10791, 'payment': 8774, 'portal': 8948, 'explain': 6427, 'Dont4get2text': 1695, 'Jokin': 2450, 'lennon': 7760, 'bothering': 5129, 'crab': 5759, 'shoreThe': 9729, 'waves': 10978, 'footprints': 6652, 'Crab': 1534, 'clearing': 5537, 'Waves': 4282, 'fox': 6689, 'frndsship': 6731, 'dwn': 6214, 'Slaaaaave': 3703, 'summon': 10207, '£3365': 11390, 'changes': 5414, 'appendix': 4727, 'range': 9197, 'However': 2278, 'HM': 2140, 'Become': 1238, 'slob': 9845, 'smiled': 9867, 'Gudnite': 2098, 'topicsorry': 10576, 'Webpage': 4285, 'Yeesh': 4419, 'unsubscribed': 10760, 'hunks': 7250, 'httpgotbabescouk': 7221, 'subscriptions': 10177, 'Gopalettan': 2077, 'participate': 8740, 'admin': 4530, 'Kkfrom': 2519, 'abroad': 4470, 'xxSP': 11271, 'visionsmscom': 10881, 'stopCost': 10107, '08712400603': 109, 'agent': 4573, 'goodies': 6896, 'MAT': 2702, 'Ay': 1117, 'satü': 9547, 'Apart': 1074, 'andros': 4669, 'steal': 10075, 'IsaiahD': 2384, 'Hoping': 2268, 'meets': 8097, 'foot': 6648, 'penis': 8793, 'expert': 6423, 'sigh': 9767, 'Ssi': 3766, 'thinl': 10439, 'sachinjust': 9503, 'Others': 3099, 'Bye': 1336, 'importantly': 7320, 'Holding': 2255, 'tightly': 10481, 'Wnevr': 4335, 'fal': 6465, 'vth': 10908, 'books': 5114, 'fals': 6471, 'Yen': 4423, 'madodu': 7979, 'nav': 8370, 'pretsorginta': 9030, 'nammanna': 8352, 'pretsovru': 9031, 'alwa': 4640, 'eveB': 6367, 'window': 11087, 'LORD': 2579, 'RINGSRETURN': 3353, 'KING': 2475, 'NOWREPLY': 2938, 'LOTR': 2582, 'soundtrack': 9954, 'StdTxtRate': 3779, 'homelove': 7163, 'staffsciencenusedusgphyhcmkteachingpc1323': 10035, 'emigrated': 6293, 'hopeful': 7181, 'Olol': 3073, 'Hopefully': 2267, 'stagwood': 10037, 'winterstone': 11097, 'victors': 10857, 'hill': 7124, 'Address': 1012, 'jp': 7542, 'mofo': 8228, 'Pathaya': 3193, 'enketa': 6317, 'maraikara': 8025, 'priest': 9042, 'reserves': 9369, 'intrude': 7405, 'hun': 7244, 'walkabout': 10929, 'cashed': 5365, 'announced': 4680, 'blog': 5080, '28th': 473, '06': 18, 'removal': 9327, '08708034412': 96, 'Short': 3670, 'Cute': 1557, 'prove': 9109, 'footie': 6651, 'blow': 5090, 'Phil': 3215, 'Neville': 2967, 'Abbey': 996, 'returning': 9406, 'knowing': 7641, 'roger': 9452, 'Small': 3711, 'auctionpunj': 4840, 'tiwary': 10508, 'str8': 10118, 'Classic': 1486, 'Polys': 3257, 'Nokia150p': 3002, 'Poly200p': 3255, 'fuckin': 6745, 'thurs': 10472, 'pre': 9003, 'cancelled': 5313, 'sacked': 9505, 'LookAtMe': 2653, 'clip': 5543, '35p': 568, 'MMSto': 2736, '32323': 562, 'barred': 4925, 'stores': 10114, 'lifeThis': 7787, 'twat': 10680, 'dungerees': 6205, 'decking': 5922, 'punch': 9127, 'mentionned': 8121, 'chinese': 5494, 'porn': 8945, 'RECD': 3336, 'MSGS': 2758, '150P': 354, 'INC': 2313, 'VAT': 4148, 'CANCEL': 1347, 'planned': 8880, 'onlydon': 8596, 'Grl': 2091, 'Hogolo': 2251, 'kodstini': 7650, 'Agalla': 1024, 'madstini': 7981, 'agalla': 4567, 'Hogli': 2250, 'mutai': 8327, 'eerulli': 6253, 'kodthini': 7651, 'kano': 7575, 'THASA': 3869, 'MESSED': 2716, 'UPYEH': 4086, 'SHUDVETOLD': 3487, 'URGRAN': 4092, 'KNOWNEWAY': 2480, 'ILLSPEAK': 2307, 'U2MORO': 4069, 'ASLEEP': 980, 'CHEERS': 1372, 'TEX': 3858, 'MECAUSE': 2707, 'WEREBORED': 4212, 'YEAH': 4383, 'OKDEN': 3038, 'HUNNY': 2165, 'UIN': 4073, 'SATSOUND\\x92S': 3454, 'LIKEYOUR': 2562, 'HAVIN': 2123, 'GR8FUN': 2016, 'UPDAT': 4084, 'COUNTINLOTS': 1397, 'XXXXX': 4372, 'rang': 9196, 'L': 2537, 'tagged': 10291, 'count': 5742, 'BETTER': 1157, 'CAUSE': 1356, 'FEEL': 1839, 'USED': 4096, 'OTHERWISE': 3049, 'challenge': 5405, 'hdd': 7055, 'casing': 5368, 'opened': 8601, 'Isnt': 2386, 'describe': 5973, '09053750005': 193, '310303': 557, '08718725756': 154, '140ppm': 349, 'asus': 4818, 'randomly': 9194, 'reformat': 9287, 'Mah': 2777, 'otside': 8647, 'leu': 7773, 'plumbers': 8903, 'tape': 10314, 'wrench': 11187, 'httpwwwetlpcoukreward': 7227, 'bcum': 4955, 'films': 6554, 'appeal': 4725, 'thriller': 10459, 'director': 6051, '830': 831, 'size': 9812, 'elephant': 6280, 'shove': 9742, 'um': 10710, 'cr': 5758, 'pookie': 8935, 'MAYBE': 2706, 'WOKE': 4229, 'WOULDNT': 4242, 'PROBLEM': 3168, 'youdearwith': 11319, 'loverakhesh': 7918, 'NRI': 2940, '08712101358': 102, 'X2': 4360, 'It\\x92s': 2392, 'deserve': 5976, 'Sleep': 3704, 'tight': 10480, '88039SkilGmeTsCs087147403231WinawkAge16£150perWKsub': 878, 'lick': 7781, 'diddy': 6013, 'neighbor': 8398, 'toothpaste': 10572, 'av': 4853, 'oneta': 8589, 'poking': 8920, 'everyday': 6380, 'canada': 5309, 'deam': 5901, 'curious': 5812, 'def': 5931, 'coccooning': 5569, 'auto': 4851, 'mus': 8319, 'YEAHAND': 4384, 'HAV': 2118, 'GREAT': 2019, 'NEWQUAYSEND': 2916, 'POSTCARD': 3159, 'GONEU': 1998, '1IM': 403, 'TALKIN': 3841, 'BOUTxx': 1179, 'divorce': 6082, 'bread': 5158, 'windy': 11090, '09066358361': 256, 'Y87': 4381, 'mahal': 7991, 'knowthis': 7644, 'tirunelvai': 10503, 'dusk': 6210, 'solve': 9904, 'puzzles': 9146, 'X29': 4361, '450': 635, '09065989180': 252, 'stairs': 10038, 'phews': 8827, 'thangamits': 10391, 'redred': 9277, 'bloodblood': 5087, 'heartheart': 7073, '1u': 421, 'relation': 9304, '3u': 602, '4some1': 672, 'luvs': 7955, 'praying': 9001, 'Sup': 3818, 'recycling': 9274, 'People': 3199, 'earning': 6224, 'Toledo': 4014, 'Ron': 3434, 'ding': 6043, 'tai': 10293, 'feng': 6528, 'reservations': 9366, 'swimsuit': 10267, 'allowed': 4622, 'necessary': 8381, 'Frnd': 1955, 'watever': 10973, 'shared': 9693, 'accept': 4484, 'Squeeeeeze': 3763, 'hug': 7235, 'lik': 7799, 'frndshp': 6730, 'luvd': 7954, 'asks': 4804, 'themP': 10411, 'Funny': 1960, 'volcanoes': 10896, 'erupt': 6345, 'tsunamis': 10660, 'arise': 4767, 'hurricanes': 7256, 'sway': 10257, 'aroundn': 4778, 'disasters': 6061, 'lighters': 7797, '7pm': 800, 'Kkits': 2523, 'goodwhen': 6902, 'lasagna': 7705, 'vodka': 10893, 'KATE': 2472, 'drunk': 6184, 'chickened': 5471, 'messaged': 8135, 'woould': 11147, '08718726978': 159, 'city': 5517, 'drove': 6178, 'shore': 9728, 'takin': 10299, 'deus': 5990, '44': 625, '7732584351': 786, '3510i': 567, 'DeliveredTomorrow': 1647, '300': 545, 'tap': 10313, 'spile': 9993, 'broad': 5186, 'canal': 5310, 'engin': 6311, 'onedge': 8587, 'Raviyog': 3380, 'Peripherals': 3202, 'bhayandar': 5028, 'east': 6231, 'sunoco': 10215, 'howard': 7207, 'MOON': 2747, 'STARS': 3544, 'musical': 8323, 'Peaceful': 3197, 'plate': 8883, 'leftovers': 7749, 'Hang': 2183, 'Food': 1927, 'starving': 10060, 'cooked': 5706, 'Everyday': 1808, 'cheat': 5441, 'fatty': 6498, 'Badrith': 1217, 'chennaii': 5457, 'usno': 10801, 'owe': 8677, 'NIC': 2919, 'CHECKIN': 1369, 'NUMBERSO': 2943, 'ITTB': 2335, 'block': 5078, 'armenia': 4773, 'swann': 10254, '09058097189': 208, '09061221066': 217, 'fromm': 6735, '330': 565, '1120': 316, '1205': 329, 'smoking': 9874, 'wylie': 11259, 'justify': 7558, 'ruining': 9486, 'Meds': 2810, 'hunt': 7254, 'in2': 7330, '5226': 693, 'hava': 7050, '1131': 318, 'RCT': 3326, 'THNQ': 3881, 'Adrian': 1014, 'Rgds': 3419, 'Vatian': 4165, 'everyones': 6382, 'babysitting': 4891, 'Monday': 2865, 'Itll': 2388, 'GONNAMISSU': 2000, 'MUCHI': 2762, 'WOULD': 4241, 'SEND': 3469, 'BUTTHERES': 1206, 'ABOUTAS': 934, 'MEREMEMBERIN': 2713, 'ASTHERE': 981, 'OFSI': 3033, 'BREAKIN': 1192, 'CONTRACT': 1393, 'Yaxx': 4413, 'Ee': 1765, 'poortiyagi': 8940, 'odalebeku': 8540, 'Hanumanji': 2185, '1Hanuman': 401, '2Bajarangabali': 479, '3Maruti': 583, '4Pavanaputra': 654, '5Sankatmochan': 707, '6Ramaduth': 760, '7Mahaveer': 792, 'ee': 6251, 'janarige': 7486, 'ivatte': 7465, 'kalisidare': 7569, 'olage': 8577, 'ondu': 8585, 'keluviri': 7592, 'Maretare': 2792, 'inde': 7343, 'dodda': 6097, 'problum': 9070, 'nalli': 8347, 'siguviri': 9776, 'idu': 7296, 'matra': 8053, 'neglet': 8397, 'NUMBER': 2942, 'Set': 3636, 'easily': 6230, 'forgets': 6662, 'bishan': 5052, 'TROUBLE': 3907, 'IJUST': 2300, 'TALKED': 3840, 'MORNING': 2749, 'Hyde': 2290, 'opps': 8616, 'tts': 10662, 'gei': 6811, 'tron': 10643, 'dl': 6084, 'selfish': 9631, 'spiffing': 9992, 'workage': 11158, 'craving': 5767, 'Fml': 1923, 'supose': 10225, 'muchi': 8301, 'babysit': 4890, 'therexx': 10422, 'spaces': 9963, 'embassy': 6290, 'Dat': 1625, 'lightly': 7798, 'custom': 5819, 'checkboxes': 5445, 'hardcore': 7037, 'Sac': 3581, 'hundredhe': 7246, 'batsman': 4943, 'yettys': 11301, 'Per': 3200, 'theory': 10415, 'jiayin': 7512, '09050000928': 185, 'PoBox45W2TG150P': 3247, 'GAS': 1971, 'STATION': 3546, 'forgotten': 6667, 'Reverse': 3418, 'cheating': 5442, 'mathematics': 8051, 'Ure': 4134, 'Caught': 1450, '2waxsto': 538, 'basic': 4931, 'emailed': 6286, 'yifeng': 11304, 'theyll': 10426, 'slurp': 9852, 'Minimum': 2832, '3miles': 597, 'ing': 7365, 'tuesday': 10666, 'Brainless': 1302, 'DollD': 1690, 'vehicle': 10841, 'sariyag': 9537, 'madoke': 7980, 'barolla': 4924, '07090201529': 23, 'postponed': 8968, 'stocked': 10098, 'elaine': 6274, 'tiime': 10484, 'tears': 10341, 'fml': 6631, 'afternon': 4562, 'interviews': 7401, 'Wun': 4357, 'resizing': 9372, 'STAR': 3543, '09066364349': 262, 'Box434SK38WP150PPM18': 1298, 'opposed': 8614, 'drunken': 6186, 'MSGWe': 2759, 'billed': 5038, 'shortcode': 9732, '83332Please': 838, '08081263000': 63, 'refundedThis': 9290, 'somerset': 9913, 'Bit': 1261, 'overtime': 8672, 'nigpun': 8436, 'dismissial': 6073, 'screwd': 9588, '08712402972': 114, 'Bull': 1327, 'floating': 6615, 'IKEA': 2301, 'mess': 8132, '09058095201': 207, 'Heehee': 2204, 'arithmetic': 4769, 'percentages': 8798, 'wouldnt': 11182, 'Amazing': 1060, 'Quote': 3320, 'tear': 10340, 'chillaxin': 5490, 'DAS': 1567, 'COOL': 1395, 'IKNOW': 2303, 'WELLDA': 4208, 'PERIL': 3117, 'STUDENTFINANCIAL': 3558, 'CRISISSPK': 1402, 'L8R': 2539, 'monster': 8247, 'ths': 10468, 'Tis': 4002, 'IAS': 2291, 'obey': 8528, 'resend': 9364, 'Uhhhhrmm': 4104, 'mb': 8068, 'gbpsms': 6805, '600': 725, '400': 607, 'Inclusive': 2359, 'delTOMORROW': 5942, '09066368470': 265, '24M': 454, 'Freemsg': 1948, '1month': 414, 'SmartCall': 3712, '68866': 743, 'Subscriptn3gbpwk': 3806, '08448714184': 68, 'Stoptxt': 3787, 'landlineonly': 7690, 'mths': 8296, 'cameravideo': 5305, '£s': 11413, 'textsweekend': 10386, 'callback': 5285, 'orno': 8637, 'fink': 6575, '09099726553': 287, 'promised': 9093, 'CARLIE': 1352, 'Calls£1minMobsmore': 1426, 'LKPOBOX177HP51FL': 2569, 'youPhone': 11314, 'atHome': 4819, 'youwanna': 11335, 'jack': 7476, 'sayask': 9555, 'helpful': 7092, 'pretend': 9029, 'hypotheticalhuagauahahuagahyuhagga': 7273, 'brainy': 5153, 'NEVER': 2914, 'STUDY': 3559, 'occasion': 8533, 'Celebrated': 1453, 'Reflection': 3399, 'Values': 4164, 'Desires': 1654, 'Affectionsamp': 1018, 'Traditions': 4029, 'Sending': 3626, 'greetings': 6947, 'cantdo': 5321, 'anythingtomorrow': 4709, 'myparents': 8333, 'aretaking': 4760, 'outfor': 8656, 'Katexxx': 2490, 'level': 7774, 'gate': 6796, 'Charles': 1461, 'uh': 10704, '89105': 892, 'Extra': 1829, 'ts': 10658, 'cs': 5794, 'wedding': 11000, 'lingerie': 7816, 'wwwbridalpetticoatdreamscouk': 11225, 'superb': 10221, 'Brought': 1318, 'WeddingFriend': 4287, 'board': 5097, 'overheating': 8671, 'reslove': 9373, 'inst': 7381, 'pending': 8791, '8o': 906, 'Mon': 2864, 'western': 11037, 'Sitting': 3695, 'outta': 8666, 'Nowadays': 3019, 'notixiquating': 8485, 'laxinorficated': 7727, 'bambling': 4909, 'entropication': 6330, 'oblisingately': 8530, 'opted': 8618, 'masteriastering': 8044, 'amplikater': 4656, 'fidalfication': 6535, 'champlaxigating': 5408, 'atrocious': 4824, 'Wotz': 4350, 'Opinion': 3087, 'Junna': 2465, 'knickers': 7637, '01223585236': 4, 'Nikiyu4net': 2983, 'accident': 4488, 'a30': 4459, 'divert': 6080, 'wadebridgeI': 10915, 'brilliant': 5176, 'vill': 10871, 'orc': 8627, 'Bloomberg': 1272, '447797706009': 627, 'Apply': 1078, 'httpcareers': 7219, 'bloombergcom': 5089, 'seeking': 9617, 'priscillas': 9053, 'january': 7488, 'dayexcept': 5883, 'wisdom': 11100, 'Eyes': 1831, 'Alwys': 1058, 'Touch': 4025, 'Inform': 2371, 'yetunde': 11302, 'Wherres': 4313, 'phone750': 8832, 'resolution': 9374, 'replyBe': 9350, 'frankgood': 6693, 'logoff': 7866, 'parkin': 8737, 'kent': 7593, 'vale': 10821, 'cannt': 5319, 'asa': 4791, '09050000878': 184, 'Wan2': 4264, 'MeetGreet': 2812, 'Westlife': 4298, '1Unbreakable': 408, '2Untamed': 502, '3Unkempt': 589, '83049': 834, 'prince': 9044, 'charming': 5429, 'mention': 8119, 'served': 9659, 'arnt': 4776, 'xxxxxxxxxxxxxX': 11277, 'Dorothykiefercom': 1699, 'Granite': 2085, 'StrongBuy': 3793, 'EXPLOSIVE': 1752, 'MEMBERS': 2712, 'Nasdaq': 2951, 'Symbol': 3831, 'CDGT': 1359, 'alle': 4620, 'moneeppolum': 8240, 'oru': 8640, 'allalo': 4618, 'fundamentals': 6759, 'Walk': 4262, 'carewhoever': 5348, '101mega': 303, 'pixels': 8868, '3optical': 599, '5digital': 712, 'dooms': 6127, 'Peteynoi\\x92m': 3210, 'timehope': 10490, 'alritehave': 4634, 'js': 7543, 'amx': 4660, 'burgundy': 5230, 'captaining': 5330, 'base': 4929, 'Staff': 3770, 'placement': 8873, 'Amrita': 1065, 'profile': 9081, 'bpo': 5149, 'didn‘t': 6017, 'nighters': 8429, 'persevered': 8811, 'regretted': 9300, 'Hanging': 2184, 'wasn\\x92t': 10960, 'spouse': 10016, 'pmt': 8909, 'sumthin': 10208, '4give': 665, 'shldxxxx': 9719, 'thatd': 10399, 'scenario': 9567, 'SPUNOUT': 3540, 'DEAD': 1576, 'WRLD': 4248, 'SLEEPING': 3500, 'SOFA': 3511, 'NYTHO': 2945, 'TX': 3915, 'FONIN': 1860, 'HON': 2146, '2MWEN': 494, 'BK': 1166, 'FRMCLOUD': 1878, 'Guaranteed': 2095, '09071517866': 274, '150ppmPOBox10183BhamB64XE': 371, 'Eve': 1801, '10am': 307, 'Thurs': 3990, 'Tyler': 4067, 'pounded': 8974, 'Lion': 2634, 'devouring': 5995, 'inform': 7356, 'Airtel': 1033, 'Broadband': 1316, 'processed': 9074, 'installation': 7383, 'tensed': 10367, 'coughing': 5737, 'warned': 10953, 'Sprint': 3761, 'prolly': 9089, 'TH': 3865, 'GOWER': 2015, 'MATE': 2705, 'ILL': 2306, '\\x91MORROW': 11355, '\\x96': 11359, 'RANDOM': 3324, 'Rock': 3428, 'chik': 5473, '100s': 300, 'filthy': 6555, 'FILTH': 1846, '69669': 746, 'Saristar': 3597, 'E14': 1718, '9YT': 924, '08701752560': 82, '450p': 637, 'Stop2': 3786, 'cancel': 5311, 'Din': 1667, '420': 618, '9061100010': 911, 'Wire3net': 4328, '1st4Terms': 418, 'PoBox84': 3249, 'MobcudB': 2851, 'alreadysabarish': 4630, 'Vijay': 4175, 'jaya': 7493, '09050000460': 182, 'J89': 2404, 'box245c2150pm': 5140, 'inpersonation': 7376, 'flea': 6604, 'forums': 6679, 'BANNEDUK': 1137, 'itlet': 7456, 'highest': 7122, '£54': 11403, 'maximum': 8063, '£71': 11407, 'BIDS': 1159, 'NYs': 2947, 'TAJ': 3836, 'MAHAL': 2694, 'symbol': 10276, 'lesser': 7766, 'known': 7642, 'facts': 6452, 'Mumtaz': 2892, 'Shahjahans': 3645, 'wifes': 11075, 'Shahjahan': 3644, 'Mumtazs': 2893, 'Question': 3314, 'arises': 4768, 'Hell': 2208, 'Hari': 2189, 'okcome': 8569, 'Collect': 1500, 'PARIS': 3106, 'Flight': 1920, 'Hotel': 2274, '69101': 744, 'wwwrtfsphostingcom': 11245, 'webadres': 10995, 'geting': 6827, 'Sends': 3627, 'Incredible': 2361, 'O2FWD': 3031, '18ptxt': 393, 'ship': 9708, 'maturity': 8059, 'EVENING': 1740, 'confirmed': 5664, 'passport': 8757, 'Multiply': 2890, 'independently': 7345, 'decimal': 5918, 'showed': 9745, 'twins': 10684, 'strt': 10139, 'LtdHelpDesk': 2672, '02085076972': 13, 'equally': 6337, 'uneventful': 10733, 'pesky': 8820, 'cyclists': 5830, 'wereare': 11032, 'nalla': 8346, 'adi': 4528, 'entey': 6325, 'nattil': 8363, 'kittum': 7631, 'KAVALAN': 2473, 'hire': 7132, 'hitman': 7136, 'Colour': 1501, 'Delivered': 1646, '200': 425, 'YOUVE': 4404, 'Winner': 4323, '09066660100': 271, '2309': 447, 'Cps': 1533, 'causing': 5381, 'outages': 8652, 'conserve': 5676, 'voted': 10901, 'epi': 6335, 'bare': 4921, 'bhaskar': 5027, 'dubsack': 6194, 'individual': 7349, 'gong': 6889, 'kaypoh': 7583, 'football': 6649, 'basketball': 4933, 'outdoors': 8654, 'macho': 7972, 'interfued': 7396, 'blank': 5065, 'listed': 7829, 'Alfie': 1046, 'CHARITY': 1366, 'nokias': 8456, 'apology': 4722, 'hustle': 7264, 'forth': 6676, 'audition': 4842, 'harlem': 7040, 'Goin': 2065, 'workout': 11161, 'fats': 6497, 'zac': 11348, 'SENT': 3471, 'tonights': 10558, 'Hui': 2285, 'xin': 11264, 'lib': 7779, 'difference': 6027, 'versus': 10849, 'edge': 6242, 'underdtand': 10725, 'LETS': 2557, '4GET': 650, 'ITBOTH': 2333, 'CHEER': 1370, 'UPNOT': 4085, 'FIT': 1853, 'SOO': 3517, 'MUCHXXLOVE': 2763, 'LOCAXX': 2572, '07090298926': 24, 'reschedule': 9362, 'Ref9307622': 3397, 'skateboarding': 9814, 'despite': 5981, 'thrown': 10464, 'winds': 11089, 'bandages': 4911, 'mytonecomenjoy': 8335, 'html': 7217, 'GBP450week': 1975, 'MFL': 2718, '1146': 320, '23': 446, 'sky': 9821, 'hectic': 7080, 'fell': 6524, 'swoop': 10272, 'wamma': 10941, 'laidwant': 7682, 'doggin': 6104, 'dogs': 6107, 'nownyt': 8497, 'Langport': 2604, 'virtual': 10879, 'Senthil': 3630, 'Apnt': 1075, 'Studying': 3795, 'pants': 8714, 'Waiti': 4258, 'langport': 7694, 'go2sri': 6866, 'lanka': 7696, 'wordnot': 11153, 'merely': 8127, 'relationshipits': 9305, 'Wherevr': 4312, 'Forevr': 1932, 'Gudnyt': 2100, 'mistakes': 8203, 'Darling': 1622, 'Sugar': 3809, 'plum': 8902, 'Loverboy': 2666, 'smacks': 9853, '50s': 690, 'alot': 4628, 'formatting': 6672, 'attracts': 4836, 'Promotion': 3289, '8714714': 873, 'Vegas': 4166, 'vegas': 10838, 'lou': 7907, 'Lancaster': 2601, 'Neway': 2969, 'couldn\\x92t': 5741, 'b\\x92day': 5259, 'soc': 9894, 'bsn': 5205, 'advising': 4548, 'lobby': 7853, 'texted': 10381, 'showered': 9747, 'erything': 6346, 'vewy': 10850, 'lubly': 7941, 'Rs5': 3441, '087147123779am7pm': 125, 'Sbut': 3606, 'luck2': 7943, 'catches': 5375, 'specify': 9979, 'domain': 6118, 'nusstu': 8514, 'Ohi': 3061, 'Hahatake': 2174, 'Kent': 2498, 'habit': 6994, 'bari': 4923, 'hudgi': 7234, 'yorge': 11313, 'pataistha': 8760, 'ertini': 6343, 'Hasbroin': 2191, 'AUGUST': 984, 'jump': 7551, 'hoops': 7175, 'lateso': 7715, 'morningtake': 8257, 'dreamsu': 6159, 'meummifyingbye': 8146, 'Networking': 2964, 'associate': 4811, 'rip': 9434, 'uterus': 10806, 'pool': 8936, 'jacuzzi': 7479, 'X49': 4362, '09065989182': 253, 'colourredtextcolourTXTstar': 5596, 'Blank': 1267, '2nights': 528, 'Uks': 4106, 'wildest': 11080, 'splwat': 10002, 'whr': 11066, 'Aldrine': 1043, 'rakhesh': 9187, 'RTM': 3363, 'herepls': 7100, 'callurgent': 5299, 'sources': 9957, 'unhappiness': 10737, 'necesity': 8379, 'witout': 11116, 'hwd': 7269, 'colleg': 5590, 'watll': 10975, 'wth': 11202, 'functions': 6757, 'events': 6373, 'espell': 6353, 'irritated': 7428, '4wrd': 682, 'dearloving': 5906, 'wthout': 11203, 'jst': 7544, 'Takecare': 3924, 'Old': 3072, 'Orchard': 3094, 'univ': 10746, 'rajas': 9185, 'burrito': 5236, 'It‘s': 2393, 'Disconnect': 1675, 'callcoz': 5287, 'iz': 7467, 'terrorist': 10372, 'Itz': 2391, 'confirmd': 5662, 'motorola': 8266, 'verified': 10845, 'CNN': 1383, 'IBN': 2294, 'stitch': 10096, 'trouser': 10646, '146tf150p': 351, 'Wednesday': 4288, 'cheetos': 5454, 'synced': 10277, 'shangela': 9689, 'hppnss': 7213, 'sorrow': 9939, 'forevr': 6659, 'GOODFRIEND': 2003, 'passes': 8754, '08704439680': 88, 'againloving': 4566, 'poo': 8934, 'gloucesterroad': 6863, 'uup': 10809, 'ouch': 8649, 'stayed': 10069, 'ASKED': 979, 'forgiveness': 6665, 'fruit': 6739, 'stone': 10102, 'glo': 6859, '09058095107': 206, 'S3XY': 3444, 'Yesmum': 4432, 'wlcome': 11126, 'eaten': 6235, 'lion': 7821, 'timi': 10494, 'Mila': 2825, 'age23': 4571, 'blonde': 5084, 'MTALK': 2760, '6986618': 750, '30pptxt': 552, '5free': 713, 'increments': 7342, 'Help08718728876': 2216, 'fishrman': 6587, 'sack': 9504, 'ful': 6750, 'stones': 10104, 'strtd': 10140, 'throwin': 10462, 'Atlast': 1102, '1stone': 420, 'MoralDont': 2872, '08717895698': 149, 'MobStoreQuiz10ppm': 2850, 'physics': 8840, 'ArPraveesh': 1081, 'delicious': 5947, 'transaction': 10611, 'Salad': 3587, 'desert': 5975, 'beers': 4983, 'WHORE': 4216, 'UNBELIEVABLE': 4078, 'funk': 6761, 'TONES2U': 3894, 'Twinks': 4059, 'bears': 4962, 'scallies': 9562, 'skins': 9817, 'jocks': 7518, '08712466669': 120, '08712460324nat': 119, 'flood': 6616, 'dr': 6145, 'beads': 4960, 'wishlist': 11107, 'section': 9609, 'nitro': 8444, 'History': 2231, 'Comfort': 1504, 'Luxury': 2682, 'Sold': 3723, 'OnionRs': 3078, 'PetrolRs': 3211, 'BeerRs': 1242, 'nvm': 8516, 'armands': 4772, 'creative': 5772, 'fakemy': 6463, 'reffering': 9284, 'uif': 10705, 'rs': 9478, 'getiing': 6826, 'rsi': 9479, 'weirdy': 11020, 'brownies': 5198, '09061701851': 220, 'K61': 2470, '12hours': 337, 'restrict': 9392, 'funeral': 6760, 'Audrey': 1105, 'godnot': 6874, 'chikkuk': 5480, 'vivek': 10888, '74355': 781, 'iscoming': 7435, 'TnC': 4008, 'brah': 5150, 'exams': 6398, 'possession': 8955, 'outif': 8659, 'greece': 6943, 'protect': 9108, 'ethreats': 6361, 'SIB': 3489, 'sensitive': 9648, 'PasswordsATMSMS': 3192, 'PIN': 3128, 'recorded': 9268, 'someday': 9908, 'Goodmorningmy': 2072, 'grandfather': 6926, 'expiredso': 6425, 'Blu': 1273, 'concert': 5651, 'November': 3017, '09061104276': 212, 'TSCs': 3911, 'cost£375max': 5734, 'yuou': 11347, 'pc': 8778, 'spot': 10014, 'ipad': 7420, 'bunch': 5224, 'lotto': 7904, 'Deal': 1633, 'Early': 1755, 'bird': 5046, 'purchases': 9134, 'authorise': 4850, '645pm': 739, 'Thatll': 3962, 'HOWS': 2157, 'HONEYDID': 2147, 'HOLIDAY': 2144, 'GIMMI': 1984, 'DE': 1575, 'GOSSx': 2011, 'painit': 8704, 'todaydo': 10528, 'ystrdayice': 11343, 'chile': 5488, 'subletting': 10168, 'febapril': 6513, 'ammaelife': 4648, 'steering': 10080, 'anythings': 4708, 'sleeps': 9833, 'rounderso': 9469, 'required': 9359, 'truekDo': 10649, 'lambu': 7685, 'ji': 7511, 'cometil': 5606, 'batchlor': 4938, 'zoom': 11353, 'nowSend': 8491, '62220Cncl': 732, 'STOPCS': 3552, '08717890890£150': 148, 'cheese': 5452, '\\x93Harry': 11357, 'pink': 8862, 'RingtoneFrom': 3425, 'httptms': 7223, 'widelivecomindex': 11071, 'wmlid1b6a5ecef91ff937819firsttrue180430JUL05': 11128, 'xafter': 11261, 'cst': 5795, 'chg': 5466, 'pure': 9135, 'hearted': 7071, 'hisher': 7133, 'enemies': 6305, 'SMILEY': 3505, 'GAIL': 1967, 'NEVA': 2913, 'WRONGTAKE': 4249, 'SWEET': 3577, 'WORRYC': 4238, 'L8TR': 2540, 'HUNLOVE': 2164, 'Yaxxx': 4414, 'Theoretically': 3970, 'hooked': 7174, 'therere': 10420, 'formallyPls': 6670, 'prayingwill': 9002, 'multimedia': 8306, 'senthilhsbc': 9652, 'vague': 10818, 'accounting': 4497, 'delayed': 5944, 'housing': 7206, 'agency': 4572, 'renting': 9336, 'presents': 9023, 'Loads': 2643, 'nicky': 8425, 'Gumbys': 2105, 'httpalto18coukwavewaveaspo44345': 7218, 'sized': 9813, 'tarpon': 10316, 'springs': 10020, 'Cab': 1414, 'availablethey': 4857, 'steps': 10082, 'oktake': 8573, 'careumma': 5347, 'Unlimited': 4122, 'Limited': 2630, 'call2optoutHF8': 5279, 'YESTERDAY': 4395, '09061702893': 222, 'practice': 8990, '07XXXXXXXXX': 48, '08719181259': 172, '260305': 462, 'handset': 7016, 'Line': 2632, 'deartake': 5909, 'radiator': 9173, 'Serious': 3633, 'proper': 9101, 'tongued': 10556, 'shorts': 9735, 'qi': 9151, 'suddenly': 10188, 'flurries': 6625, 'melt': 8107, 'ground': 6956, 'Eek': 1766, 'born': 5123, 'FREERingtone': 1871, 'REAL1': 3329, 'PushButton': 3301, 'DontCha': 1696, 'BabyGoodbye': 1214, 'GoldDigger': 2068, 'WeBeBurnin': 4283, 'perform': 8801, 'cards': 5335, 'rebooting': 9244, 'Nigh': 2980, 'Nooooooo': 3007, 'Cable': 1415, 'outage': 8651, 'Sos': 3738, 'Playin': 3234, 'guoyang': 6982, 'rahul': 9178, 'dengra': 5955, 'STRIKE': 3555, 'RED': 3339, 'BIRD': 1163, 'ANTELOPE': 969, 'TOPLAY': 3901, 'FIELDOF': 1842, 'SELFINDEPENDENCE': 3468, 'BELIEVE': 1155, 'CONTENTION': 1392, 'GROWRANDOM': 2020, 'Gnarls': 2059, 'Barkleys': 1226, 'TOTALLY': 3903, 'borderline': 5119, '545': 701, 'nightnight': 8430, 'possibility': 8958, 'HMM': 2141, 'grooved': 6953, 'affairs': 4552, 'mising': 8190, 'Refused': 3400, 'Secured': 3618, 'Unsecured': 4124, '195': 395, '6669': 741, 'lanre': 7697, 'fakeyes': 6464, 'Eckankar': 1763, 'ph': 8823, '3000': 546, '09061743386': 223, 'heater': 7076, 'degrees': 5938, 'dodgey': 6098, 'Expecting': 1824, 'Call2OptOut674': 1418, 'We‘re': 4302, 'seing': 9626, 'faceasssssholeeee': 6447, 'CERI': 1362, 'REBEL': 3335, 'DREAMZ': 1608, 'LITTLE': 2567, 'BUDDY': 1204, 'YA': 4382, 'NEEDS': 2909, 'BLOKES': 1168, 'ringtoneking': 9431, '84484': 852, 'Nationwide': 2955, 'Newport': 2970, 'Whatever': 4303, 'juliana': 7549, 'Sort': 3737, 'nachos': 8340, 'eta': 6358, 'Dizzamn': 1681, 'suitemates': 10201, 'Nimbomsons': 2984, 'Obviously': 3054, 'continent': 5690, 'housewives': 7204, '08717507711': 146, 'BTnational': 1201, 'landlines': 7691, '£400': 11393, '087104711148': 101, 'emerging': 6292, 'fiendmake': 6537, 'muchimpede': 8302, 'hesitant': 7110, 'ow': 8676, 'deyi': 5998, '60400thousadi': 727, 'FINE': 1849, 'BABES': 1126, 'AINT': 956, 'THO': 3882, 'SAW': 3457, 'SCARY': 3459, 'MOVIE': 2750, 'YEST': 4394, 'QUITE': 3305, 'FUNNY': 1889, 'AFTERNOON': 946, 'MALL': 2696, 'SUMTHINxx': 3566, 'nose': 8473, 'essay': 6355, 'Cannot': 1436, 'tram': 10609, 'vic': 10855, 'Discussed': 1676, 'coherently': 5576, 'Triple': 4035, 'Echo': 1762, 'Pie': 3222, 'GRAN': 2017, 'ONLYFOUND': 3043, 'AFEW': 945, 'DAYS': 1572, 'AGOCUSOON': 952, 'HONI': 2148, 'Dial': 1660, 'Bx526': 1335, 'University': 4119, 'southern': 9959, 'california': 5273, 'rayan': 9205, 'macleran': 7974, 'Balls': 1220, 'evenings': 6371, 'olave': 8578, 'mandara': 8015, 'trishul': 10641, 'Woo': 4340, 'hoo': 7171, 'italian': 7448, 'panties': 8713, 'Thout': 3988, 'CHOSEN': 1375, 'AWARD': 990, '09066364311': 261, 'flatter': 6602, 'pints': 8863, 'carlin': 5350, 'literally': 7837, 'Ciao': 1482, 'X49Your': 4363, 'starve': 10059, 'impression': 7326, 'Motivate': 2879, 'Behind': 1244, 'darkness': 5862, 'timeyou': 10493, 'wknd': 11124, 'nan': 8353, 'yalrigu': 11282, 'heltiniIyo': 7095, 'kothi': 7658, 'meso': 8131, 'uttered': 10808, 'trusting': 10653, 'meok': 8124, 'chikkuB': 5475, 'Noice': 2998, 'esaplanade': 6347, 'accessible': 4486, '08709501522': 99, '139': 346, 'LA3': 2543, '2WU': 505, '£150week': 11379, 'occurs': 8537, 'Prof': 3287, 'sem': 9636, 'congrats': 5668, 'Student': 3794, 'Enna': 1787, 'kalaachutaarama': 7567, 'coco': 5573, 'Fyi': 1964, 'sporadically': 10011, 'bc': 4951, 'Dating': 1628, '09064017305': 241, 'PoBox75LDNS7': 3248, 'TBSPERSOLVO': 3846, 'for£38': 6683, 'Kath': 2491, 'Manchester': 2786, 'you\\x92re': 11337, 'jess': 7506, 'burden': 5228, 'Loans': 2645, 'Credit': 1539, 'NoWorriesLoanscom': 2991, '08717111821': 142, 'actual': 4516, 'harder': 7038, 'NBME': 2907, 'sickness': 9765, 'Kick': 2505, 'goals': 6869, 'VILLA': 4152, 'sathya': 9542, 'Gam': 2028, 'smash': 9859, 'religiously': 9312, 'feb': 6512, 'Soup': 3741, 'Chart': 1462, 'Heroes': 2219, 'Ringtones': 3426, 'tips': 10500, 'Lemme': 2620, '07973788240': 47, '08715203649': 133, 'dealing': 5899, 'Muhommad': 2889, 'Penny': 3198, 'doc': 6091, 'hubby': 7232, 'fiting': 6589, 'load': 7849, 'hwkeep': 7270, 'mj': 8208, 'unconvinced': 10722, 'elaborate': 6272, 'willpower': 11083, 'Real': 3387, 'value': 10826, 'absence': 4471, 'answerin': 4691, 'reasonable': 9239, '»10': 11414, 'evey': 6386, 'mnth': 8212, 'prin': 9043, '…Thanks': 11424, 'GSOH': 2021, 'SPAM': 3526, 'ladiesU': 7676, 'male': 8007, 'gigolo': 6841, 'uks': 10707, 'mens': 8117, 'ONCALL': 3041, 'mjzgroup': 8209, '087143423992stop': 124, 'msg£150rcvd': 8292, 'ashwini': 4797, '08707500020': 92, 'tomorrowtoday': 10551, 'UKP2000': 4075, '09061790125': 230, 'Seem': 3620, 'jokethet': 7532, 'skinny': 9816, 'lineyou': 7815, 'casting': 5370, 'hockey': 7146, 'elections': 6278, 'shouldn‘t': 9739, '116': 322, 'hlday': 7141, 'horrible': 7189, 'camp': 5306, 'Amrca': 1064, 'Serena': 3632, 'Doc': 1685, 'prescribed': 9018, 'meds': 8090, 'kappa': 7579, 'meatballs': 8086, 'approve': 4742, 'panalambut': 8709, 'SPJanuary': 3532, 'fortune': 6677, 'allday': 4619, 'piss': 8865, 'boys': 5146, 'perf': 8799, 'outsider': 8664, 'receipts—well': 9251, 'What‘s': 4306, 'carry': 5356, '98321561': 921, 'familiar': 6473, 'Expression': 1828, 'depression': 5968, 'Loved': 2663, 'Ni8': 2973, 'Infact': 2370, 'Simpsons': 3684, 'Movie': 2882, 'band': 4910, 'AGreen': 953, 'BBlue': 1144, 'CRed': 1404, 'cramps': 5761, 'can\\x92t': 5323, 'cornwall': 5718, 'isn\\x92t': 7441, 'it\\x92s': 7463, 'shite': 9714, 'i\\x92m': 7470, 'kip': 7625, 'hont': 7170, 'Amanda': 1059, 'regard': 9293, 'renewing': 9333, 'upgrading': 10765, '3680': 571, 'subject': 10167, 'Ts': 4044, 'nannys': 8356, 'fighting': 6541, 'puts': 9142, 'perspective': 8818, 'sonot': 9929, 'conveying': 5701, 'Ese': 1792, 'karaoke': 7580, 'debating': 5912, 'Feeling': 1902, 'httpwwwwtlpcouktext': 7230, 'guessing': 6976, 'jb': 7497, 'youso': 11331, 'university': 10747, 'florida': 6619, 'teeth': 10348, 'hidden': 7117, 'royal': 9474, 'tog': 10531, 'teams': 10339, 'swhrt': 10265, 'deyhope': 5997, '2daylove': 510, 'misstake': 8199, '0906346330': 235, 'Spanish': 3745, '47': 641, 'PO19': 3137, '2EZ': 482, 'general': 6813, 'ifwhenhow': 7299, 'Moment': 2862, 'dayhas': 5884, 'valueMorning': 10827, 'hopeafternoon': 7179, 'faithEvening': 6461, 'luvNight': 7953, 'restWish': 9388, 'todayGood': 10526, 'jetton': 7509, 'friendofafriend': 6718, 'cmon': 5562, 'fantasy': 6484, 'sticky': 10091, 'replies': 9348, 'Wylie': 4358, 'dealer': 5897, 'lunsford': 7950, 'enjoying': 6316, 'ORANGE': 3046, '0796XXXXXX': 46, 'DAY2': 1571, 'THERES': 3876, 'PRIZEAWAITING': 3167, 'kfc': 7601, 'meals': 8078, 'gravy': 6934, 'dahe': 5841, 'daalways': 5834, 'thisdon': 10441, 'messagepandy': 8138, '07008009200': 21, 'attended': 4831, 'mw': 8330, 'tuth': 10676, 'mines': 8171, 'Stupid': 3797, 'eviction': 6387, 'Spiral': 3751, 'Michael': 2822, 'riddance': 9419, 'suffers': 10193, 'violence': 10875, 'raglan': 9177, 'edward': 6249, 'cricket': 5780, 'closeby': 5547, 'daplease': 5857, 'skye': 9822, 'bookedthe': 5112, 'hut': 7265, 'drastic': 6149, 'FREEMSG': 1868, 'records': 9270, 'indicate': 7348, '3750': 574, 'Accident': 1002, 'garments': 6793, 'Sez': 3640, 'arab': 4753, 'evry1': 6392, 'eshxxxxxxxxxxx': 6351, 'LAY': 2550, 'bimbo': 5043, 'ugos': 10703, 'Safe': 3584, 'Show': 3672, 'Euro': 1797, '241': 450, 'Flag': 1919, '3Lions': 581, 'portege': 8949, 'm100': 7964, 'semiobscure': 9639, 'PASS': 3111, 'polyphonic': 8928, 'gprs': 6916, 'repeat': 9341, 'Loosu': 2658, 'De': 1632, 'careless': 5343, 'freaking': 6697, 'MySpace': 2900, 'logged': 7862, 'PARTNERS': 3109, 'method': 8145, 'calculation': 5271, 'blur': 5095, 'clothes': 5554, 'jewelry': 7510, 'Block': 1270, 'Breaker': 1308, 'deluxe': 5951, 'features': 6511, 'graphics': 6930, '£5': 11396, 'BBDELUXE': 1141, 'lush': 7951, 'fumbling': 6754, 'day2find': 5882, 'taunton': 10322, 'weekdays': 11007, 'Haiz': 2177, 'Cut': 1556, 'nails': 8344, 'nobodys': 8451, 'common': 5617, 'asia': 4798, 'greatest': 6940, 'courage': 5748, 'bear': 4961, 'defeat': 5932, 'heartgn': 7072, 'tc': 10330, 'STIL': 3547, 'FUCKED': 1884, 'NITE': 2923, 'WENT': 4210, 'TOBED': 3887, '430': 623, 'Beauty': 1235, 'pimples': 8859, 'Natalja': 2953, '25F': 460, 'YES440': 4391, 'NO440': 2929, 'wwwSMSacunat27081980': 11222, 'asthma': 4814, 'attack': 4827, 'Ball': 1219, 'moving': 8276, 'spin': 9994, 'Haiyoh': 2176, 'million': 8159, 'auntys': 4848, '02': 7, 'prsn': 9114, 'somtimes': 9925, 'saves': 9551, 'nothin': 8479, 'Science': 3610, 'sunlight': 10213, 'BCozI': 1149, 'loss': 7895, 'audiitions': 4841, 'relocate': 9313, 'pocked': 8912, 'motivating': 8263, 'sharing': 9694, 'brison': 5184, 'spelled': 9986, 'caps': 5328, 'bullshit': 5223, 'GWR': 2025, 'motherfucker': 8262, 'Kit': 2513, 'Strip': 3791, '1013': 302, 'IG11': 2299, 'OJA': 3036, '08712402578': 111, 'thesmszonecom': 10425, 'anonymous': 4684, 'masked': 8040, 'messagesim': 8141, 'theredo': 10418, 'abuse': 4476, 'Woodland': 4341, 'avenue': 4863, 'parish': 8733, 'magazine': 7985, 'TA': 3835, 'billy': 5041, 'jogging': 7521, 'Awww': 1116, 'useless': 10796, 'loo': 7879, 'helloed': 7088, 'shelf': 9701, 'swollen': 10271, 'glands': 6856, 'previous': 9035, 'Captain': 1438, 'bcaz': 4952, 'STU': 3556, '2IM': 488, 'TRUBLE': 3908, 'MOMENT': 2741, 'EVONE': 1745, 'HATES': 2116, 'EVEN': 1739, 'HELL': 2126, 'AV': 985, 'WONT': 4232, 'BCK': 1145, 'DAN': 1565, 'mokka': 8230, 'view': 10865, 'gays': 6803, 'dual': 6192, 'hostile': 7195, 'haircut': 7002, 'breezy': 5169, '09061744553': 227, 'polyH': 8925, '1AppleDayNo': 397, 'Doctor': 1686, '1Tulsi': 406, 'LeafDayNo': 2615, 'Cancer': 1435, '1LemonDayNo': 404, 'Fat': 1898, '1Cup': 398, 'MilkdayNo': 2828, 'Bone': 1281, 'Problms': 3286, 'Litres': 2636, 'WatrDayNo': 4280, 'Diseases': 1677, 'Snd': 3719, 'Care': 1440, 'ALSO': 962, 'lavender': 7725, 'manky': 8019, 'scouse': 9579, 'stevelike': 10087, 'travelling': 10625, 'homewot': 7164, 'inmind': 7369, 'recreation': 9273, 'epsilon': 6336, 'mesages': 8129, 'judgementali': 7546, 'fridays': 6714, 'Hidid': 2227, 'waheeda': 10919, 'bot': 5127, 'notes': 8478, 'Rent': 3412, 'deary': 5910, 'Fun': 1959, 'although': 4639, 'eventually': 6374, 'tolerance': 10541, 'fucked': 6744, 'hits': 7137, '0789xxxxxxx': 44, 'HELLOGORGEOUS': 2128, 'CHARGE': 1365, 'LST': 2592, 'NITW': 2925, 'TEXD': 3859, 'HOPEU': 2150, 'AD': 940, 'WKEND': 4227, 'LOOKIN': 2578, '4WARD': 658, 'CIN': 1376, 'JAZ': 2410, '09058091870': 197, 'POBox84': 3146, 'Exorcism': 1822, 'Emily': 1778, 'gooD': 6891, 'Evry': 1815, 'Emotion': 1779, 'dsnt': 6190, 'WordsEvry': 4344, 'Prayrs': 3271, 'SmileD': 3714, 'uOthrwise': 10699, 'Stay': 3777, 'uSo': 10700, 'Ujhhhhhhh': 4105, 'sandiago': 9528, 'parantella': 8726, 'Wtf': 4355, 'Poop': 3258, 'hugging': 7237, 'sweater': 10259, 'mango': 8017, 'massive': 8043, 'involved': 7416, 'del': 5941, '£600': 11406, 'Complete': 1509, 'landmark': 7692, 'Big': 1254, 'Bob': 1277, 'Barry': 1227, 'Ben': 1246, '83738': 845, 'fineabsolutly': 6567, 'consent': 5675, 'forms': 6674, 'TONEXS': 3896, 'renewed': 9332, 'wwwclubzedcouk': 11228, 'BILLING': 1162, 'wwwtcbiz': 11249, 'Polo': 3253, 'Suite': 3810, '373': 573, 'W1J': 4190, '6HL': 758, 'can‘t': 5324, 'Mathews': 2800, 'tait': 10294, 'edwards': 6250, 'anderson': 4664, 'haunt': 7047, 'promoting': 9095, 'Joke': 2448, 'crowd': 5788, 'cardiff': 5333, '8000930705': 805, 'snowboarding': 9891, 'goa': 6867, 'Sim': 3681, 'christmassy': 5510, 'RECPT': 3338, '13': 341, 'Baaaaaaaabe': 1209, 'ignoring': 7302, 'Shola': 3665, 'academic': 4480, 'Sagamu': 3585, 'lautech': 7724, 'vital': 10886, 'completes': 5633, 'education': 6246, 'Nigeria': 2979, 'zealand': 11349, 'qet': 9150, 'FRIENDS': 1876, 'CLoSE': 1381, 'UNDERSTaND': 4079, 'TRUE': 3909, 'STaY': 3561, 'dial': 6003, 'browser': 5200, 'surf': 10239, 'subscribers': 10175, 'GB': 1972, 'wellyou': 11026, 'lifeyou': 7792, 'CONVINCED': 1394, 'thati': 10401, 'conversations': 5697, 'usGET': 10788, 'timeYour': 10488, 'sensesrespect': 9646, 'overemphasiseor': 8670, 'Headset': 2198, 'ADP': 943, 'internal': 7397, 'extract': 6437, 'godYou': 6873, 'immed': 7313, 'skint': 9818, 'fancied': 6478, 'bevieswaz': 5022, 'othrs': 8646, 'spoon': 10010, 'watchng': 10971, 'planet': 8878, 'earthsofa': 6227, 'comfey': 5607, 'quitting': 9165, 'least5times': 7740, 'wudnt': 11205, 'coast': 5566, 'Üll': 11416, 'MMM': 2735, 'Ima': 2353, 'frequently': 6709, 'messageit': 8136, 'cupboard': 5809, 'route': 9471, '2mro': 523, 'yellow': 11293, 'floppy': 6618, 'snappy': 9884, 'risk': 9436, 'grasp': 6931, 'flavour': 6603, 'laready': 7702, 'denying': 5961, 'Dom': 1692, 'TAMPA': 3843, 'FFFFUUUUUUU': 1841, 'annie': 4677, 'julianaland': 7550, 'oblivious': 8531, 'upsetits': 10774, 'dehydrated': 5939, 'mapquest': 8023, 'dogwood': 6108, 'tiny': 10498, 'parking': 8738, 'suppose': 10233, 'archive': 4754, 'UKmobiledate': 4076, '08719839835': 175, 'Future': 1961, 'mgs': 8147, '89123': 893, 'lengths': 7759, 'behalf': 4993, 'stunning': 10160, 'visa': 10880, 'gucci': 6970, 'shits': 9716, 'CALLIN': 1343, 'BABESOZI': 1127, 'CULDNT': 1407, 'TALKBUT': 3839, 'WANNATELL': 4198, 'DETAILS': 1582, 'LATER': 2549, 'WENWECAN': 4211, 'PROPERLY': 3170, 'smsing': 9879, 'efficient': 6256, 'explicit': 6428, '30': 544, 'secs': 9608, 'Ring': 3423, '02073162414': 12, 'Costs': 1526, '20pmin': 437, '515pm': 692, 'Erutupalam': 1791, 'thandiyachu': 10389, 'invention': 7406, 'flyim': 6628, 'Noits': 2999, 'lyrics': 7963, 'reckon': 9264, 'nevr': 8412, 'unrecognized': 10753, 'somone': 9924, 'valuing': 10829, 'definitly': 5936, 'undrstnd': 10730, 'ger': 6823, 'toking': 10537, 'syd': 10274, 'lehHaha': 7755, 'khelate': 7604, 'kintu': 7623, 'opponenter': 8610, 'dhorte': 6001, 'lage': 7679, 'fried': 6716, 'spares': 9967, 'looovvve': 7885, 'warwick': 10957, 'tmw': 10518, 'canceled': 5312, 'havnt': 7054, 'sometime': 9917, 'tops': 10579, 'grandma': 6927, 'parade': 8722, 'iPOD': 7274, 'proze': 9113, 'Norcorp': 3010, 'Ltd£150Mtmsgrcvd18': 2673, 'posting': 8967, 'chennaibecause': 5456, '7cfca1a': 797, 'grumble': 6964, 'linear': 7811, 'algebra': 4610, 'decorating': 5923, 'wining': 11093, '946': 917, 'roomate': 9461, 'graduated': 6922, 'adjustable': 4529, 'cooperative': 5711, 'allows': 4623, 'Nottingham': 3016, '63miles': 737, '40mph': 614, 'clearly': 5538, 'Thanku': 3959, '2MORRO': 492, 'guessed': 6974, 'hubbys': 7233, '89938': 897, 'strings': 10134, '£150ea': 11373, 'OTBox': 3048, '731': 780, 'LA1': 2542, '7WS': 794, 'Understand': 4115, 'gain': 6774, 'School': 3608, 'MISSED': 2727, 'HAVENT': 2121, 'BORED': 1175, 'SAD': 3447, 'ISNT': 2331, 'ITxx': 2338, 'beside': 5013, 'brisk': 5183, 'walks': 10933, 'sexiest': 9673, 'dirtiest': 6054, '89070': 890, 'steve': 10086, 'TELLMISS': 3856, 'Normally': 3012, 'Dare': 1621, 'Partys': 3190, 'contribute': 5694, 'greatly': 6941, 'Urgh': 4136, 'coach': 5565, 'smells': 9863, 'duvet': 6212, 'predictive': 9008, 'Ready': 3386, 'chatIm': 5436, 'w8in': 10912, '4uTxt': 679, 'url': 10784, 'Deliver': 1645, '24th': 456, 'sept': 9654, 'cha': 5402, 'lil': 7804, 'beverage': 5021, 'vpist': 10905, 'surrender': 10245, 'SYMPTOMS': 3579, '1U': 407, '3U': 587, 'Gettin': 2048, 'rdy': 9212, 'PISS': 3129, 'TALKING': 3842, 'REALISE': 3330, 'POINT': 3148, 'ITNOW': 2334, 'READ': 3327, 'BACKWARDS': 1131, 'police': 8922, 'abstract': 4473, 'vikkyim': 10869, 'hiya': 7140, 'africa': 4559, 'avin': 4864, 'CHITCHAT': 1374, 'Logon': 2647, '8883': 885, 'CM': 1382, '4217': 620, 'W1A': 4189, '6ZF': 762, '118pmsg': 324, 'CHA': 1363, 'QUITEAMUZING': 3306, 'THAT\\x92SCOOL': 3872, 'BABEPROBPOP': 1125, 'CU': 1406, 'SATTHEN': 3455, '4BREKKIE': 647, 'PSXTRA': 3173, 'LRG': 2588, 'PORTIONS': 3157, '£1000CALL': 11366, '09071512432': 272, '300603tcsBCM4235WC1N3XXcallcost150ppmmobilesvary': 548, 'Abt': 1000, 'rows': 9473, 'Mnths': 2848, 'engagement': 6309, 'fixd': 6592, 'bthmm': 5208, 'njan': 8447, 'vilikkamt': 10870, 'sudn': 10189, 'maths': 8052, 'chapter': 5419, 'chop': 5503, 'Noooooooo': 3008, '09065171142stopsms08718727870150ppm': 248, 'firsg': 6583, 'split': 10000, 'Full': 1958, 'heat': 7075, 'applyed': 4733, 'airtel': 4596, 'virgin': 10877, 'sumfing': 10205, '86888': 866, 'Subscribe6GBPmnth': 3803, '3hrs': 595, 'stoptxtStop': 10110, 'hopeSo': 7178, 'hunny': 7251, 'amnow': 4650, 'feelin': 6518, 'ithink': 7453, 'tonsolitusaswell': 10563, 'iam': 7277, 'layin': 7728, 'bedreal': 4975, 'lotsof': 7902, 'PUTTIN': 3176, 'hiphop': 7131, 'managed': 8012, 'oxygen': 8684, 'resort': 9376, 'roller': 9456, 'recorder': 9269, 'canname': 5317, 'capital': 5326, 'Australia': 1109, 'MQUIZ': 2753, 'SHOWR': 3486, 'Received': 3391, 'acted': 4508, 'upon': 10770, 'ceiling': 5389, 'presnts': 9024, 'bcz': 4957, 'mis': 8186, 'jeevithathile': 7502, 'irulinae': 7431, 'neekunna': 8394, 'prakasamanu': 8996, 'sneham': 9886, 'prakasam': 8995, 'ennal': 6318, 'prabha': 8987, 'mns': 8211, 'isLOVE': 7433, 'blowing': 5091, '7634': 784, '7684': 785, 'Everybody': 1807, 'firmware': 6582, 'vijaykanth': 10867, 'comedy': 5602, 'captain': 5329, 'tvhe': 10678, 'hide': 7118, 'anythiing': 4705, 'ripped': 9435, 'wwwclubmobycom': 11227, '08717509990': 147, 'polytruePixRingtonesGames': 8930, 'keypad': 7598, 'btwn': 5210, 'decades': 5914, 'BEER': 1153, 'PETROL': 3121, 'goverment': 6913, 'expects': 6418, 'DRINK': 1609, 'DRIVE': 1610, 'REWARD': 3348, 'WAITING': 4195, 'loyal': 7930, 'customers': 5821, '09066380611': 267, 'spice': 9991, 'Prasanth': 3268, 'ettans': 6362, '08718738002': 168, '48922': 645, '211104': 439, 'APPY': 972, 'FIZZ': 1854, 'contains': 5686, 'Ladies': 2600, 'genus': 6821, 'robinson': 9446, 'Nottel': 3015, 'print': 9048, 'outs': 8662, 'REALY': 3334, 'SOZ': 3524, 'IMAT': 2309, 'MUMS': 2765, 'IDIOT': 2296, 'COMPETITION': 1389, 'FREINDS': 1873, 'FOREVER': 1861, 'msgsometext': 8289, '07099833605': 25, 'Ref9280114': 3396, 'Chloe': 1477, '150ptext': 374, 'Wewa': 4301, '130': 342, 'Iriver': 2382, '255': 459, '128': 335, 'bw': 5254, 'Sry': 3765, 'dajst': 5845, 'Eatin': 1761, 'Hmmmbut': 2241, 'Surly': 3824, '07808726822': 40, '08718729758': 164, 'dumb': 6202, 'dokey': 6115, 'i‘ll': 7471, 'Mmmmmmm': 2847, 'snuggles': 9893, 'contented': 5688, 'whispers': 11060, 'error': 6341, 'healthy': 7064, 'Wif': 4316, '2bold': 507, 'givits': 6854, 'kanoanyway': 7576, 'brother‘s': 5195, 'scraped': 9580, 'barrel': 4926, 'misfits': 8189, 'S8': 3445, 'switch': 10270, 'sleepin': 9830, 'sections': 9610, 'clearer': 5536, 'PEACH': 3116, 'CAKE': 1339, 'TASTS': 3845, 'LUSH': 2596, 'GAME': 1969, 'Rayman': 3381, 'Golf': 2069, 'activ8': 4512, 'Termsapply': 3949, 'Therell': 3972, 'minor': 8174, 'shindig': 9706, 'Jason': 2430, 'CameraVideo': 1431, 'minstexts': 8178, 'Career': 1441, 'INDYAROCKSCOM': 2318, 'phonebook': 8833, 'Keng': 2496, 'rocking': 9449, 'ashes': 4795, 'xins': 11265, 'Shijutta': 3659, 'kafter': 7564, 'offense': 8545, 'BBDthts': 1143, 'dvg': 6213, 'coldheard': 5583, 'vinobanagar': 10873, 'conditionand': 5654, 'ovulatewhen': 8674, '3wks': 603, 'woah': 11132, 'realising': 9229, 'Thinking': 3981, 'Orh': 3097, 'beauty': 4967, 'hides': 7119, 'secrets': 9607, 'n8': 8337, 'darlinim': 5866, 'soonxxx': 9933, 'CoolMob': 1520, 'FrogAXEL': 1956, 'AkonLonely': 1039, 'EyedDont': 1830, 'wasted': 10963, 'Cashbincouk': 1448, 'wwwcashbincouk': 11226, 'EVER': 1741, 'canteen': 5322, 'stressfull': 10129, 'Laugh': 2610, 'adds': 4526, 'ni8swt': 8422, 'continued': 5692, 'Name': 2949, 'President': 3276, 'é': 11417, '140': 347, 'ardÉ': 4756, '180': 388, 'leastWhich': 7741, 'bedrm': 4976, 'pleasured': 8897, 'Hitechnical': 2232, 'supportproviding': 10230, 'assistance': 4810, 'BUS': 1205, '1172': 323, 'reLation': 9213, 'built': 5221, 'atlast': 4822, 'lonlines': 7878, 'lotz': 7906, 'memories': 8113, 'LOU': 2584, 'GOODNITE': 2006, 'SHAME': 3478, 'CAME': 1345, 'GAILxx': 1968, 'Hii': 2229, 'complacent': 5625, 'SEEN': 3466, 'BABY': 1128, 'COMMON': 1388, 'ROOM': 3358, 'denis': 5956, 'mina': 8163, 'Sen': 3622, 'miwa': 8207, 'senthil': 9651, 'hsbc': 7216, 'statement': 10063, 'woulda': 11181, 'Indeed': 2362, '09066649731from': 270, 'Holy': 2259, 'mth': 8295, 'opposite': 8615, 'heavily': 7078, 'Saw': 3603, 'Guys': 2107, 'Dolls': 1691, 'Patrick': 3194, 'Swayze': 3826, 'Santa': 3592, '09077818151': 275, 'Calls150ppm': 1425, '30s': 553, 'wwwsantacallingcom': 11246, 'miserable': 8188, 'total': 10589, 'quarter': 9154, 'nervous': 8402, 'fired': 6578, 'limping': 7809, 'aa': 4460, '0784987': 43, '08719180219': 170, '060505': 19, 'oga': 8563, 'poorly': 8939, 'punishment': 9129, 'Brb': 1305, 'kill': 7613, 'Predicte': 3272, 'situations': 9809, 'loosing': 7887, 'smaller': 9855, 'capacity': 5325, 'Videos': 4174, 'smsshsexnetUN': 9880, 'fgkslpoPW': 6534, 'fgkslpo': 6533, '0871277810710pmin': 121, 'Drink': 1708, 'defer': 5933, 'admission': 4533, 'Checkmate': 1468, 'chess': 5461, 'Persian': 3203, 'phrase': 8839, 'Shah': 3643, 'Maat': 2771, 'Po': 3242, 'Rats': 3379, 'themes': 10413, 'pee': 8784, 'burns': 5234, 'BEST': 1156, 'PETE': 3119, '2GEVA': 485, 'LONGER': 2576, 'photoshop': 8838, 'manageable': 8011, '08715203652': 134, '42810': 622, '29100': 476, 'shoppin': 9725, 'toopray': 10570, 'inshah': 7378, 'allah': 4617, 'Ashley': 1094, 'Sthis': 3782, 'increase': 7341, 'winning': 11095, 'Gain': 2026, 'wifedont': 11074, 'iti': 7454, 'tooLets': 10564, 'north': 8470, 'carolina': 5353, 'texas': 10377, 'gre': 6936, 'bomb': 5104, 'breathing': 5167, 'Response': 3417, 'powerful': 8980, 'weapon': 10986, 'nightswt': 8435, 'dreamstake': 6158, 'lovly': 7925, 'MESSAGEThanks': 2715, 'Subscription': 3805, '150pMSGRCVD': 357, 'Skip': 3701, 'CustomerCare': 1555, '08718726270': 155, 'playi': 8889, 'clas': 5525, 'lit': 7836, 'Loooooool': 2657, 'couch': 5735, 'Wasnt': 4272, 'celebration': 5393, 'rents': 9338, 'swashbuckling': 10255, 'Waste': 4273, 'Innocent': 2373, '5Terror': 708, '6Cruel': 757, '7Romantic': 793, '8Lovable': 900, '9decent': 927, 'joker': 7530, 'Dips': 1671, 'Texting': 3956, 'gek1510': 6812, 'Wuld': 4356, 'nuther': 8515, 'lyricalladie21F': 7962, 'YES910': 4393, 'NO910': 2931, 'wwwSMSacuhmmross': 11221, 'happiest': 7032, 'characters': 5421, 'differences': 6028, 'lists': 7835, 'tylers': 10693, 'crisis': 5784, 'Whenwhere': 4310, 'antibiotic': 4697, 'abdomen': 4463, 'gynae': 6990, 'infections': 7351, 'bone': 5105, 'Poor': 3259, 'lmao': 7846, '6times': 771, 'exposed': 6430, 'chastity': 5434, 'device': 5994, 'beatings': 4963, 'uses': 10798, 'Miserable': 2835, 'gut': 6983, 'wrenching': 11188, 'tallahassee': 10307, 'ou': 8648, 'Taka': 3922, 'SUPER': 3568, 'PoBox202': 3246, 'NR31': 2939, '7ZS': 795, '450pw': 638, 'ritten': 9439, 'fold': 6634, 'Warner': 4271, 'Village': 4177, '83118': 836, 'Colin': 1498, 'Farrell': 1897, 'SWAT': 3576, 'PopcornJust': 3260, 'msgticketkioskValid': 8291, '4712': 642, 'kiosk': 7624, 'SONY': 3516, 'mre': 8279, 'solihull': 9903, 'REGRET': 3340, 'INFORM': 2319, 'NHS': 2918, 'MISTAKEU': 2730, 'ACTUALLY': 939, 'BORNPLEASE': 1177, 'REPORT': 3345, 'YOR': 4400, 'LOCAL': 2571, 'HOSPITAL': 2152, '2B': 478, 'TERMINATEDWE': 3857, 'INCONVENIENCE': 2315, 'dentists': 5960, 'Goal': 2062, 'Arsenal': 1091, 'Henry': 2218, 'yards': 11285, 'Bergkamp': 1248, 'margin': 8028, '78': 787, 'parent': 8729, 'Itsnot': 2390, 'childs': 5487, 'parentnot': 8730, 'Ride': 3420, 'unintentional': 10741, 'nonetheless': 8462, 'hooch': 7172, 'toaday': 10522, 'Splat': 3754, 'Grazed': 2087, 'confirmdeny': 5663, 'hearin': 7068, 'yah': 11280, 'torture': 10584, 'england': 6312, 'hopeing': 7183, 'wasn‘t': 10961, 'sisters': 9801, 'SEXYCHAT': 3476, 'lips': 7826, 'Match': 2798, 'startedindia': 10055, 'Kkcongratulation': 2518, 'court': 5750, 'chapel': 5417, 'frontierville': 6737, 'mountain': 8267, 'deer': 5930, 'maili': 7995, 'mailed': 7994, 'varma': 10833, 'membershiptake': 8111, 'careinsha': 5342, 'Wrong': 4354, 'secure': 9611, 'Amy': 1066, 'parties': 8743, 'james': 7482, 'farting': 6487, 'ortxt': 8639, 'Select': 3621, 'trained': 10605, 'advisors': 4549, 'dialling': 6004, '402': 609, 'woot': 11146, 'stuffing': 10156, 'Ahhhhjust': 1029, 'uphad': 10766, 'thoso': 10447, 'viveki': 10889, '96': 919, 'dado': 5838, 'holder': 7150, 'dining': 6044, 'experiencehttpwwwvouch4mecometlpdiningasp': 6421, 'kaila': 7565, '09058094507': 200, 'donate': 6119, 'UNICEFs': 4081, 'Asian': 1095, 'Tsunami': 4049, 'disaster': 6060, 'fund': 6758, 'DONATE': 1595, '864233': 864, 'cme': 5561, 'hos': 7191, '2morow': 519, 'xuhui': 11269, 'collapsed': 5585, 'Stuff': 3796, 'cumming': 5807, 'JADE': 2405, 'PAUL': 3112, 'DIDN\\x92T': 1584, 'REMEMBER': 3341, 'BARMED': 1138, 'TALK': 3838, 'Spending': 3749, 'Slept': 3707, 'thinkThis': 10434, 'dangerous': 5855, 'goldviking': 6885, '29M': 477, 'YES762': 4392, 'NO762': 2930, 'wwwSMSacugoldviking': 11220, 'L8r': 2541, 'rushing': 9498, 'channel': 5416, 'coulda': 5739, 'Phony': 3218, 'Eta': 1795, '1230': 333, 'okday': 8570, 'BUZ': 1207, 'WEDLUNCH': 4205, 'OUTSOMEWHERE': 3052, 'ADRINK': 944, 'TOWNCUD': 3905, '2WATERSHD': 503, 'PPL': 3161, 'FROMWRK': 1882, 'BTHERE': 1199, 'PETEXXX': 3120, 'Esplanade': 1794, 'Hmph': 2247, 'baller': 4907, 'punto': 9130, 'ayo': 4879, 'travelled': 10624, 'Looking': 2654, '£125': 11368, 'Freeentry': 1946, 'xt': 11268, 'wwwldewcom1win150ppmx3age16': 11237, 'toyota': 10599, 'camry': 5308, 'olayiwolas': 8579, 'Mileage': 2826, 'kits': 7630, 'landing': 7688, 'Holla': 2257, 'clover': 5556, 'numberpls': 8509, 'idconvey': 7289, 'achanammaRakheshQatar': 4500, 'rencontre': 9330, 'Mountains': 2881, '08714712412': 129, 'galsU': 6781, 'nìte': 8523, 'puppy': 9131, 'noise': 8453, 'sarasota': 9534, '150pmeg': 366, 'HGSuite3422lands': 2134, 'RowW1j6HL': 3438, '08715203685': 137, 'Code4xx26': 1495, '131004': 343, 'crossing': 5787, 'deepest': 5929, 'darkest': 5861, 'fantasies': 6482, '09094646631': 279, 'nat': 8361, 'inconvenient': 7340, 'vldo': 10891, 'adsense': 4540, 'approved': 4743, 'dudette': 6198, 'perumbavoor': 8819, 'stage': 10036, 'cherish': 5459, 'clarify': 5524, 'preponed': 9017, 'Natalie': 2952, '20F': 434, 'YES165': 4389, 'NO165': 2927, 'wwwSMSacunatalie2k9': 11223, 'younger': 11328, 'Jamster': 2424, 'wallpaper': 10936, '08701213186': 76, 'liver': 7841, 'stylish': 10165, 'Hmmmstill': 2245, 'opener': 8602, 'guides': 6979, 'watched': 10967, 'loneliness': 7874, 'skyving': 9825, 'Pilates': 3224, 'dads': 5839, 'Afternoon': 1021, 'onwords': 8599, 'mtnl': 8297, 'mumbai': 8310, '83039': 833, '62735£450': 735, 'AccommodationVouchers': 1003, 'mustprovide': 8326, '15541': 380, 'Rajitha': 3372, 'Ranju': 3377, '5p': 718, 'styles': 10163, 'Starting': 3774, 'TsCs08714740323': 4046, '1Winawk': 410, '£150perweeksub': 11376, 'dearslp': 5908, 'welltake': 11025, 'careswt': 5346, 'dreamsMuah': 6157, '09066361921': 257, 'disagreeable': 6057, 'Guy': 2106, 'afterwards': 4564, 'battle': 4946, 'VIVEKANAND': 4156, 'SD': 3461, 'UAWAKEFEELLIKW': 4071, 'SHITJUSTFOUND': 3483, 'VIA': 4150, 'ALETTER': 959, 'THATMUM': 3870, 'GOTMARRIED': 2013, '4thNOVBEHIND': 674, 'OURBACKS': 3050, 'FUCKINNICESELFISHDEVIOUSBITCHANYWAYI\\x92L': 1887, 'rearrange': 9237, 'Dormitory': 1698, 'Dirty': 1673, 'Astronomer': 1099, 'Moon': 2869, 'starer': 10048, 'Election': 1773, 'Lies': 2625, 'recount': 9271, 'Motherinlaw': 2878, 'Woman': 4337, 'Hitler': 2233, 'Eleven': 1774, 'Twelve': 4057, 'worms': 11168, 'suffering': 10192, 'dysentry': 6216, 'andre': 4666, 'virgils': 10876, 'lorgoin': 7890, 'Gokila': 2067, 'ShanilRakhesh': 3649, 'herethanksi': 7102, 'exchanged': 6401, 'uncut': 10724, 'diamond': 6006, 'stuffleaving': 10157, 'Dino': 1669, 'Prem': 3273, 'Kkthis': 2524, 'kotees': 7657, 'TheMobHit': 3968, 'Pink': 3226, 'Panther': 3185, 'Sugababes': 3807, 'Zebra': 4456, 'badass': 4897, 'Hoody': 2265, 'wallpaperall': 10937, 'resent': 9365, 'Queries': 3312, 'customersqueriesnetvisionukcom': 5822, 'hassling': 7043, 'andres': 4667, 'HAUGHAIGHGTUJHYGUJ': 2117, 'Ding': 1668, 'fassyole': 6488, 'Blacko': 1266, 'londn': 7872, 'KISS': 2476, '4EVA': 649, 'responsibilities': 9383, '08715205273': 139, 'VCo': 4149, 'humanities': 7242, 'Fills': 1909, 'calm': 5300, 'reassurance': 9241, 'Aslamalaikkuminsha': 1098, 'tohar': 10533, 'beeen': 4979, 'muht': 8305, 'albi': 4601, 'mufti': 8304, 'mahfuuzmeaning': 7992, '078': 36, 'ENUFCREDEIT': 1733, 'TOCALLSHALL': 3888, 'ILEAVE': 2305, 'UNI': 4080, 'Chikku': 1472, 'treats': 10632, 'Okors': 3070, 'ibored': 7279, 'adding': 4523, 'zeros': 11351, 'savings': 9552, 'goigng': 6879, 'perfume': 8804, 'Sday': 3614, 'joinedso': 7527, 'grocers': 6952, 'pubs': 9121, 'Frankie': 1938, 'Bennys': 1247, 'warner': 10954, 'changing': 5415, 'diapers': 6008, 'owed': 8678, 'Unlike': 4121, 'patients': 8764, 'turkeys': 10671, 'helens': 7084, 'princes': 9046, 'dawhere': 5879, 'unintentionally': 10742, 'garden': 6791, 'bulbs': 5222, 'seeds': 9614, '£3350': 11389, 'Scotsman': 3613, 'go2': 6865, 'notxtcouk': 8486, 'wenever': 11029, 'familymay': 6475, 'stability': 10031, 'tranquility': 10610, 'vibrant': 10852, 'colourful': 5595, 'bawling': 4947, 'failure': 6458, 'failing': 6457, 'YEARS': 4386, 'BOYFRIEND': 1189, 'SI': 3488, 'Velusamy': 4168, 'sirs': 9798, 'facilities': 6449, 'karnan': 7581, 'bluray': 5096, 'I‘ve': 2402, 'salt': 9522, 'wounds': 11183, 'Water': 4278, 'logging': 7863, 'Geoenvironmental': 2044, 'implications': 7318, 'gently': 6819, 'Sms': 3718, 'Fuuuuck': 1962, 'salmon': 9520, 'uploaded': 10768, 'WRKIN': 4247, 'ree': 9279, 'compensation': 5623, 'awkward': 4876, 'i‘m': 7472, 'splash': 9998, 'leg': 7750, 'Musta': 2897, 'overdid': 8669, 'wwwtelediscountcouk': 11250, 'STUDENT': 3557, 'DISCOUNT': 1588, 'BOOKS': 1174, '2StopTxt': 500, 'Hiwhat': 2234, 'gastroenteritis': 6795, 'replace': 9344, 'reduce': 9278, 'limiting': 7807, 'illness': 7306, 'Jane': 2427, 'wrk': 11191, 'lst': 7932, 'Foned': 1926, 'chuck': 5511, 'nightsWe': 8434, 'port': 8947, 'step': 10081, 'liaoToo': 7778, 'stuffs': 10158, 'JUSWOKE': 2420, 'BOATIN': 1171, 'DOCKS': 1590, 'SLEPT': 3503, 'WID': 4217, 'OLD': 3040, 'SPINOUT': 3531, 'GIV': 1987, 'GOSSIP': 2010, 'remet': 9321, 'nichols': 8424, '08715203656': 135, '42049': 619, '261004': 463, 'realise': 9227, 'Started': 3773, 'uworld': 10814, 'qbank': 9149, 'assessment': 4808, 'Someonone': 3727, '09064015307': 239, 'BOX334SK38ch': 1182, 'tke': 10511, 'tease': 10342, 'temales': 10361, 'vidnot': 10864, 'finishd': 6571, '09061213237': 215, '177': 386, 'M227XY': 2685, 'dull': 6201, 'studies': 10148, 'anyones': 4703, 'treadmill': 10627, 'Craigslist': 1536, 'absolutely': 4472, 'South': 3742, 'Park': 3188, 'drmstake': 6174, 'SOMETHIN': 3514, 'CALLED': 1342, 'SWAN': 3574, 'PARENTS': 3105, 'ER': 1734, 'INDIANS': 2317, 'MOyeP': 2751, 'SaLL': 3580, 'gOoD': 6772, 'HehE': 2205, 'shexy': 9705, 'Xx': 4378, 'teethif': 10349, 'asapok': 4793, 'HelloHow': 2210, 'doingWhat': 6111, '2When': 506, 'lamp': 7686, 'latebut': 7710, 'kwish': 7663, 'foward': 6687, '09061790126': 231, 'Vikky': 4176, 'misundrstud': 8204, '2u2': 537, 'genes': 6815, 'wwwLdewcom1win150ppmx3age16subscription': 11217, 'resuming': 9400, 'minimum': 8173, 'reapply': 9236, 'london': 7873, 'treatin': 10631, 'treacle': 10626, 'mumHas': 8309, 'beendropping': 4981, 'theplace': 10416, 'adress': 4538, 'Jolly': 2452, 'moneyi': 8242, 'favorite': 6505, 'oyster': 8685, 'sashimi': 9538, 'rumbling': 9489, 'Kothi': 2532, 'marandratha': 8026, 'topic': 10575, 'correctly': 5724, 'bless': 5072, 'SirSalam': 3692, 'AlaikkumPride': 1041, 'Tea': 3931, 'ShopWe': 3667, 'QatarRakhesh': 3308, 'IndianPls': 2366, 'NumberRespectful': 3022, 'Regards': 3401, 'Gal': 2027, 'galcan': 6777, 'boyy': 5148, 'galno': 6779, 'heaven': 7077, 'princeGN': 9045, 'pisces': 8864, 'aquarius': 4751, '2yrs': 542, 'steyn': 10088, 'wicket': 11069, 'Neither': 2960, 'sterm': 10085, 'resolved': 9375, 'Garbage': 2033, 'eggs': 6262, 'jam': 7481, 'hannaford': 7024, 'wheat': 11048, 'chex': 5463, 'pride': 9041, 'grownup': 6962, 'stuffwhy': 10159, 'costume': 5732, 'Jerk': 2439, 'stink': 10095, 'TEXTCOMP': 3862, 'follows': 6640, 'subsequent': 10179, 'charged150pmsg2': 5424, '84128custcare': 850, 'openings': 8605, 'upcharge': 10762, '8hr': 904, 'Guai': 2094, 'bottle': 5130, 'amused': 4659, 'select': 9627, 'astrology': 4817, 'ryans': 9500, 'program': 9084, 'slacking': 9826, 'officestill': 8552, 'filling': 6551, 'formsdon': 6675, 'mentor': 8122, 'percent': 8797, '09095350301': 281, 'erotic': 6340, 'ecstacy': 6240, 'dept': 5969, '13404': 345, '08717507382': 145, 'datingi': 5874, 'coincidence': 5579, 'sane': 9529, 'helping': 7093, 'leading': 7734, '151': 377, 'pause': 8768, 'gr8prizes': 6919, '8800': 876, 'PSP': 3172, 'wkTXT': 11120, 'httpwwwgr8prizescom': 7228, 'spacebucks': 9962, 'weathers': 10992, '02070836089': 10, 'squeezed': 10024, 'tooPray': 10565, 'meRemove': 8076, 'maintaining': 7998, '5I\\x92m': 705, 'dreading': 6153, 'thou': 10449, 'suggestion': 10198, 'Lands': 2603, 'helps': 7094, 'forgt': 6668, 'Soon': 3734, 'FIGHTS': 1845, 'ajith': 4597, 'Ooooooh': 3084, 'yoville': 11339, 'mega': 8098, 'asda': 4794, 'counts': 5745, 'officer': 8551, 'respectful': 9378, 'bffs': 5025, 'carly': 5352, 'HARD': 2112, 'express': 6432, 'someonethat': 9911, 'seperated鈥┾〨ud': 9653, 'Babes': 1212, 'brolly': 5189, 'English': 1785, 'Franxx': 1939, 'welli': 11024, 'prometazine': 9090, 'syrup': 10278, '5mls': 717, 'feed': 6516, 'shu': 9755, 'singapore': 9790, 'victoria': 10856, 'island': 7438, 'traffic': 10603, 'whens': 11052, 'pocay': 8911, 'wocay': 11133, '4eva': 661, '2morrowxxxx': 522, 'East': 1757, 'broth': 5191, 'ramen': 9190, 'fowler': 6688, 'ksry': 7659, 'sivatats': 9810, 'flew': 6606, 'Calling': 1423, '09058094583': 202, '1526': 378, 'pubcafe': 9118, 'attention': 4833, 'tix': 10509, 'Mode': 2858, 'biolas': 5045, 'fne': 6632, 'youdoing': 11320, 'Sar': 3594, 'worc': 11149, 'foregate': 6656, 'shrub': 9754, 'get4an18th': 6825, '32000': 560, 'legitimat': 7752, 'efreefone': 6257, 'shopthe': 9727, 'receipts': 9250, 'pendent': 8790, 'toilet': 10534, 'stolen': 10099, 'cops': 5715, 'HU': 2162, 'navigate': 8371, 'choosing': 5502, 'require': 9358, 'guidance': 6977, 'Except': 1820, 'chick': 5469, 'boobs': 5109, 'revealing': 9410, 'sparkling': 9969, 'breaks': 5163, '45': 634, '0121': 3, '2025050': 433, 'wwwshortbreaksorguk': 11247, 'Gyno': 2108, 'belong': 5003, 'wwwgambtv': 11234, 'treasure': 10628, 'wmlid820554ad0a1705572711firsttrue¡C': 11129, 'Ringtone¡': 3427, '09050000332': 181, 'slide': 9838, 'mummys': 8312, 'positive': 8954, 'negative': 8395, 'Hmmmm': 2244, 'Dhoni': 1659, 'titleso': 10507, 'command': 5613, 'stressful': 10128, 'Holby': 2253, '09064017295': 240, 'li': 7775, 'lecturer': 7747, 'repeating': 9342, 'yeovil': 11294, 'motor': 8265, 'max': 8060, 'rhode': 9415, 'bong': 5106, 'Ofcourse': 3056, '2p': 532, '08448350055': 67, 'PlanetTalkInstantcom': 3230, 'loti': 7898, 'Marvel': 2797, 'Ultimate': 4108, 'Spiderman': 3750, 'SPIDER': 3530, '83338': 839, '8Ball': 899, 'tamilnaduthen': 10309, 'tip': 10499, '07808247860': 39, '08719899229': 177, '40411': 611, '061104': 20, 'Apo': 1076, 'Perhaps': 3201, 'identification': 7293, 'limit': 7806, 'boundaries': 5134, 'endless': 6301, 'Machan': 2774, 'reassuring': 9242, 'lorWe': 7889, 'young': 11327, 'referin': 9283, 'meis': 8102, 'liaoSo': 7777, 'Miles': 2827, 'saibaba': 9511, 'colany': 5581, 'chic': 5468, 'Common': 1505, 'Declare': 1640, '49557': 646, '261104': 464, 'disappointment': 6059, 'irritation': 7430, 'tantrums': 10312, 'Compliments': 1510, 'adventuring': 4545, 'chief': 5472, 'Gsex': 2093, '2667': 465, 'WC1N': 4203, '3XX': 591, '3MOBILE': 582, 'CHATLINES': 1368, 'INCLU': 2314, 'MINS': 2724, 'CUST': 1410, 'SERVs': 3474, 'SED': 3462, 'L8ER': 2538, 'MEGA': 2710, 'BILL': 1161, 'BAILIFF': 1133, 'DUE': 1612, 'Armand': 1087, 'mouse': 8268, 'desk': 5977, 'Ic': 2343, 'childporn': 5485, 'jumpers': 7552, 'hat': 7044, 'belt': 5007, 'Cribbs': 1540, 'spiritual': 9996, 'barring': 4927, 'sudden': 10187, 'influx': 7353, 'Yeh': 4420, 'Tho': 3985, 'kane': 7573, 'shud': 9756, 'Mite': 2840, 'Pshewmissing': 3293, 'units': 10745, 'accent': 4482, '4years': 683, 'dental': 5958, 'nmde': 8448, 'dump': 6203, 'heap': 7065, 'lowes': 7928, 'BORING': 1176, 'salesman': 9518, 'REMINDER': 3342, '£750': 11408, '087187272008': 160, 'NOW1': 2937, 'Pity': 3228, 'Soany': 3721, 'suggestions': 10199, 'bitching': 5055}\n"
     ]
    }
   ],
   "source": [
    "bow_transformer = CountVectorizer(analyzer=text_process).fit(messages['message'])\n",
    "\n",
    "# Print total number of vocab words\n",
    "print(bow_transformer.vocabulary_)"
   ]
  },
  {
   "cell_type": "code",
   "execution_count": 18,
   "metadata": {},
   "outputs": [
    {
     "name": "stdout",
     "output_type": "stream",
     "text": [
      "  (0, 1110)\t1\n",
      "  (0, 1483)\t1\n",
      "  (0, 2060)\t1\n",
      "  (0, 4653)\t1\n",
      "  (0, 5217)\t1\n",
      "  (0, 5218)\t1\n",
      "  (0, 5769)\t1\n",
      "  (0, 6217)\t1\n",
      "  (0, 6906)\t1\n",
      "  (0, 6937)\t1\n",
      "  (0, 7555)\t1\n",
      "  (0, 7668)\t1\n",
      "  (0, 8336)\t1\n",
      "  (0, 8917)\t1\n",
      "  (0, 10965)\t1\n",
      "  (0, 11163)\t1\n",
      "  (1, 2451)\t1\n",
      "  (1, 3064)\t1\n",
      "  (1, 7701)\t1\n",
      "  (1, 8590)\t1\n",
      "  (1, 10698)\t1\n",
      "  (1, 11072)\t1\n",
      "  (2, 73)\t1\n",
      "  (2, 423)\t1\n",
      "  (2, 430)\t1\n",
      "  :\t:\n",
      "  (5568, 6691)\t1\n",
      "  (5568, 6882)\t1\n",
      "  (5568, 7159)\t1\n",
      "  (5568, 11418)\t1\n",
      "  (5569, 3228)\t1\n",
      "  (5569, 3721)\t1\n",
      "  (5569, 8252)\t1\n",
      "  (5569, 10199)\t1\n",
      "  (5570, 4508)\t1\n",
      "  (5570, 5055)\t1\n",
      "  (5570, 5251)\t1\n",
      "  (5570, 6282)\t1\n",
      "  (5570, 6699)\t1\n",
      "  (5570, 6799)\t1\n",
      "  (5570, 6984)\t1\n",
      "  (5570, 7287)\t1\n",
      "  (5570, 7394)\t1\n",
      "  (5570, 7800)\t1\n",
      "  (5570, 8420)\t1\n",
      "  (5570, 9915)\t1\n",
      "  (5570, 10787)\t1\n",
      "  (5570, 11006)\t1\n",
      "  (5571, 3431)\t1\n",
      "  (5571, 8348)\t1\n",
      "  (5571, 10648)\t1\n"
     ]
    }
   ],
   "source": [
    "messages_bow = bow_transformer.transform(messages['message'])\n",
    "print(messages_bow)"
   ]
  },
  {
   "cell_type": "code",
   "execution_count": 19,
   "metadata": {},
   "outputs": [
    {
     "name": "stdout",
     "output_type": "stream",
     "text": [
      "Shape of Sparse Matrix:  (5572, 11425)\n",
      "Amount of Non-Zero occurences:  50548\n"
     ]
    }
   ],
   "source": [
    "print('Shape of Sparse Matrix: ', messages_bow.shape)\n",
    "print('Amount of Non-Zero occurences: ', messages_bow.nnz)"
   ]
  },
  {
   "cell_type": "code",
   "execution_count": 20,
   "metadata": {},
   "outputs": [
    {
     "name": "stdout",
     "output_type": "stream",
     "text": [
      "sparsity: 0\n"
     ]
    }
   ],
   "source": [
    "sparsity = (100.0 * messages_bow.nnz / (messages_bow.shape[0] * messages_bow.shape[1]))\n",
    "print('sparsity: {}'.format(round(sparsity)))"
   ]
  },
  {
   "cell_type": "code",
   "execution_count": 21,
   "metadata": {},
   "outputs": [],
   "source": [
    "from sklearn.feature_extraction.text import TfidfTransformer\n",
    "\n",
    "tfidf_transformer = TfidfTransformer().fit(messages_bow)"
   ]
  },
  {
   "cell_type": "code",
   "execution_count": 22,
   "metadata": {},
   "outputs": [
    {
     "name": "stdout",
     "output_type": "stream",
     "text": [
      "3.2800524267409408\n",
      "8.527076498901426\n",
      "TfidfTransformer()\n"
     ]
    }
   ],
   "source": [
    "print(tfidf_transformer.idf_[bow_transformer.vocabulary_['u']])\n",
    "print(tfidf_transformer.idf_[bow_transformer.vocabulary_['university']])\n",
    "print(tfidf_transformer)"
   ]
  },
  {
   "cell_type": "code",
   "execution_count": 23,
   "metadata": {},
   "outputs": [
    {
     "name": "stdout",
     "output_type": "stream",
     "text": [
      "  (0, 11163)\t0.23026685592418913\n",
      "  (0, 10965)\t0.19073428545061483\n",
      "  (0, 8917)\t0.24704652376837993\n",
      "  (0, 8336)\t0.17046869292195632\n",
      "  (0, 7668)\t0.26403384065473806\n",
      "  (0, 7555)\t0.31253856260694546\n",
      "  (0, 6937)\t0.1834692413608692\n",
      "  (0, 6906)\t0.15158474664662352\n",
      "  (0, 6217)\t0.18915557732842803\n",
      "  (0, 5769)\t0.24984711892976424\n",
      "  (0, 5218)\t0.26870593862526665\n",
      "  (0, 5217)\t0.29835184088197164\n",
      "  (0, 4653)\t0.31253856260694546\n",
      "  (0, 2060)\t0.24203960256420656\n",
      "  (0, 1483)\t0.31253856260694546\n",
      "  (0, 1110)\t0.2882862016308418\n",
      "  (1, 11072)\t0.40061560982443056\n",
      "  (1, 10698)\t0.2063637481323008\n",
      "  (1, 8590)\t0.5043405901305854\n",
      "  (1, 7701)\t0.3767401070812794\n",
      "  (1, 3064)\t0.2911995411244838\n",
      "  (1, 2451)\t0.561988811929381\n",
      "  (2, 11123)\t0.19104387220509106\n",
      "  (2, 11084)\t0.15898145347176754\n",
      "  (2, 10686)\t0.13995540820792943\n",
      "  :\t:\n",
      "  (5568, 6882)\t0.31367469776242124\n",
      "  (5568, 6691)\t0.47781076401785183\n",
      "  (5568, 6354)\t0.5575721048646767\n",
      "  (5568, 4880)\t0.3853122086093004\n",
      "  (5569, 10199)\t0.520467167163554\n",
      "  (5569, 8252)\t0.4328299709057074\n",
      "  (5569, 3721)\t0.520467167163554\n",
      "  (5569, 3228)\t0.520467167163554\n",
      "  (5570, 11006)\t0.20434525994453323\n",
      "  (5570, 10787)\t0.22867843486502568\n",
      "  (5570, 9915)\t0.22380228376189748\n",
      "  (5570, 8420)\t0.22651675757217207\n",
      "  (5570, 7800)\t0.17243888184764117\n",
      "  (5570, 7394)\t0.3071475234812021\n",
      "  (5570, 7287)\t0.26786677935500575\n",
      "  (5570, 6984)\t0.2641640440122445\n",
      "  (5570, 6799)\t0.294185812624235\n",
      "  (5570, 6699)\t0.2008376534326777\n",
      "  (5570, 6282)\t0.2607702439080329\n",
      "  (5570, 5251)\t0.302353515740512\n",
      "  (5570, 5055)\t0.36357250744470165\n",
      "  (5570, 4508)\t0.3470692575834817\n",
      "  (5571, 10648)\t0.539218119882165\n",
      "  (5571, 8348)\t0.48542915408134024\n",
      "  (5571, 3431)\t0.6881877327870772\n"
     ]
    }
   ],
   "source": [
    "messages_tfidf = tfidf_transformer.transform(messages_bow)\n",
    "print(messages_tfidf)"
   ]
  },
  {
   "cell_type": "code",
   "execution_count": 24,
   "metadata": {},
   "outputs": [],
   "source": [
    "from sklearn.naive_bayes import MultinomialNB\n",
    "spam_detect_model = MultinomialNB().fit(messages_tfidf, messages['label'])"
   ]
  },
  {
   "cell_type": "code",
   "execution_count": 25,
   "metadata": {},
   "outputs": [
    {
     "name": "stdout",
     "output_type": "stream",
     "text": [
      "['ham' 'ham' 'spam' ... 'ham' 'ham' 'ham']\n"
     ]
    }
   ],
   "source": [
    "all_predictions = spam_detect_model.predict(messages_tfidf)\n",
    "print(all_predictions)"
   ]
  },
  {
   "cell_type": "code",
   "execution_count": 26,
   "metadata": {},
   "outputs": [
    {
     "name": "stdout",
     "output_type": "stream",
     "text": [
      "              precision    recall  f1-score   support\n",
      "\n",
      "         ham       0.98      1.00      0.99      4825\n",
      "        spam       1.00      0.85      0.92       747\n",
      "\n",
      "    accuracy                           0.98      5572\n",
      "   macro avg       0.99      0.92      0.95      5572\n",
      "weighted avg       0.98      0.98      0.98      5572\n",
      "\n"
     ]
    }
   ],
   "source": [
    "from sklearn.metrics import classification_report\n",
    "print (classification_report(messages['label'], all_predictions))"
   ]
  },
  {
   "cell_type": "code",
   "execution_count": 27,
   "metadata": {},
   "outputs": [
    {
     "name": "stdout",
     "output_type": "stream",
     "text": [
      "1145    Really... I tot ur paper ended long ago... But...\n",
      "4324                          Aight well keep me informed\n",
      "4562    Good afternoon my boytoy. How goes that walkin...\n",
      "744                    Ok. There may be a free gym about.\n",
      "1088                             You can never do NOTHING\n",
      "                              ...                        \n",
      "4665                      Mum not going robinson already.\n",
      "1727    ALRITE HUNNY!WOT U UP 2 2NITE? DIDNT END UP GO...\n",
      "4271    Great. Hope you are using your connections fro...\n",
      "2797    Tell your friends what you plan to do on Valen...\n",
      "1691    Sunshine Quiz Wkly Q! Win a top Sony DVD playe...\n",
      "Name: message, Length: 4457, dtype: object\n",
      "------------------------------\n",
      "1967    What's a feathery bowa? Is that something guys...\n",
      "663     Sorry me going home first... Daddy come fetch ...\n",
      "3070                    Ay wana meet on sat?ü wkg on sat?\n",
      "5488                              K. I will sent it again\n",
      "4707    Wow so healthy. Old airport rd lor. Cant thk o...\n",
      "                              ...                        \n",
      "1903             My sister got placed in birla soft da:-)\n",
      "958                            Welp apparently he retired\n",
      "3936                             You need to get up. Now.\n",
      "3622    That means from february to april i'll be gett...\n",
      "2067                           Then. You are eldest know.\n",
      "Name: message, Length: 1115, dtype: object\n",
      "------------------------------\n",
      "5572\n"
     ]
    }
   ],
   "source": [
    "from sklearn.model_selection import train_test_split\n",
    "\n",
    "msg_train, msg_test, label_train, label_test = \\\n",
    "train_test_split(messages['message'], messages['label'], test_size=0.2)\n",
    "\n",
    "print(msg_train)\n",
    "print(\"------------------------------\")\n",
    "print(msg_test)\n",
    "print(\"------------------------------\")\n",
    "print(len(msg_train) + len(msg_test))"
   ]
  },
  {
   "cell_type": "code",
   "execution_count": 106,
   "metadata": {},
   "outputs": [],
   "source": [
    "from sklearn.pipeline import Pipeline\n",
    "\n",
    "pipeline = Pipeline([\n",
    "    ('bow', CountVectorizer(analyzer=text_process)),  # strings to token integer counts\n",
    "    ('tfidf', TfidfTransformer()),  # integer counts to weighted TF-IDF scores\n",
    "    ('classifier', MultinomialNB()),  # train on TF-IDF vectors w/ Naive Bayes classifier\n",
    "])"
   ]
  },
  {
   "cell_type": "code",
   "execution_count": 107,
   "metadata": {},
   "outputs": [
    {
     "data": {
      "text/plain": [
       "Pipeline(steps=[('bow',\n",
       "                 CountVectorizer(analyzer=<function text_process at 0x00000212659B9948>)),\n",
       "                ('tfidf', TfidfTransformer()),\n",
       "                ('classifier', MultinomialNB())])"
      ]
     },
     "execution_count": 107,
     "metadata": {},
     "output_type": "execute_result"
    }
   ],
   "source": [
    "pipeline.fit(msg_train,label_train)"
   ]
  },
  {
   "cell_type": "code",
   "execution_count": 108,
   "metadata": {},
   "outputs": [],
   "source": [
    "predictions = pipeline.predict(msg_test)"
   ]
  },
  {
   "cell_type": "code",
   "execution_count": 101,
   "metadata": {},
   "outputs": [
    {
     "name": "stdout",
     "output_type": "stream",
     "text": [
      "              precision    recall  f1-score   support\n",
      "\n",
      "         ham       1.00      0.97      0.98      1014\n",
      "        spam       0.77      1.00      0.87       101\n",
      "\n",
      "    accuracy                           0.97      1115\n",
      "   macro avg       0.88      0.98      0.93      1115\n",
      "weighted avg       0.98      0.97      0.97      1115\n",
      "\n"
     ]
    }
   ],
   "source": [
    "print(classification_report(predictions,label_test))"
   ]
  },
  {
   "cell_type": "code",
   "execution_count": 102,
   "metadata": {},
   "outputs": [
    {
     "data": {
      "text/plain": [
       "sklearn.pipeline.Pipeline"
      ]
     },
     "execution_count": 102,
     "metadata": {},
     "output_type": "execute_result"
    }
   ],
   "source": [
    "type(pipeline)"
   ]
  },
  {
   "cell_type": "code",
   "execution_count": 53,
   "metadata": {},
   "outputs": [
    {
     "name": "stdout",
     "output_type": "stream",
     "text": [
      "Collecting dill\n",
      "  Downloading dill-0.3.3-py2.py3-none-any.whl (81 kB)\n",
      "Installing collected packages: dill\n",
      "Successfully installed dill-0.3.3\n",
      "Note: you may need to restart the kernel to use updated packages.\n"
     ]
    }
   ],
   "source": [
    "pip install dill"
   ]
  },
  {
   "cell_type": "code",
   "execution_count": 109,
   "metadata": {},
   "outputs": [],
   "source": [
    "import pickle\n",
    "ff = open('Spammodel_v1.pkl', 'wb')\n",
    "pickle.dump(pipeline, ff) "
   ]
  },
  {
   "cell_type": "code",
   "execution_count": 114,
   "metadata": {},
   "outputs": [
    {
     "data": {
      "text/plain": [
       "['Spam_filename.pkl']"
      ]
     },
     "execution_count": 114,
     "metadata": {},
     "output_type": "execute_result"
    }
   ],
   "source": [
    "import joblib\n",
    "joblib.dump(pipeline, 'Spam_filename.pkl')\n",
    "\n",
    "# joblib.dump(pipeline.get_params()['bow'], 'Spam_filename.pkl')"
   ]
  },
  {
   "cell_type": "code",
   "execution_count": 87,
   "metadata": {},
   "outputs": [],
   "source": [
    "data = {'content': ['Free entry in 2 a wkly comp to win FA Cup final tkts 21st May 2005. Text FA to 87121 to receive entry question(std txt rate)T&C']}\n",
    "df = pd.DataFrame(data)"
   ]
  },
  {
   "cell_type": "code",
   "execution_count": 88,
   "metadata": {},
   "outputs": [
    {
     "data": {
      "text/html": [
       "<div>\n",
       "<style scoped>\n",
       "    .dataframe tbody tr th:only-of-type {\n",
       "        vertical-align: middle;\n",
       "    }\n",
       "\n",
       "    .dataframe tbody tr th {\n",
       "        vertical-align: top;\n",
       "    }\n",
       "\n",
       "    .dataframe thead th {\n",
       "        text-align: right;\n",
       "    }\n",
       "</style>\n",
       "<table border=\"1\" class=\"dataframe\">\n",
       "  <thead>\n",
       "    <tr style=\"text-align: right;\">\n",
       "      <th></th>\n",
       "      <th>content</th>\n",
       "    </tr>\n",
       "  </thead>\n",
       "  <tbody>\n",
       "    <tr>\n",
       "      <th>0</th>\n",
       "      <td>Free entry in 2 a wkly comp to win FA Cup fina...</td>\n",
       "    </tr>\n",
       "  </tbody>\n",
       "</table>\n",
       "</div>"
      ],
      "text/plain": [
       "                                             content\n",
       "0  Free entry in 2 a wkly comp to win FA Cup fina..."
      ]
     },
     "execution_count": 88,
     "metadata": {},
     "output_type": "execute_result"
    }
   ],
   "source": [
    "df"
   ]
  },
  {
   "cell_type": "code",
   "execution_count": 89,
   "metadata": {},
   "outputs": [],
   "source": [
    "output1 = loaded_model.predict_proba(df['content'])"
   ]
  },
  {
   "cell_type": "code",
   "execution_count": 90,
   "metadata": {},
   "outputs": [],
   "source": [
    "df['spam-score'] = output1[:,0]"
   ]
  },
  {
   "cell_type": "code",
   "execution_count": 91,
   "metadata": {},
   "outputs": [
    {
     "data": {
      "text/html": [
       "<div>\n",
       "<style scoped>\n",
       "    .dataframe tbody tr th:only-of-type {\n",
       "        vertical-align: middle;\n",
       "    }\n",
       "\n",
       "    .dataframe tbody tr th {\n",
       "        vertical-align: top;\n",
       "    }\n",
       "\n",
       "    .dataframe thead th {\n",
       "        text-align: right;\n",
       "    }\n",
       "</style>\n",
       "<table border=\"1\" class=\"dataframe\">\n",
       "  <thead>\n",
       "    <tr style=\"text-align: right;\">\n",
       "      <th></th>\n",
       "      <th>content</th>\n",
       "      <th>spam-score</th>\n",
       "    </tr>\n",
       "  </thead>\n",
       "  <tbody>\n",
       "    <tr>\n",
       "      <th>0</th>\n",
       "      <td>Free entry in 2 a wkly comp to win FA Cup fina...</td>\n",
       "      <td>0.064115</td>\n",
       "    </tr>\n",
       "  </tbody>\n",
       "</table>\n",
       "</div>"
      ],
      "text/plain": [
       "                                             content  spam-score\n",
       "0  Free entry in 2 a wkly comp to win FA Cup fina...    0.064115"
      ]
     },
     "execution_count": 91,
     "metadata": {},
     "output_type": "execute_result"
    }
   ],
   "source": [
    "df"
   ]
  },
  {
   "cell_type": "code",
   "execution_count": null,
   "metadata": {},
   "outputs": [],
   "source": []
  }
 ],
 "metadata": {
  "kernelspec": {
   "display_name": "Python 3",
   "language": "python",
   "name": "python3"
  },
  "language_info": {
   "codemirror_mode": {
    "name": "ipython",
    "version": 3
   },
   "file_extension": ".py",
   "mimetype": "text/x-python",
   "name": "python",
   "nbconvert_exporter": "python",
   "pygments_lexer": "ipython3",
   "version": "3.7.6"
  }
 },
 "nbformat": 4,
 "nbformat_minor": 4
}
